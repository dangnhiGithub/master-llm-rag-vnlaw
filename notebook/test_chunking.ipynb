{
 "cells": [
  {
   "cell_type": "markdown",
   "metadata": {},
   "source": [
    "# Libs"
   ]
  },
  {
   "cell_type": "code",
   "execution_count": 2,
   "metadata": {},
   "outputs": [
    {
     "name": "stdout",
     "output_type": "stream",
     "text": [
      "d:\\DANG NHI\\repos\\master-llm-rag-vnlaw\n"
     ]
    }
   ],
   "source": [
    "import os\n",
    "while os.getcwd().split('\\\\')[-1] != 'master-llm-rag-vnlaw':\n",
    "    os.chdir('..')\n",
    "    print(os.getcwd())"
   ]
  },
  {
   "cell_type": "code",
   "execution_count": 3,
   "metadata": {},
   "outputs": [],
   "source": [
    "import pandas as pd\n",
    "import numpy as np\n",
    "import os\n",
    "import sys\n",
    "import regex as re\n",
    "import json"
   ]
  },
  {
   "cell_type": "code",
   "execution_count": 4,
   "metadata": {},
   "outputs": [],
   "source": [
    "MAX_LEN = 500\n",
    "OVERLAP = 100"
   ]
  },
  {
   "cell_type": "code",
   "execution_count": 5,
   "metadata": {},
   "outputs": [],
   "source": [
    "json_path = 'data/BaoHiem.json'"
   ]
  },
  {
   "cell_type": "code",
   "execution_count": 5,
   "metadata": {},
   "outputs": [],
   "source": [
    "# Read data from JSON file\n",
    "with open(json_path, 'r', encoding='utf-8') as f:\n",
    "    data = json.load(f)"
   ]
  },
  {
   "cell_type": "code",
   "execution_count": 6,
   "metadata": {},
   "outputs": [],
   "source": [
    "data = data[0]['content']"
   ]
  },
  {
   "cell_type": "code",
   "execution_count": 6,
   "metadata": {},
   "outputs": [
    {
     "ename": "NameError",
     "evalue": "name 'data' is not defined",
     "output_type": "error",
     "traceback": [
      "\u001b[1;31m---------------------------------------------------------------------------\u001b[0m",
      "\u001b[1;31mNameError\u001b[0m                                 Traceback (most recent call last)",
      "Cell \u001b[1;32mIn[6], line 2\u001b[0m\n\u001b[0;32m      1\u001b[0m \u001b[38;5;28;01mfor\u001b[39;00m i \u001b[38;5;129;01min\u001b[39;00m \u001b[38;5;28mrange\u001b[39m(\u001b[38;5;241m5\u001b[39m):\n\u001b[1;32m----> 2\u001b[0m     s \u001b[38;5;241m=\u001b[39m \u001b[43mdata\u001b[49m[i]\n\u001b[0;32m      3\u001b[0m     s \u001b[38;5;241m=\u001b[39m re\u001b[38;5;241m.\u001b[39msub(\u001b[38;5;124m'\u001b[39m\u001b[38;5;124mCỘNG HÒA XÃ HỘI CHỦ NGHĨA VIỆT NAM\u001b[39m\u001b[38;5;124m'\u001b[39m, \u001b[38;5;124m'\u001b[39m\u001b[38;5;124m'\u001b[39m, s)\n\u001b[0;32m      4\u001b[0m     s \u001b[38;5;241m=\u001b[39m re\u001b[38;5;241m.\u001b[39msub(\u001b[38;5;124m'\u001b[39m\u001b[38;5;124mĐộc lập - Tự do - Hạnh phúc\u001b[39m\u001b[38;5;124m'\u001b[39m, \u001b[38;5;124m'\u001b[39m\u001b[38;5;124m'\u001b[39m, s)\n",
      "\u001b[1;31mNameError\u001b[0m: name 'data' is not defined"
     ]
    }
   ],
   "source": [
    "for i in range(5):\n",
    "    s = data[i]\n",
    "    s = re.sub('CỘNG HÒA XÃ HỘI CHỦ NGHĨA VIỆT NAM', '', s)\n",
    "    s = re.sub('Độc lập - Tự do - Hạnh phúc', '', s)\n",
    "    s = re.sub('[- ]+', ' ', s)\n",
    "    s = s.strip()\n",
    "    data[i] = s\n",
    "\n",
    "for i in range(3):\n",
    "    for i in range(5):\n",
    "        if len(data[i]) < 1:\n",
    "            data.pop(i)\n",
    "            break"
   ]
  },
  {
   "cell_type": "code",
   "execution_count": null,
   "metadata": {},
   "outputs": [],
   "source": [
    "def count_words(input_text):\n",
    "    return len(input_text.split())\n",
    "\n",
    "def markdown_chunking(paragraphs, max_len=512, overlap=100):\n",
    "    lst_chunks = []\n",
    "    current_chunk = ''\n",
    "    for p in paragraphs:\n",
    "        if count_words(current_chunk) + count_words(p) <= max_len:\n",
    "            if len(current_chunk) == 0:\n",
    "                current_chunk = p\n",
    "            else:\n",
    "                current_chunk = \"\\n\".join([current_chunk, p])\n",
    "        else:\n",
    "            lst_chunks.append(current_chunk)\n",
    "            current_chunk = \" \".join(current_chunk.split(\" \")[-100:]) + \"\\n\" + p\n",
    "\n",
    "    lst_chunks.append(current_chunk)\n",
    "    return lst_chunks \n",
    "\n",
    "lst_chunks = markdown_chunking(data, max_len=MAX_LEN, overlap=OVERLAP)\n",
    "\n",
    "# def markdown_chunking(paragraphs, max_len=512, overlap=100):\n",
    "#     lst_counts = [count_words(i) for i in paragraphs]\n",
    "#     lst_groups = []\n",
    "#     group_idx = []\n",
    "\n",
    "#     for i in range(len(lst_counts)):\n",
    "#         if sum([lst_counts[k] for k in group_idx]) + lst_counts[i] <= max_len:\n",
    "#             group_idx.append(i)\n",
    "#         else:\n",
    "#             lst_groups.append(group_idx)\n",
    "\n",
    "#             j = 1\n",
    "#             while sum([lst_counts[k] for k in group_idx[-j:]]) < overlap:\n",
    "#                 j += 1\n",
    "#             group_idx = group_idx[-j:] + [i]\n",
    "\n",
    "#     if len(group_idx) > 0:\n",
    "#         lst_groups.append(group_idx)\n",
    "\n",
    "#     lst_chunks = [[paragraphs[i] for i in g] for g in lst_groups]\n",
    "#     lst_chunks = [' \\n '.join(i) for i in lst_chunks]\n",
    "#     return lst_chunks\n",
    "\n",
    "# def preprocess_phrase2_chunk_level(input_text):\n",
    "#     s = input_text\n",
    "#     s = re.sub('(?<=\\n)[\\n ]+', ' ', s)\n",
    "#     return s"
   ]
  },
  {
   "cell_type": "markdown",
   "metadata": {},
   "source": [
    "# Chunking"
   ]
  },
  {
   "cell_type": "code",
   "execution_count": 13,
   "metadata": {},
   "outputs": [],
   "source": [
    "lst_chunks = []"
   ]
  },
  {
   "cell_type": "code",
   "execution_count": 14,
   "metadata": {},
   "outputs": [],
   "source": [
    "folders = os.listdir(data_path)\n",
    "\n",
    "for folder in folders:\n",
    "    files = os.listdir(data_path + \"/\" + folder)\n",
    "    for file in files:\n",
    "        if file.endswith(\".txt\"):\n",
    "            with open(data_path + \"/\" + folder + \"/\" + file, 'r', encoding='utf-8') as f:\n",
    "                content = f.read()\n",
    "                content = preprocess_phrase1(content)\n",
    "                chunks = markdown_chunking(content, MAX_LEN, OVERLAP)\n",
    "                chunks = [preprocess_phrase2_chunk_level(c) for c in chunks]\n",
    "                lst_chunks.append(chunks)\n",
    "\n",
    "    break\n",
    "        \n",
    "        "
   ]
  },
  {
   "cell_type": "code",
   "execution_count": 21,
   "metadata": {},
   "outputs": [],
   "source": [
    "pairs = []"
   ]
  },
  {
   "cell_type": "code",
   "execution_count": 31,
   "metadata": {},
   "outputs": [],
   "source": [
    "def get_very_positive_pairs(lst_chunks):\n",
    "    pairs = []\n",
    "    for i in range(len(lst_chunks)):\n",
    "        for j in range(i+1, len(lst_chunks)):\n",
    "            pairs.append((lst_chunks[i], lst_chunks[j], 1))\n",
    "    return pairs"
   ]
  },
  {
   "cell_type": "code",
   "execution_count": 33,
   "metadata": {},
   "outputs": [],
   "source": [
    "def get_low_positive_pairs(lst_chunks1, lst_chunks2):\n",
    "    pairs = []\n",
    "    for i in range(len(lst_chunks1)):\n",
    "        for j in range(len(lst_chunks2)):\n",
    "            pairs.append((lst_chunks1[i], lst_chunks2[j], 0.5))\n",
    "    return pairs"
   ]
  },
  {
   "cell_type": "code",
   "execution_count": null,
   "metadata": {},
   "outputs": [],
   "source": [
    "def get_negative_pairs(lst_chunks1, lst_chunks2):\n",
    "    pairs = []\n",
    "    for i in range(len(lst_chunks)):\n",
    "        for j in range(i+1, len(lst_chunks)):\n",
    "            pairs.append((lst_chunks[i], lst_chunks[j], 0))\n",
    "    return pairs"
   ]
  },
  {
   "cell_type": "code",
   "execution_count": 34,
   "metadata": {},
   "outputs": [],
   "source": [
    "low_positives_pairs = get_low_positive_pairs(lst_chunks[0], lst_chunks[1])"
   ]
  },
  {
   "cell_type": "code",
   "execution_count": 38,
   "metadata": {},
   "outputs": [
    {
     "data": {
      "text/plain": [
       "9"
      ]
     },
     "execution_count": 38,
     "metadata": {},
     "output_type": "execute_result"
    }
   ],
   "source": [
    "len(lst_chunks[0])"
   ]
  },
  {
   "cell_type": "code",
   "execution_count": 36,
   "metadata": {},
   "outputs": [
    {
     "data": {
      "text/plain": [
       "99"
      ]
     },
     "execution_count": 36,
     "metadata": {},
     "output_type": "execute_result"
    }
   ],
   "source": [
    "len(low_positives_pairs)"
   ]
  },
  {
   "cell_type": "code",
   "execution_count": null,
   "metadata": {},
   "outputs": [],
   "source": [
    "content = preprocess_phrase1(content)\n",
    "out = markdown_chunking(content, max_len=MAX_LEN, overlap=OVERLAP)"
   ]
  },
  {
   "cell_type": "code",
   "execution_count": null,
   "metadata": {},
   "outputs": [],
   "source": []
  },
  {
   "cell_type": "markdown",
   "metadata": {},
   "source": [
    "# "
   ]
  },
  {
   "cell_type": "code",
   "execution_count": null,
   "metadata": {},
   "outputs": [],
   "source": []
  }
 ],
 "metadata": {
  "kernelspec": {
   "display_name": "llm-mining",
   "language": "python",
   "name": "python3"
  },
  "language_info": {
   "codemirror_mode": {
    "name": "ipython",
    "version": 3
   },
   "file_extension": ".py",
   "mimetype": "text/x-python",
   "name": "python",
   "nbconvert_exporter": "python",
   "pygments_lexer": "ipython3",
   "version": "3.10.16"
  }
 },
 "nbformat": 4,
 "nbformat_minor": 2
}
