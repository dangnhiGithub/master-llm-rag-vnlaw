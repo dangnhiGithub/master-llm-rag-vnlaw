{
 "cells": [
  {
   "cell_type": "code",
   "execution_count": 3,
   "metadata": {},
   "outputs": [
    {
     "name": "stdout",
     "output_type": "stream",
     "text": [
      "c:\\Users\\Admin\\Desktop\\DANG NHI\\Cao học - Khai thác văn bản\\Đồ án cuối kỳ\n"
     ]
    }
   ],
   "source": [
    "import os\n",
    "while os.getcwd().split('\\\\')[-1] != 'Đồ án cuối kỳ':\n",
    "    os.chdir('..')\n",
    "    print(os.getcwd())"
   ]
  },
  {
   "cell_type": "code",
   "execution_count": 4,
   "metadata": {},
   "outputs": [],
   "source": [
    "import requests\n",
    "from bs4 import BeautifulSoup\n",
    "import regex as re"
   ]
  },
  {
   "cell_type": "code",
   "execution_count": 5,
   "metadata": {},
   "outputs": [],
   "source": [
    "urls = [\n",
    "    # \"https://dulieuphapluat.vn/van-ban/tai-chinh-ngan-hang-van-ban/quyet-dinh-042023qd-ubnd-cua-uy-ban-nhan-dan-tinh-nam-dinh-ve-viec-quy-dinh-danh-muc-tai-san-co-dinh-dac-thu-thuoc-pham-vi-quan-ly-cua-tinh-nam-dinh-1101192.html\",\n",
    "    # 'https://dulieuphapluat.vn/van-ban/tai-chinh-ngan-hang-van-ban/cong-van-2732btc-tcdn-cua-bo-tai-chinh-ve-viec-xac-dinh-tien-ban-co-phan-phai-nop-ve-quy-va-tien-lai-cham-nop-1102534.html',\n",
    "    \"https://dulieuphapluat.vn/van-ban/dich-vu-phap-ly-van-ban/quyet-dinh-3093qd-ubnd-nam-2023-cong-bo-danh-muc-thu-tuc-hanh-chinh-moi-sua-doi-bo-sung-trong-linh-vuc-cong-chung-thuoc-tham-quyen-giai-quyet-cua-nganh-tu-phap-tinh-dong-nai-1168675.html\",\n",
    "    ]"
   ]
  },
  {
   "cell_type": "code",
   "execution_count": 6,
   "metadata": {},
   "outputs": [
    {
     "name": "stdout",
     "output_type": "stream",
     "text": [
      "https://dulieuphapluat.vn/van-ban/dich-vu-phap-ly-van-ban/quyet-dinh-3093qd-ubnd-nam-2023-cong-bo-danh-muc-thu-tuc-hanh-chinh-moi-sua-doi-bo-sung-trong-linh-vuc-cong-chung-thuoc-tham-quyen-giai-quyet-cua-nganh-tu-phap-tinh-dong-nai-1168675.html\n"
     ]
    }
   ],
   "source": [
    "doc_data = dict()\n",
    "\n",
    "url = urls[0]\n",
    "\n",
    "doc_data['url'] = url\n",
    "\n",
    "print(url)\n",
    "respones = requests.get(url)\n",
    "soup = BeautifulSoup(respones.content, \"html.parser\")"
   ]
  },
  {
   "cell_type": "code",
   "execution_count": 7,
   "metadata": {},
   "outputs": [
    {
     "name": "stdout",
     "output_type": "stream",
     "text": [
      "{'url': 'https://dulieuphapluat.vn/van-ban/dich-vu-phap-ly-van-ban/quyet-dinh-3093qd-ubnd-nam-2023-cong-bo-danh-muc-thu-tuc-hanh-chinh-moi-sua-doi-bo-sung-trong-linh-vuc-cong-chung-thuoc-tham-quyen-giai-quyet-cua-nganh-tu-phap-tinh-dong-nai-1168675.html', 'name': 'Quyết định 3093/QĐ-UBND'}\n"
     ]
    }
   ],
   "source": [
    "head_line = soup.find(class_=\"custom-breadcrumb-1\")\n",
    "head_line = head_line.get_text(strip=True)\n",
    "name_CV = head_line.split(\"»\")[-1].strip()\n",
    "doc_data['name'] = name_CV\n",
    "\n",
    "print(doc_data)"
   ]
  },
  {
   "cell_type": "code",
   "execution_count": 8,
   "metadata": {},
   "outputs": [
    {
     "ename": "AttributeError",
     "evalue": "'NoneType' object has no attribute 'get_text'",
     "output_type": "error",
     "traceback": [
      "\u001b[1;31m---------------------------------------------------------------------------\u001b[0m",
      "\u001b[1;31mAttributeError\u001b[0m                            Traceback (most recent call last)",
      "Cell \u001b[1;32mIn[8], line 2\u001b[0m\n\u001b[0;32m      1\u001b[0m keyword \u001b[38;5;241m=\u001b[39m soup\u001b[38;5;241m.\u001b[39mfind(class_ \u001b[38;5;241m=\u001b[39m \u001b[38;5;124m\"\u001b[39m\u001b[38;5;124mkeyword_legal_doc\u001b[39m\u001b[38;5;124m\"\u001b[39m)\n\u001b[1;32m----> 2\u001b[0m keyword \u001b[38;5;241m=\u001b[39m keyword\u001b[38;5;241m.\u001b[39mget_text(strip\u001b[38;5;241m=\u001b[39m\u001b[38;5;28;01mTrue\u001b[39;00m, separator\u001b[38;5;241m=\u001b[39m\u001b[38;5;124m\"\u001b[39m\u001b[38;5;124m \u001b[39m\u001b[38;5;124m\"\u001b[39m)\n\u001b[0;32m      3\u001b[0m keyword \u001b[38;5;241m=\u001b[39m re\u001b[38;5;241m.\u001b[39msub(\u001b[38;5;124mr\u001b[39m\u001b[38;5;124m'\u001b[39m\u001b[38;5;124mTừ khóa:\u001b[39m\u001b[38;5;124m'\u001b[39m, \u001b[38;5;124m'\u001b[39m\u001b[38;5;124m'\u001b[39m, keyword)\n\u001b[0;32m      4\u001b[0m keyword \u001b[38;5;241m=\u001b[39m keyword\u001b[38;5;241m.\u001b[39msplit(\u001b[38;5;124m'\u001b[39m\u001b[38;5;124m,\u001b[39m\u001b[38;5;124m'\u001b[39m)\n",
      "\u001b[1;31mAttributeError\u001b[0m: 'NoneType' object has no attribute 'get_text'"
     ]
    }
   ],
   "source": [
    "keyword = soup.find(class_ = \"keyword_legal_doc\")\n",
    "keyword = keyword.get_text(strip=True, separator=\" \")\n",
    "keyword = re.sub(r'Từ khóa:', '', keyword)\n",
    "keyword = keyword.split(',')\n",
    "keyword = [i.strip() for i in keyword]\n",
    "doc_data['keyword'] = keyword"
   ]
  },
  {
   "cell_type": "code",
   "execution_count": 7,
   "metadata": {},
   "outputs": [],
   "source": [
    "legal_doc_content = soup.find(class_=\"legal_doc_content\")\n",
    "elements = legal_doc_content.find_all(['p'])\n",
    "content = [element.get_text(separator=\" \", strip=True) for element in elements]\n",
    "content = [i for i in content if len(i) > 0]\n",
    "doc_data['content'] = content\n"
   ]
  },
  {
   "cell_type": "code",
   "execution_count": 8,
   "metadata": {},
   "outputs": [],
   "source": [
    "import json\n",
    "\n",
    "write_data = [doc_data, doc_data]\n",
    "\n",
    "# Write data to JSON file\n",
    "with open('data.json', 'w', encoding='utf-8') as f:\n",
    "    json.dump(write_data, f, ensure_ascii=False, indent=4)"
   ]
  },
  {
   "cell_type": "code",
   "execution_count": 9,
   "metadata": {},
   "outputs": [],
   "source": [
    "# Read data from JSON file\n",
    "with open('data.json', 'r', encoding='utf-8') as f:\n",
    "    data = json.load(f)"
   ]
  },
  {
   "cell_type": "code",
   "execution_count": 13,
   "metadata": {},
   "outputs": [
    {
     "name": "stdout",
     "output_type": "stream",
     "text": [
      "ỦY BAN NHÂN DÂN TỈNH NAM ĐỊNH -------\n",
      "CỘNG HÒA XÃ HỘI CHỦ NGHĨA VIỆT NAM Độc lập - Tự do - Hạnh phúc ---------------\n",
      "Số: 04/2023/QĐ-UBND\n",
      "Nam Định, ngày 14 tháng 02 năm 2023\n",
      "QUYẾT ĐỊNH\n",
      "QUY ĐỊNH DANH MỤC TÀI SẢN CỐ ĐỊNH ĐẶC THÙ THUỘC PHẠM VI QUẢN LÝ CỦA TỈNH NAM ĐỊNH\n",
      "ỦY BAN NHÂN DÂN TỈNH NAM ĐỊNH\n",
      "Căn cứ Luật Tổ chức chính quyền địa phương ngày 19 tháng 6 năm 2015; Luật sửa đổi, bổ sung một số điều của Luật Tổ chức Chính phủ và Luật Tổ chức chính quyền địa phương ngày 22 tháng 11 năm 2019;\n",
      "Căn cứ Luật Quản lý, sử dụng tài sản công ngày 21 tháng 06 năm 2017 ;\n",
      "Căn cứ Nghị định số 151/2017/NĐ-CP ngày 26/12/2017 của Chính phủ quy định chi tiết một số điều của Luật Quản lý, sử dụng tài sản công;\n",
      "Căn cứ Thông tư số 45/2018/TT-BTC ngày 07/5/2018 của Bộ Tài chính hướng dẫn chế độ quản lý, tính hao mòn, khấu hao tài sản cố định tại cơ quan, tổ chức, đơn vị và tài sản cố định do Nhà nước giao cho doanh nghiệp quản lý không tính thành phần vốn nhà nước tại doanh nghiệp;\n",
      "Theo đề nghị của Giám đốc Sở Tài chính tại Tờ trình số 630/TTr-STC ngày 08 tháng 12 năm 2022 về việc quy định danh mục tài sản cố định đặc thù thuộc phạm vi quản lý của tỉnh Nam Định; Báo cáo thẩm định số 1698/BC-STP ngày 05 tháng 12 năm 2022 của Sở Tư pháp.\n",
      "QUYẾT ĐỊNH:\n",
      "Điều 1. Quy định danh mục tài sản cố định đặc thù thuộc phạm vi quản lý của tỉnh Nam Định như sau:\n",
      "1. Đối tượng áp dụng\n",
      "Cơ quan nhà nước, cơ quan Đảng Cộng sản Việt Nam, tổ chức chính trị - xã hội được ngân sách nhà nước đảm bảo kinh phí hoạt động, đơn vị sự nghiệp công lập (sau đây gọi là cơ quan, tổ chức, đơn vị); các doanh nghiệp được Nhà nước giao tài sản cố định để quản lý không tính thành phần vốn nhà nước (gọi chung là doanh nghiệp) thuộc phạm vi quản lý của tỉnh Nam Định.\n",
      "2. Danh mục tài sản cố định đặc thù: Chi tiết tại Phụ lục kèm theo.\n",
      "Điều 2. Quyết định này có hiệu lực thi hành kể từ ngày 25/02/2023.\n",
      "Điều 3. Chánh Văn phòng Ủy ban nhân dân tỉnh; Thủ trưởng các sở, ban, ngành thuộc tỉnh; Chủ tịch Ủy ban nhân dân các huyện, thành phố; các doanh nghiệp được Nhà nước giao tài sản cố định để quản lý không tính thành phần vốn nhà nước và các cơ quan, tổ chức, cá nhân có liên quan chịu trách nhiệm thi hành Quyết định này./.\n",
      "Nơi nhận: - Văn phòng Chính phủ; - Bộ Tài chính; - Bộ Tư pháp (Cục KTrVBQPPL); - Thường trực Tỉnh ủy; - Thường trực HĐND; - Đoàn đại biểu Quốc hội tỉnh; - Chủ tịch, các PCT UBND tỉnh; - Như Điều 3; - Công báo tỉnh, Cổng TTĐT tỉnh; - Lưu: VP1, VP6.\n",
      "TM. ỦY BAN NHÂN DÂN KT. CHỦ TỊCH PHÓ CHỦ TỊCH Hà Lan Anh\n",
      "PHỤ LỤC\n",
      "DANH MỤC TÀI SẢN CỐ ĐỊNH ĐẶC THÙ THUỘC PHẠM VI QUẢN LÝ CỦA TỈNH NAM ĐỊNH (Kèm theo Quyết định số:     /2023/QĐ-UBND ngày    tháng 02 năm 2023 của UBND tỉnh Nam Định)\n",
      "STT\n",
      "DANH MỤC\n",
      "Loại 1\n",
      "Cổ vật, hiện vật trưng bày\n",
      "1\n",
      "Nhóm cổ vật, hiện vật chất liệu kim loại\n",
      "2\n",
      "Nhóm cổ vật, hiện vật chất liệu nhựa\n",
      "3\n",
      "Nhóm cổ vật, hiện vật chất liệu thuỷ tinh\n",
      "4\n",
      "Nhóm cổ vật, hiện vật chất liệu gỗ, tre\n",
      "5\n",
      "Nhóm cổ vật, hiện vật chất liệu vải\n",
      "6\n",
      "Nhóm cổ vật, hiện vật chất liệu giấy\n",
      "7\n",
      "Nhóm cổ vật, hiện vật chất liệu phim ảnh\n",
      "8\n",
      "Nhóm cổ vật, hiện vật chất liệu đồ da\n",
      "9\n",
      "Nhóm cổ vật, hiện vật chất liệu xương\n",
      "10\n",
      "Nhóm cổ vật, hiện vật chất liệu gốm, sành, sứ\n",
      "11\n",
      "Nhóm cổ vật, hiện vật chất liệu đất, đá\n",
      "12\n",
      "Nhóm cổ vật, hiện vật chất liệu khác\n",
      "Loại 2\n",
      "Di tích lịch sử được xếp hạng\n",
      "Loại 3\n",
      "Thương hiệu của đơn vị sự nghiệp công lập\n"
     ]
    }
   ],
   "source": [
    "print(\"\\n\".join(data[0]['content']))"
   ]
  }
 ],
 "metadata": {
  "kernelspec": {
   "display_name": "master",
   "language": "python",
   "name": "python3"
  },
  "language_info": {
   "codemirror_mode": {
    "name": "ipython",
    "version": 3
   },
   "file_extension": ".py",
   "mimetype": "text/x-python",
   "name": "python",
   "nbconvert_exporter": "python",
   "pygments_lexer": "ipython3",
   "version": "3.12.3"
  }
 },
 "nbformat": 4,
 "nbformat_minor": 2
}
