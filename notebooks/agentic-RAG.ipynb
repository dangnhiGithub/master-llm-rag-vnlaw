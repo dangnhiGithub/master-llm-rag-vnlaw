{
 "cells": [
  {
   "cell_type": "markdown",
   "metadata": {},
   "source": [
    "# Libs"
   ]
  },
  {
   "cell_type": "code",
   "execution_count": null,
   "metadata": {},
   "outputs": [],
   "source": [
    "# Điều hướng ra folder chủ\n",
    "import os\n",
    "while os.getcwd().split('\\\\')[-1] != 'master-llm-rag-vnlaw':\n",
    "    os.chdir('..')\n",
    "    print(os.getcwd())"
   ]
  },
  {
   "cell_type": "code",
   "execution_count": null,
   "metadata": {},
   "outputs": [],
   "source": [
    "import ollama\n",
    "import asyncio\n",
    "from ollama import AsyncClient\n"
   ]
  },
  {
   "cell_type": "markdown",
   "metadata": {},
   "source": [
    "# Create ollama client"
   ]
  },
  {
   "cell_type": "code",
   "execution_count": null,
   "metadata": {},
   "outputs": [],
   "source": [
    "ollama_api_url = \"https://0c44-34-90-228-158.ngrok-free.app\""
   ]
  },
  {
   "cell_type": "code",
   "execution_count": null,
   "metadata": {},
   "outputs": [],
   "source": [
    "ollama_client = ollama.Client(\n",
    "    host=ollama_api_url,\n",
    "    headers = {'Header': 'application/json'}\n",
    ")"
   ]
  },
  {
   "cell_type": "code",
   "execution_count": null,
   "metadata": {},
   "outputs": [],
   "source": [
    "AGENT1_PROMPT = \"Bạn là một agent đơn giản, để trả lời câu hỏi {question}, thì cần những thông tin gì ?\"\n",
    "AGENT2_PROMPT = \"\" \\\n",
    "\"Bạn là một Agent chuyên thực hiện RAG, với những thông tin sau\" \\\n",
    "\"trả lời\"\n",
    "\n",
    "\n",
    "PROMPT = \"Tôi muốn tìm hiểu về quy trình đăng ký kinh doanh\"\n",
    "\n",
    "response = ollama_client.chat(model='gemma3:12b', messages=[\n",
    "  {\n",
    "    'role': 'user',\n",
    "    'content': 'Tôi muốn tìm hiểu về quy trình đăng ký kinh doanh',\n",
    "    # 'stream': True\n",
    "  },\n",
    "], stream=True)"
   ]
  }
 ],
 "metadata": {
  "kernelspec": {
   "display_name": "master",
   "language": "python",
   "name": "python3"
  },
  "language_info": {
   "name": "python",
   "version": "3.12.3"
  }
 },
 "nbformat": 4,
 "nbformat_minor": 2
}
