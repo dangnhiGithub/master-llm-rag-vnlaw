{
 "cells": [
  {
   "cell_type": "markdown",
   "metadata": {},
   "source": [
    "# Libs"
   ]
  },
  {
   "cell_type": "code",
   "execution_count": 1,
   "metadata": {},
   "outputs": [
    {
     "name": "stdout",
     "output_type": "stream",
     "text": [
      "d:\\DANG NHI\\repos\\master-llm-rag-vnlaw\n"
     ]
    }
   ],
   "source": [
    "import os\n",
    "while os.getcwd().split('\\\\')[-1] != 'master-llm-rag-vnlaw':\n",
    "    os.chdir('..')\n",
    "    print(os.getcwd())"
   ]
  },
  {
   "cell_type": "code",
   "execution_count": null,
   "metadata": {},
   "outputs": [],
   "source": [
    "import ollama\n",
    "import asyncio\n",
    "from ollama import AsyncClient\n",
    "import numpy as np\n",
    "\n",
    "from langchain.vectorstores import Chroma\n",
    "\n",
    "import chromadb\n",
    "from chromadb import Settings, EmbeddingFunction, Embeddings\n",
    "\n",
    "from langchain.retrievers import BM25Retriever\n",
    "from langchain.retrievers import EnsembleRetriever\n",
    "from langchain.schema import Document\n",
    "\n",
    "from nltk.tokenize import word_tokenize\n",
    "import regex as re\n",
    "from collections import Counter\n"
   ]
  },
  {
   "cell_type": "markdown",
   "metadata": {},
   "source": [
    "# Load embedding"
   ]
  },
  {
   "cell_type": "code",
   "execution_count": 3,
   "metadata": {},
   "outputs": [
    {
     "name": "stdout",
     "output_type": "stream",
     "text": [
      "Model ready !!!\n"
     ]
    }
   ],
   "source": [
    "base_model_id = \"FacebookAI/xlm-roberta-base\"\n",
    "trained_model_path = \"./models/trained_embedding_small_data/\"\n",
    "data_path = \"data/\"\n",
    "\n",
    "MAX_LEN = 512\n",
    "OVERLAP = 50\n",
    "\n",
    "import torch\n",
    "from transformers import AutoTokenizer, AutoModel\n",
    "\n",
    "tokenizer = AutoTokenizer.from_pretrained(base_model_id)\n",
    "model = AutoModel.from_pretrained(trained_model_path)\n",
    "model.eval()\n",
    "\n",
    "# device = torch.device(\"cuda\" if torch.cuda.is_available() else \"cpu\")\n",
    "device = torch.device('cpu')\n",
    "model.to(device)\n",
    "\n",
    "print(\"Model ready !!!\")"
   ]
  },
  {
   "cell_type": "code",
   "execution_count": 4,
   "metadata": {},
   "outputs": [
    {
     "name": "stdout",
     "output_type": "stream",
     "text": [
      "['<s>', '▁Tôi', '▁đang', '▁viết', '▁trên', '▁bảng', '▁ở', '▁trường', '.', '</s>']\n"
     ]
    }
   ],
   "source": [
    "context = \"Tôi đang viết trên bảng ở trường.\"\n",
    "token = tokenizer(context, return_tensors=None, truncation=True, max_length=MAX_LEN)\n",
    "tokens_text = tokenizer.convert_ids_to_tokens(token[\"input_ids\"])\n",
    "print(tokens_text)"
   ]
  },
  {
   "cell_type": "code",
   "execution_count": 5,
   "metadata": {},
   "outputs": [],
   "source": [
    "class MyEmbeddingFunction(EmbeddingFunction):\n",
    "    def __init__(self, model, tokenizer, max_length=512):\n",
    "        self.model = model\n",
    "        self.tokenizer = tokenizer\n",
    "        self.max_length = max_length\n",
    "\n",
    "\n",
    "    def embed_documents(self, texts):\n",
    "        inputs = self.tokenizer(texts, \n",
    "                                padding='max_length', \n",
    "                                max_length=self.max_length, \n",
    "                                return_tensors=\"pt\")\n",
    "        with torch.no_grad():\n",
    "            inputs = {key: value.to(device) for key, value in inputs.items()}\n",
    "            embeddings = self.model(**inputs).pooler_output\n",
    "    \n",
    "        return embeddings.cpu().numpy().tolist()\n",
    "\n",
    "    def embed_query(self, text):\n",
    "        inputs = self.tokenizer(text, return_tensors=\"pt\")\n",
    "        with torch.no_grad():\n",
    "            inputs = {key: value.to(device) for key, value in inputs.items()}\n",
    "            embeddings = self.model(**inputs).pooler_output\n",
    "        return embeddings.cpu().numpy().tolist()[0]\n",
    "\n",
    "myembed = MyEmbeddingFunction(model, tokenizer)"
   ]
  },
  {
   "cell_type": "code",
   "execution_count": 6,
   "metadata": {},
   "outputs": [],
   "source": [
    "# text = 'Tôi đi học'\n",
    "# with torch.no_grad():\n",
    "#     token = tokenizer(text, return_tensors='pt', padding='max_length', truncation=True, max_length=MAX_LEN)\n",
    "#     output = model(**token)\n",
    "\n",
    "# output = myembed.embed_documents([\"Tôi đi học\"])\n",
    "output1 = myembed.embed_query(\"Tôi đang viết trên bảng ở trường\")\n",
    "\n",
    "# import numpy as np\n",
    "# from sklearn.metrics.pairwise import cosine_similarity\n",
    "# similarity = cosine_similarity(output, output1)\n",
    "# print(f\"Cosine similarity:\\n {similarity}\")"
   ]
  },
  {
   "cell_type": "markdown",
   "metadata": {},
   "source": [
    "# Vector database và Embedding model"
   ]
  },
  {
   "cell_type": "code",
   "execution_count": 7,
   "metadata": {},
   "outputs": [],
   "source": [
    "# client = chromadb.PersistentClient(\n",
    "#     path=\"./data/chroma_db/\",\n",
    "#     settings=Settings(allow_reset=False,),)\n",
    "# client.list_collections()\n",
    "\n",
    "# collection = client.get_collection(name=\"VNLaws\", embedding_function=myembed)\n",
    "# print(collection.count())\n",
    "\n",
    "# collection.query(\n",
    "#     query_texts = [\"Tôi có thể làm gì với hợp đồng lao động?\"],\n",
    "#     n_results=10,\n",
    "#     where_document={\"$contains\": \"Tôi có thể làm gì với hợp đồng lao động?\"},\n",
    "# )"
   ]
  },
  {
   "cell_type": "code",
   "execution_count": 11,
   "metadata": {},
   "outputs": [],
   "source": [
    "db = Chroma(\n",
    "    embedding_function=myembed, # lấy embedding model đã train được\n",
    "    persist_directory='./chroma_db',\n",
    "    collection_name=\"VNLaws\",\n",
    "    )\n",
    "vectorstore_retriever = db.as_retriever(search_kwargs={\"k\": 10})\n",
    "\n",
    "stored_data = db._collection.get()\n",
    "zip_doc = list(zip(stored_data[\"documents\"], stored_data[\"metadatas\"]))\n",
    "docs = [Document(page_content=doc, metadata=metadata) for doc,metadata in zip_doc]"
   ]
  },
  {
   "cell_type": "code",
   "execution_count": 12,
   "metadata": {},
   "outputs": [],
   "source": [
    "keyword_retriever = BM25Retriever.from_documents(docs, search_kwargs={\"k\": 10})\n",
    "ensemble_retriever = EnsembleRetriever(retrievers=[vectorstore_retriever, keyword_retriever], weights=[0.5, 0.5])"
   ]
  },
  {
   "cell_type": "code",
   "execution_count": 13,
   "metadata": {},
   "outputs": [
    {
     "data": {
      "text/plain": [
       "[Document(metadata={'name': 'Thông tư 22/2022/TT-BCA', 'url': 'https://dulieuphapluat.vn/van-ban/lao-dong-van-ban/thong-tu-222022tt-bca-cua-bo-cong-an-ve-quy-dinh-ve-lao-dong-hop-dong-trong-cong-an-nhan-dan-1100555.html'}, page_content='Điều 13. Nội dung hợp đồng lao động\\n1. Hợp đồng lao động phải có những nội dung chủ yếu theo quy định tại khoản 1 Điều 21 Bộ luật Lao động .\\n2. Người lao động làm việc ở các đơn vị, bộ phận trọng yếu, cơ mật trong Công an nhân dân, trước khi ký kết hợp đồng với người lao động, đơn vị trực tiếp sử dụng phải yêu cầu người lao động cam kết bằng văn bản (theo mẫu ban hành kèm theo Thông tư này) về công tác bảo mật trong thời gian làm việc và sau khi kết thúc hợp đồng lao động; đồng thời triển khai các biện pháp phù hợp, trang bị kiến thức cần thiết cho người lao động về việc bảo vệ bí mật Nhà nước.\\n3. Trong trường hợp cần quy định chi tiết hoặc để sửa đổi, bổ sung một số điều, khoản của hợp đồng lao động, người sử dụng lao động và người lao động có thể lập phụ lục hợp đồng lao động theo quy định tại Điều 22 Bộ luật Lao động , nhưng không được sửa đổi thời hạn của hợp đồng lao động và chức danh, công việc lao động hợp đồng.\\nĐiều 14. Hình thức hợp đồng\\n1. Hợp đồng lao động trong Công an nhân dân phải được giao kết bằng văn bản và được lập thành 02 bản, người lao động giữ 01 bản, đơn vị sử dụng lao động giữ 01 bản, trừ trường hợp quy định tại khoản 2 Điều này.\\n2. Doanh nghiệp, đơn vị sự nghiệp công lập tự chủ về tài chính và người lao động có thể giao kết hợp đồng lao động bằng lời nói đối với hợp đồng lao động có thời hạn dưới 01 tháng nhưng không được trái pháp luật, thỏa ước lao động và đạo đức xã hội.\\nĐiều 15. Trình tự tuyển lao động\\n1. Trình tự tuyển lao động hợp đồng tại các doanh nghiệp, đơn vị sự nghiệp công lập tự chủ về tài chính thực hiện theo quy định của pháp luật hiện hành về lao động hợp đồng.\\n2. Trình tự tuyển lao động hợp đồng không xác định thời hạn và xác định thời hạn từ đủ 12 tháng đến 36 tháng hưởng lương ngân sách Nhà nước ở Công an đơn vị, địa phương thực hiện như sau:\\na) Thông báo nhu cầu'),\n",
       " Document(metadata={'name': 'Quyết định 641/QĐ-UBND', 'url': 'https://dulieuphapluat.vn/van-ban/lao-dong-van-ban/quyet-dinh-641qd-ubnd-cua-uy-ban-nhan-dan-tinh-vinh-long-ve-viec-cong-bo-danh-muc-thu-tuc-hanh-chinh-duoc-sua-doi-bo-sung-thu-tuc-hanh-chinh-linh-vuc-bao-tro-xa-hoi-thuoc-pham-vi-chuc-nang-quan-ly-nha-nuoc-cua-so-lao-dong-thuong-binh-va-xa-hoi-tinh-vinh-long-1102707.html'}, page_content='cấp - Dạng tật: ........................................................................................................... - Mức độ khuyết tật: .......................................................................................... 8. Có tham gia làm việc không? □ Không □ Có a) Nếu có thì đang làm gì ……………, thu nhập hàng tháng …………… đồng b) Nếu không thì ghi lý do: ..................................................................................... 9. Tình trạng hôn nhân: .......................................................................................... 10. Khả năng tự phục vụ? ....................................................................................... Tôi xin cam đoan những lời khai trên là đúng sự thực, nếu có điều gì khai không đúng, tôi xin chịu trách nhiệm hoàn toàn. Thông tin người khai thay Giấy CMND hoặc Căn'),\n",
       " Document(metadata={'name': 'Thông tư 22/2022/TT-BCA', 'url': 'https://dulieuphapluat.vn/van-ban/lao-dong-van-ban/thong-tu-222022tt-bca-cua-bo-cong-an-ve-quy-dinh-ve-lao-dong-hop-dong-trong-cong-an-nhan-dan-1100555.html'}, page_content='b) Hợp đồng xác định thời hạn dưới 12 tháng: Là hợp đồng mà trong đó hai bên xác định thời hạn, thời điểm chấm dứt hiệu lực của hợp đồng trong thời gian dưới 12 tháng kể từ thời điểm có hiệu lực của hợp đồng, áp dụng với những công việc mang tính chất mùa vụ hoặc công việc nhất định có thời hạn dưới 12 tháng.\\n3. Khi hợp đồng lao động quy định tại khoản 2 Điều này hết hạn mà Công an đơn vị, địa phương tiếp tục có nhu cầu sử dụng người lao động thì trong thời hạn 30 ngày kể từ ngày hợp đồng lao động hết hạn, hai bên phải ký kết hợp đồng lao động mới, cụ thể như sau:\\na) Trường hợp hợp đồng lao động ký tiếp với người lao động là hợp đồng không xác định thời hạn hưởng lương ngân sách Nhà nước thì Công an đơn vị, địa phương phải căn cứ vào chỉ tiêu lao động hợp đồng được Bộ duyệt trong năm để ký kết hợp đồng lao động mới;\\nb) Trường hợp hợp đồng lao động ký tiếp với người lao động là hợp đồng xác định thời hạn hưởng lương ngân sách Nhà nước thì Công an đơn vị, địa phương căn cứ kế hoạch sử dụng lao động hợp đồng được tập thể thường vụ đảng ủy, lãnh đạo Công an đơn vị, địa phương thông qua và nguồn ngân sách được cấp để chủ động ký kết hợp đồng lao động mới với người lao động và chỉ được ký thêm 01 lần, sau đó nếu tiếp tục có nhu cầu sử dụng người lao động thì phải ký hợp đồng lao động không xác định thời hạn theo chỉ tiêu Bộ duyệt;\\nc) Đối với việc ký kết hợp đồng với người lao động tại các doanh nghiệp, đơn vị sự nghiệp công lập tự chủ về tài chính trong Công an nhân dân do Giám đốc, Thủ trưởng đơn vị căn cứ nhu cầu sản xuất, kinh doanh để chủ động quyết định theo quy định tại Điều 20 Bộ luật Lao động .\\n4. Trường hợp giao kết hợp đồng lao động với người lao động cao tuổi, hai bên được ký kết nhiều lần hợp đồng lao động xác định thời hạn dưới 12 tháng.\\nĐiều 11. Xác định công việc để giao kết hợp đồng lao động\\n1. Đối với lao động hợp đồng hưởng lương ngân sách Nhà nước'),\n",
       " Document(metadata={'name': 'Bản án 04/2022/LĐ-PT', 'url': 'https://dulieuphapluat.vn/van-ban/lao-dong-van-ban/ban-an-ve-tranh-chap-thanh-toan-tien-luong-phu-cap-bao-hiem-xa-hoi-bao-hiem-y-te-so-042022ld-pt-toa-an-nhan-dan-da-nang-1065340.html'}, page_content='NỘI DUNG VỤ ÁN\\nTheo án sơ thẩm, nội dung vụ án như sau:\\n* Đại diện hợp pháp của nguyên đơn trình bày:\\nTôi là Dương Thị D vào làm việc tại Công ty TNHH E theo hợp đồng lao động xác định thời hạn 01 năm kể từ ngày 18/10/2019 đến ngày 18/10/2020; chức vụ thư ký buồng phòng, mức lương theo hợp đồng 4.800.000 đồng/tháng; Tôi ký hợp đồng với công ty nhưng công ty không giao bản hợp đồng cho tôi.\\nNgày 12/02/2020, bộ phận hành chính- nhân sự của công ty có thông báo yêu cầu nhân viên trong công ty thực hiện việc nghỉ phép/nghỉ bù và ngừng việc không lương trong tháng 02/2020, đồng thời công ty sẽ không tham gia Bảo hiểm xã hội trong những ngày nghỉ không lương mặc dù chưa có thỏa thuận bất cứ vấn đề gì có liên quan. Ngày 25/4/2020, tôi đã gửi đơn yêu cầu hòa giải đến Phòng lao động thương binh và xã hội quận N, tuy nhiên không được giải quyết theo luật định. Tính đến nay, công ty vẫn chưa thanh toán cho tôi lương và phụ cấp tháng 02/2020 mặc dù đã quá thời hạn chi trả theo hợp đồng lao động mà hai bên đã ký kết. Trong thời gian buộc tôi phải nghỉ việc công ty cũng không đóng các khoản Bảo hiểm xã hội và Bảo hiểm y tế cho tôi, không thực hiện việc chốt sổ bảo hiểm làm ảnh hưởng nghiêm trọng đến quyền và lợi ích hợp pháp của tôi.\\nĐể đảm bảo quyền và lợi ích hợp pháp của tôi yêu cầu Tòa án giải quyết:\\n- Buộc Công ty TNHH E thanh toán lương và phụ cấp tháng 02/2020 là 5.600.000 đồng; lương tối thiểu vùng các tháng 3, 4, 5, 6, 7, 8, 9, 10/2020 là 3.920.000 đồng/tháng x 8 tháng = 31.360.000 đồng. Tổng cộng: 36.960.000 đồng;\\n- Buộc Công ty TNHH E truy đóng Bảo hiểm xã hội kể từ tháng 02/2020 đến tháng 10/2020. Riêng Bảo hiểm y tế tôi không yêu cầu.\\nĐại diện theo ủy quyền của bị đơn Công ty TNHH E, ông Lê S trình bày:'),\n",
       " Document(metadata={'name': 'Thông tư 22/2022/TT-BCA', 'url': 'https://dulieuphapluat.vn/van-ban/lao-dong-van-ban/thong-tu-222022tt-bca-cua-bo-cong-an-ve-quy-dinh-ve-lao-dong-hop-dong-trong-cong-an-nhan-dan-1100555.html'}, page_content='b) Trong thời gian thử việc, mỗi bên có quyền hủy bỏ hợp đồng thử việc hoặc hợp đồng lao động đã giao kết mà không cần báo trước và không phải bồi thường.\\nĐiều 17. Sửa đổi, bổ sung, chấm dứt hợp đồng lao động\\n1. Việc sửa đổi, bổ sung hợp đồng lao động thực hiện theo quy định tại Điều 33 của Bộ luật Lao động . Trường hợp cần sửa đổi, bổ sung chức danh công việc đối với lao động hợp đồng theo chỉ tiêu Bộ duyệt thì Công an đơn vị, địa phương phải báo cáo Bộ (qua Cục Tổ cổ chức cán bộ); Cục trưởng Cục Tổ chức cán bộ căn cứ định mức sử dụng lao động hợp đồng lao động theo quy định và nhu cầu sử dụng lao động hợp đồng của Công an đơn vị, địa phương để xem xét, quyết định.\\n2. Việc chấm dứt hợp đồng lao động thực hiện theo quy định tại các Điều từ Điều 34 đến Điều 48 Chương III Bộ luật Lao động . Người có thẩm quyền ký kết hợp đồng lao động phải thỏa thuận với người lao động để chấm dứt hợp đồng lao động hưởng lương ngân sách Nhà nước trong các trường hợp sau:\\na) Ký kết hợp đồng lao động với người không bảo đảm tiêu chuẩn quy định tại Điều 7 Thông tư này hoặc không đúng công việc quy định tại Điều 11 Thông tư này ;\\nb) Ký kết hợp đồng lao động vượt số lượng, không đúng loại hợp đồng theo chỉ tiêu được duyệt hoặc vượt quá định mức sử dụng theo quy định.\\n3. Trong trường hợp phải chấm dứt hợp đồng với người lao động theo quy định tại điểm a và điểm b khoản 2 Điều này, cán bộ tham mưu, đề xuất và lãnh đạo có thẩm quyền ký kết hợp đồng với người lao động sẽ bị xem xét, xử lý kỷ luật theo quy định hiện hành của Bộ Công an về xử lý kỷ luật cán bộ, chiến sĩ Công an nhân dân.\\nĐiều 18. Tạm hoãn thực hiện hợp đồng lao động\\n1. Các trường hợp tạm hoãn thực hiện hợp đồng lao động bao gồm:\\na) Người lao động thực hiện nghĩa vụ quân sự, nghĩa vụ tham gia Công an nhân dân, nghĩa vụ tham gia Dân quân tự vệ;'),\n",
       " Document(metadata={'name': 'Quyết định 641/QĐ-UBND', 'url': 'https://dulieuphapluat.vn/van-ban/lao-dong-van-ban/quyet-dinh-641qd-ubnd-cua-uy-ban-nhan-dan-tinh-vinh-long-ve-viec-cong-bo-danh-muc-thu-tuc-hanh-chinh-duoc-sua-doi-bo-sung-thu-tuc-hanh-chinh-linh-vuc-bao-tro-xa-hoi-thuoc-pham-vi-chuc-nang-quan-ly-nha-nuoc-cua-so-lao-dong-thuong-binh-va-xa-hoi-tinh-vinh-long-1102707.html'}, page_content='8. Người có nghĩa vụ và quyền phụng dưỡng (Nếu có, ghi cụ thể họ tên, tuổi, nghề nghiệp, nơi ở, việc làm, thu nhập): ………………………………………… 9. Quá trình hoạt động của bản thân (Không bắt buộc): ........................................ Tôi xin cam đoan những lời khai trên là đúng sự thực, nếu có điều gì khai không đúng, tôi xin chịu trách nhiệm hoàn toàn. Thông tin người khai thay Giấy CMND hoặc Căn cước công dân số:……………………………………… Ngày cấp: …………………………… Nơi cấp: ………………………………… Mối quan hệ với đối tượng: …………… Địa chỉ: ………………………………… Ngày'),\n",
       " Document(metadata={'name': 'Thông tư 22/2022/TT-BCA', 'url': 'https://dulieuphapluat.vn/van-ban/lao-dong-van-ban/thong-tu-222022tt-bca-cua-bo-cong-an-ve-quy-dinh-ve-lao-dong-hop-dong-trong-cong-an-nhan-dan-1100555.html'}, page_content='Điều 11. Xác định công việc để giao kết hợp đồng lao động\\n1. Đối với lao động hợp đồng hưởng lương ngân sách Nhà nước\\na) Ký kết hợp đồng lao động không xác định thời hạn hoặc hợp đồng lao động xác định thời hạn từ đủ 12 tháng đến 36 tháng với người lao động làm các công việc quy định tại các điểm a, b, c, d, đ, e, g, h và i mục 2 Phụ lục ban hành kèm theo Thông tư này;\\nb) Ký kết hợp đồng lao động xác định thời hạn dưới 12 tháng đối với người lao động làm các công việc quy định tại điểm c mục 2 Phụ lục ban hành kèm theo Thông tư này và các công việc sau:\\nNấu ăn phục vụ hội nghị, các lớp huấn luyện, tập huấn, bồi dưỡng nghiệp vụ, chức danh có thời gian dưới 12 tháng; nấu ăn, phục vụ buồng bàn tại các nhà nghỉ dưỡng trong thời gian đông cán bộ, chiến sĩ đi nghỉ; hướng dẫn viên trên các tàu du lịch trong thời gian dưới 12 tháng; diễn viên, ca sĩ, đạo diễn, quay phim, nhạc công, kỹ thuật viên âm thanh, ánh sáng, biên kịch, hóa trang, dựng phim, quảng cáo thực hiện các chương trình văn hóa, văn nghệ của Công an nhân dân có thời gian dưới 12 tháng.\\n2. Đối với lao động hợp đồng tại các doanh nghiệp, đơn vị sự nghiệp công lập tự chủ về tài chính do Giám đốc doanh nghiệp, Thủ trưởng đơn vị căn cứ thời điểm kết thúc công việc để chủ động xác định.\\nĐiều 12. Thẩm quyền ký kết hợp đồng lao động\\n1. Hợp đồng lao động hưởng lương ngân sách Nhà nước tại Công an đơn vị, địa phương do Thủ trưởng Công an đơn vị, địa phương trực tiếp ký kết với người lao động.\\n2. Hợp đồng lao động tại các doanh nghiệp, đơn vị sự nghiệp công lập tự chủ về tài chính do Giám đốc doanh nghiệp, Thủ trưởng đơn vị sự nghiệp công lập trực tiếp ký kết với người lao động.\\nĐiều 13. Nội dung hợp đồng lao động\\n1. Hợp đồng lao động phải có những nội dung chủ yếu theo quy định tại khoản 1 Điều 21 Bộ luật Lao động .'),\n",
       " Document(metadata={'name': 'Quyết định 641/QĐ-UBND', 'url': 'https://dulieuphapluat.vn/van-ban/lao-dong-van-ban/quyet-dinh-641qd-ubnd-cua-uy-ban-nhan-dan-tinh-vinh-long-ve-viec-cong-bo-danh-muc-thu-tuc-hanh-chinh-duoc-sua-doi-bo-sung-thu-tuc-hanh-chinh-linh-vuc-bao-tro-xa-hoi-thuoc-pham-vi-chuc-nang-quan-ly-nha-nuoc-cua-so-lao-dong-thuong-binh-va-xa-hoi-tinh-vinh-long-1102707.html'}, page_content='hội hàng tháng, hưởng chế độ chăm sóc, nuôi dưỡng trong cơ sở bảo trợ xã hội, nhà xã hội không? (Nếu có ghi cụ thể họ tên, lý do, thời gian hưởng):……………………………………............................ Tôi xin cam đoan những lời khai trên là đúng sự thực, nếu có điều gì khai không đúng tôi xin chịu trách nhiệm hoàn toàn. Thông tin người khai thay Giấy CMND hoặc Căn cước công dân số:…………………………………………….. Ngày cấp: ……………………………………. Nơi cấp: ……………………………..……..… Mối quan hệ với đối tượng: ………………… Địa chỉ: ………………………………………. Ngày .... tháng .... năm ...'),\n",
       " Document(metadata={'name': 'Thông tư 22/2022/TT-BCA', 'url': 'https://dulieuphapluat.vn/van-ban/lao-dong-van-ban/thong-tu-222022tt-bca-cua-bo-cong-an-ve-quy-dinh-ve-lao-dong-hop-dong-trong-cong-an-nhan-dan-1100555.html'}, page_content='a) Người lao động thực hiện nghĩa vụ quân sự, nghĩa vụ tham gia Công an nhân dân, nghĩa vụ tham gia Dân quân tự vệ;\\nb) Người lao động bị tạm giữ, tạm giam theo quy định của pháp luật về tố tụng hình sự;\\nc) Lao động nữ mang thai theo quy định tại Điều 138 Bộ luật Lao động ;\\nd) Trường hợp khác do hai bên thỏa thuận.\\n2. Trong thời gian tạm hoãn thực hiện hợp đồng lao động, người lao động không được hưởng lương và quyền, lợi ích đã giao kết trong hợp đồng lao động, trừ trường hợp hai bên có thỏa thuận hoặc pháp luật có quy định khác.\\nChương III\\nQUYỀN LỢI , NGHĨA VỤ CỦA NGƯỜI LAO ĐỘNG; GIẢI QUYẾT TRANH CHẤP LAO ĐỘNG, XỬ LÝ KỶ LUẬT LAO ĐỘNG\\nĐiều 19. Quyền lợi của lao động hợp đồng hưởng lương ngân sách Nhà nước\\n1. Quyền lợi của người lao động khi ký kết hợp đồng lao động không xác định thời hạn hoặc hợp đồng lao động xác định thời hạn từ đủ 12 tháng đến 36 tháng\\na) Được đảm bảo về thời giờ làm việc, thời giờ nghỉ ngơi, an toàn, vệ sinh lao động theo quy định tại các Điều từ Điều 105 đến Điều 116 Chương VII và các Điều từ Điều 132 đến Điều 134 Chương IX Bộ luật Lao động ;\\nTrường hợp công việc mà người lao động đảm nhận phải làm thường xuyên, liên tục nhưng thời gian thực hiện trong ngày ít hơn 08 giờ thì Công an đơn vị, địa phương thỏa thuận, bố trí người lao động kiêm nhiệm thêm công việc khác theo Phụ lục ban hành kèm theo Thông tư này để bảo đảm đủ 08 giờ làm việc/ngày theo quy định của pháp luật;'),\n",
       " Document(metadata={'name': 'Thông tư 22/2022/TT-BCA', 'url': 'https://dulieuphapluat.vn/van-ban/lao-dong-van-ban/thong-tu-222022tt-bca-cua-bo-cong-an-ve-quy-dinh-ve-lao-dong-hop-dong-trong-cong-an-nhan-dan-1100555.html'}, page_content='Điều 8. Điều kiện ký kết hợp đồng lao động\\n1. Đối với doanh nghiệp, đơn vị sự nghiệp công lập tự chủ về tài chính:\\nTrên cơ sở yêu cầu sản xuất, kinh doanh, tính toán số lượng lao động và yêu cầu về trình độ chuyên môn, tay nghề để ký kết hợp đồng lao động với người lao động, nhưng không được trái với các quy định tại Thông tư này và các quy định của pháp luật về hợp đồng lao động.\\n2. Đối với Công an đơn vị, địa phương, việc ký kết hợp đồng với người lao động phải bảo đảm các điều kiện sau:\\na) Đúng số lượng của từng loại hợp đồng lao động được cấp có thẩm quyền duyệt;\\nb) Người lao động bảo đảm các tiêu chuẩn quy định tại Điều 7 Thông tư này và là người trúng tuyển trong đợt tuyển lao động của Công an đơn vị, địa phương theo quy định tại khoản 2 và khoản 3 Điều 15 Thông tư này .\\nĐiều 9. Hồ sơ đăng ký dự tuyển lao động\\n1. Hồ sơ đăng ký dự tuyển lao động của người lao động tại các doanh nghiệp, đơn vị sự nghiệp công lập tự chủ về tài chính trong Công an nhân dân thực hiện theo quy định của Bộ luật Lao động và các quy định của pháp luật về hợp đồng lao động.\\n2. Hồ sơ đăng ký dự tuyển lao động của người lao động hợp đồng hưởng lương ngân sách Nhà nước ở Công an đơn vị, địa phương gồm:\\na) Phiếu đăng ký dự tuyển lao động (theo mẫu ban hành kèm theo Thông tư này) có xác nhận của Công an cấp xã nơi cư trú hoặc của cơ quan, tổ chức nơi người lao động đang làm việc;\\nb) Giấy chứng nhận có đủ sức khỏe để lao động theo kết luận của cơ sở khám, chữa bệnh cấp huyện trở lên;\\nc) Bản sao các văn bằng, chứng chỉ về trình độ học vấn, trình độ chuyên môn kỹ thuật do cơ quan, tổ chức có thẩm quyền cấp (bản sao từ sổ gốc hoặc bản sao có chứng thực hoặc bản sao xuất trình kèm theo bản chính để đối chiếu) theo yêu cầu của công việc cần tuyển;'),\n",
       " Document(metadata={'name': 'Hướng dẫn 33/HD-VKSTC', 'url': 'https://dulieuphapluat.vn/van-ban/lao-dong-van-ban/huong-dan-33hd-vkstc-cua-vien-kiem-sat-nhan-dan-toi-cao-ve-mot-so-noi-dung-co-ban-trong-cong-tac-kiem-sat-viec-giai-quyet-vu-an-tranh-chap-lao-dong-ca-nhan-1098932.html'}, page_content='+ Trên thực tế còn xảy ra trường hợp hợp đồng lao động xác định thời hạn hết hạn nhưng người lao động vẫn tiếp tục làm việc và trong thời hạn 30 ngày, kể từ ngày hợp đồng lao động hết hạn giữa người lao động và người sử dụng lao động chưa ký kết hợp đồng mới. Sau đó, do không thỏa thuận được các nội dung để ký hợp đồng lao động mới nên người sử dụng lao động ra quyết định đơn phương chấm dứt hợp đồng lao động ban đầu vì lý do hết hạn hợp đồng. Người lao động khởi kiện yêu cầu hủy quyết định đơn phương chấm dứt hợp đồng lao động.\\nĐối với vụ án trên, Kiểm sát viên, công chức xác định người sử dụng lao động đơn phương chấm dứt hợp đồng lao động là trái pháp luật vì khi hợp đồng lao động xác định thời hạn hết hạn mà người lao động vẫn tiếp tục làm việc thì trong thời hạn 30 ngày, kể từ ngày hợp đồng lao động xác định thời hạn hết hạn, các bên phải ký kết hợp đồng mới; trong thời gian chưa ký kết hợp đồng mới thì quyền, nghĩa vụ và lợi ích của hai bên được thực hiện theo hợp đồng đã giao kết. Nếu hai bên không thỏa thuận được thì tiếp tục thực hiện hợp đồng đã giao kết hoặc thỏa thuận chấm dứt hợp đồng lao động.\\n- Trường hợp người sử dụng lao động có hành vi, quyết định đơn phương chấm dứt hợp đồng lao động trái pháp luật thì Kiểm sát viên, công chức xem xét nghĩa vụ của người sử dụng lao động phải thực hiện tương tự như nội dung hướng dẫn đối với vụ án tranh chấp xử lý k ỷ luật lao động theo hình thức sa thải đã nêu tại tiểu mục 1.1, mục 1 Phần II của Hướng dẫn này.\\n2.2. Người lao động đơn phương chấm dứt hợp đồng lao động'),\n",
       " Document(metadata={'name': 'Thông tư 22/2022/TT-BCA', 'url': 'https://dulieuphapluat.vn/van-ban/lao-dong-van-ban/thong-tu-222022tt-bca-cua-bo-cong-an-ve-quy-dinh-ve-lao-dong-hop-dong-trong-cong-an-nhan-dan-1100555.html'}, page_content='d) Bản sao các loại giấy tờ có giá trị pháp lý chứng nhận thuộc đối tượng ưu tiên (nếu có);\\n3. Người lao động ký kết hợp đồng lao động xác định thời hạn dưới 12 tháng hưởng lương ngân sách Nhà nước và người lao động tại các doanh nghiệp, đơn vị sự nghiệp công lập tự chủ về tài chính phải có xác nhận của Công an cấp xã nơi cư trú về bản thân không thuộc một trong các trường hợp quy định tại điểm b khoản 5 Điều 7 Thông tư này .\\n4. Người lao động làm việc theo hợp đồng lao động hưởng lương ngân sách Nhà nước chấm dứt hợp đồng ở Công an đơn vị, địa phương này để dự tuyển lao động ở Công an đơn vị, địa phương khác vẫn hưởng lương ngân sách Nhà nước, trong thời hạn 6 tháng kể từ ngày chấm dứt hợp đồng lao động chỉ cần nộp cho nơi đăng ký dự tuyển Phiếu đăng ký dự tuyển và bản nhận xét, đánh giá của Công an đơn vị, địa phương đã làm việc trước đó. Trong thời gian 30 ngày sau khi ký kết hợp đồng, Công an đơn vị, địa phương sử dụng lao động có trách nhiệm liên hệ và tiếp nhận lại toàn bộ hồ sơ, các loại giấy tờ có liên quan đến người lao động ở Công an đơn vị, địa phương cũ theo quy định.\\nChương II\\nHỢP ĐỒNG LAO ĐỘNG VÀ TUYỂN LAO ĐỘNG HỢP ĐỒNG\\nĐiều 10. Loại hợp đồng lao động\\n1. Hợp đồng lao động không xác định thời hạn: Là hợp đồng mà trong đó hai bên không xác định thời hạn, thời điểm chấm dứt hiệu lực của hợp đồng.\\n2. Hợp đồng lao động xác định thời hạn\\na) Hợp đồng xác định thời hạn từ đủ 12 tháng đến 36 tháng: Là hợp đồng mà trong đó hai bên xác định thời hạn, thời điểm chấm dứt hiệu lực của hợp đồng trong thời gian từ đủ 12 tháng đến đủ 36 tháng kể từ thời điểm có hiệu lực của hợp đồng;'),\n",
       " Document(metadata={'name': 'Thông tư 22/2022/TT-BCA', 'url': 'https://dulieuphapluat.vn/van-ban/lao-dong-van-ban/thong-tu-222022tt-bca-cua-bo-cong-an-ve-quy-dinh-ve-lao-dong-hop-dong-trong-cong-an-nhan-dan-1100555.html'}, page_content='2. Chuyển loại hợp đồng lao động là việc chấm dứt hợp đồng lao động xác định thời hạn để giao kết hợp đồng lao động không xác định thời hạn.\\n3. Đơn vị trực tiếp sử dụng người lao động là đơn vị được giao thẩm quyền quản lý, sử dụng người lao động theo hợp đồng lao động đã giao kết.\\n4. Người lao động cao tuổi là người tiếp tục lao động sau độ tuổi theo quy định tại khoản 2 Điều 169 Bộ luật Lao động .\\nĐiều 3. Nguyên tắc tuyển, sử dụng lao động hợp đồng\\n1. Công khai, dân chủ, minh bạch, tuân thủ đúng quy định của pháp luật về lao động; việc tuyển lao động hợp đồng phải đúng đối tượng, tiêu chuẩn, điều kiện, trình tự, thẩm quyền và loại hợp đồng lao động theo quy định tại Thông tư này.\\n2. Thực hiện đầy đủ các chế độ, chính sách đối với người lao động theo quy định của pháp luật và của Bộ Công an.\\nĐiều 4. Kế hoạch tuyển, sử dụng lao động hợp đồng\\n1. Kế hoạch tuyển, sử dụng lao động hợp đồng hưởng lương ngân sách Nhà nước ở Công an đơn vị, địa phương được thực hiện theo trình tự sau:\\na) Trước ngày 30 tháng 10 hằng năm, đơn vị trực tiếp sử dụng người lao động báo cáo nhu cầu tuyển, sử dụng lao động hợp đồng tại đơn vị mình về cơ quan tổ chức cán bộ của Công an đơn vị, địa phương;\\nb) Cơ quan tổ chức cán bộ thẩm định, xin ý kiến tập thể thường vụ đảng ủy và lãnh đạo Công an đơn vị, địa phương trước khi Thủ trưởng Công an đơn vị, địa phương ký văn bản báo cáo về Bộ Công an (qua Cục Tổ chức cán bộ) trước ngày 31 tháng 12 hằng năm;\\nĐối với hợp đồng lao động xác định thời hạn, Công an đơn vị, địa phương căn cứ kế hoạch sử dụng được tập thể thường vụ đảng ủy, lãnh đạo Công an đơn vị, địa phương thông qua và nguồn ngân sách được cấp để chủ động tuyển lao động theo quy định tại Điều 15 Thông tư này ;'),\n",
       " Document(metadata={'name': 'Thông tư 22/2022/TT-BCA', 'url': 'https://dulieuphapluat.vn/van-ban/lao-dong-van-ban/thong-tu-222022tt-bca-cua-bo-cong-an-ve-quy-dinh-ve-lao-dong-hop-dong-trong-cong-an-nhan-dan-1100555.html'}, page_content='Chương IV\\nTỔ CHỨC THỰC HIỆN\\nĐiều 25. Hiệu lực thi hành\\n1. Thông tư này có hiệu lực thi hành kể từ ngày 01 tháng 7 năm 2022. Thông tư số 68/2019/TT-BCA ngày 04 tháng 12 năm 2019 của Bộ Công an quy định về lao động hợp đồng trong Công an nhân dân hết hiệu lực thi hành kể từ ngày Thông tư này có hiệu lực thi hành.\\n2. Kể từ ngày Thông tư này có hiệu lực thi hành, hợp đồng lao động đã giao kết đúng theo các quy định trước đây của Bộ Công an quy định về lao động hợp đồng trong Công an nhân dân được tiếp tục thực hiện. Trường hợp các bên có thỏa thuận về việc sửa đổi, bổ sung để phù hợp và để áp dụng quy định của Thông tư này thì Công an đơn vị, địa phương tổ chức ký kết lại hợp đồng lao động.\\n3. Trường hợp các văn bản quy phạm pháp luật dẫn chiếu để áp dụng trong Thông tư này được sửa đổi, bổ sung hoặc thay thế thì áp dụng theo các văn bản sửa đổi, bổ sung hoặc thay thế.\\nĐiều 26. Trách nhiệm thi hành\\n1. Thủ trưởng Công an đơn vị, địa phương, Giám đốc doanh nghiệp, Thủ trưởng đơn vị sự nghiệp công lập trong Công an nhân dân chịu trách nhiệm thực hiện Thông tư này.\\n2. Cục trưởng Cục Tổ chức cán bộ hướng dẫn, kiểm tra việc thực hiện Thông tư này và hướng dẫn thống nhất các biểu mẫu hồ sơ, báo cáo thống kê phục vụ công tác quản lý, sử dụng lao động hợp đồng trong Công an nhân dân.\\nTrong quá trình thực hiện, nếu có khó khăn, vướng mắc, đề nghị Công an đơn vị, địa phương báo cáo về Bộ Công an (qua Cục Tổ chức cán bộ) để được hướng dẫn, giải quyết./.\\nBắt đầu bảng: \\nNơi nhận: - Các đồng chí Thứ trưởng; - Công an đơn vị, địa phương (để thực hiện); - Công báo; - Lưu: VT, V03, X01(P2), 150. | BỘ TRƯỞNG Đại tướng Tô Lâm\\n Kết thúc bảng.')]"
      ]
     },
     "execution_count": 13,
     "metadata": {},
     "output_type": "execute_result"
    }
   ],
   "source": [
    "relevants = ensemble_retriever.get_relevant_documents(\"Tôi có thể làm gì với hợp đồng lao động trong công an nhân dân?\")\n",
    "relevants"
   ]
  },
  {
   "cell_type": "code",
   "execution_count": null,
   "metadata": {},
   "outputs": [],
   "source": [
    "name = [i.metadata[\"name\"] for i in relevants]\n",
    "name_counts = Counter(name)\n",
    "ranked_names = sorted(name_counts.items(), key=lambda x: x[1], reverse=True)\n",
    "\n",
    "sorted_documents = []\n",
    "for name, count in ranked_names:\n",
    "    for doc in relevants:\n",
    "        if doc.metadata[\"name\"] == name:\n",
    "            sorted_documents.append(doc)\n",
    "\n",
    "top_documents = sorted_documents[:10]\n",
    "# sorted_doc = [doc for doc in relevants for name, _ in ranked_names if doc.metadata[\"name\"] == name]\n",
    "# while len(top_documents) < max_chunks:\n",
    "#     for name, count in ranked_names:\n",
    "#         doc\n",
    "#         top_documents.append([doc for doc in ])"
   ]
  },
  {
   "cell_type": "code",
   "execution_count": 15,
   "metadata": {},
   "outputs": [
    {
     "data": {
      "text/plain": [
       "[Document(metadata={'name': 'Thông tư 22/2022/TT-BCA', 'url': 'https://dulieuphapluat.vn/van-ban/lao-dong-van-ban/thong-tu-222022tt-bca-cua-bo-cong-an-ve-quy-dinh-ve-lao-dong-hop-dong-trong-cong-an-nhan-dan-1100555.html'}, page_content='Điều 13. Nội dung hợp đồng lao động\\n1. Hợp đồng lao động phải có những nội dung chủ yếu theo quy định tại khoản 1 Điều 21 Bộ luật Lao động .\\n2. Người lao động làm việc ở các đơn vị, bộ phận trọng yếu, cơ mật trong Công an nhân dân, trước khi ký kết hợp đồng với người lao động, đơn vị trực tiếp sử dụng phải yêu cầu người lao động cam kết bằng văn bản (theo mẫu ban hành kèm theo Thông tư này) về công tác bảo mật trong thời gian làm việc và sau khi kết thúc hợp đồng lao động; đồng thời triển khai các biện pháp phù hợp, trang bị kiến thức cần thiết cho người lao động về việc bảo vệ bí mật Nhà nước.\\n3. Trong trường hợp cần quy định chi tiết hoặc để sửa đổi, bổ sung một số điều, khoản của hợp đồng lao động, người sử dụng lao động và người lao động có thể lập phụ lục hợp đồng lao động theo quy định tại Điều 22 Bộ luật Lao động , nhưng không được sửa đổi thời hạn của hợp đồng lao động và chức danh, công việc lao động hợp đồng.\\nĐiều 14. Hình thức hợp đồng\\n1. Hợp đồng lao động trong Công an nhân dân phải được giao kết bằng văn bản và được lập thành 02 bản, người lao động giữ 01 bản, đơn vị sử dụng lao động giữ 01 bản, trừ trường hợp quy định tại khoản 2 Điều này.\\n2. Doanh nghiệp, đơn vị sự nghiệp công lập tự chủ về tài chính và người lao động có thể giao kết hợp đồng lao động bằng lời nói đối với hợp đồng lao động có thời hạn dưới 01 tháng nhưng không được trái pháp luật, thỏa ước lao động và đạo đức xã hội.\\nĐiều 15. Trình tự tuyển lao động\\n1. Trình tự tuyển lao động hợp đồng tại các doanh nghiệp, đơn vị sự nghiệp công lập tự chủ về tài chính thực hiện theo quy định của pháp luật hiện hành về lao động hợp đồng.\\n2. Trình tự tuyển lao động hợp đồng không xác định thời hạn và xác định thời hạn từ đủ 12 tháng đến 36 tháng hưởng lương ngân sách Nhà nước ở Công an đơn vị, địa phương thực hiện như sau:\\na) Thông báo nhu cầu'),\n",
       " Document(metadata={'name': 'Thông tư 22/2022/TT-BCA', 'url': 'https://dulieuphapluat.vn/van-ban/lao-dong-van-ban/thong-tu-222022tt-bca-cua-bo-cong-an-ve-quy-dinh-ve-lao-dong-hop-dong-trong-cong-an-nhan-dan-1100555.html'}, page_content='b) Hợp đồng xác định thời hạn dưới 12 tháng: Là hợp đồng mà trong đó hai bên xác định thời hạn, thời điểm chấm dứt hiệu lực của hợp đồng trong thời gian dưới 12 tháng kể từ thời điểm có hiệu lực của hợp đồng, áp dụng với những công việc mang tính chất mùa vụ hoặc công việc nhất định có thời hạn dưới 12 tháng.\\n3. Khi hợp đồng lao động quy định tại khoản 2 Điều này hết hạn mà Công an đơn vị, địa phương tiếp tục có nhu cầu sử dụng người lao động thì trong thời hạn 30 ngày kể từ ngày hợp đồng lao động hết hạn, hai bên phải ký kết hợp đồng lao động mới, cụ thể như sau:\\na) Trường hợp hợp đồng lao động ký tiếp với người lao động là hợp đồng không xác định thời hạn hưởng lương ngân sách Nhà nước thì Công an đơn vị, địa phương phải căn cứ vào chỉ tiêu lao động hợp đồng được Bộ duyệt trong năm để ký kết hợp đồng lao động mới;\\nb) Trường hợp hợp đồng lao động ký tiếp với người lao động là hợp đồng xác định thời hạn hưởng lương ngân sách Nhà nước thì Công an đơn vị, địa phương căn cứ kế hoạch sử dụng lao động hợp đồng được tập thể thường vụ đảng ủy, lãnh đạo Công an đơn vị, địa phương thông qua và nguồn ngân sách được cấp để chủ động ký kết hợp đồng lao động mới với người lao động và chỉ được ký thêm 01 lần, sau đó nếu tiếp tục có nhu cầu sử dụng người lao động thì phải ký hợp đồng lao động không xác định thời hạn theo chỉ tiêu Bộ duyệt;\\nc) Đối với việc ký kết hợp đồng với người lao động tại các doanh nghiệp, đơn vị sự nghiệp công lập tự chủ về tài chính trong Công an nhân dân do Giám đốc, Thủ trưởng đơn vị căn cứ nhu cầu sản xuất, kinh doanh để chủ động quyết định theo quy định tại Điều 20 Bộ luật Lao động .\\n4. Trường hợp giao kết hợp đồng lao động với người lao động cao tuổi, hai bên được ký kết nhiều lần hợp đồng lao động xác định thời hạn dưới 12 tháng.\\nĐiều 11. Xác định công việc để giao kết hợp đồng lao động\\n1. Đối với lao động hợp đồng hưởng lương ngân sách Nhà nước'),\n",
       " Document(metadata={'name': 'Thông tư 22/2022/TT-BCA', 'url': 'https://dulieuphapluat.vn/van-ban/lao-dong-van-ban/thong-tu-222022tt-bca-cua-bo-cong-an-ve-quy-dinh-ve-lao-dong-hop-dong-trong-cong-an-nhan-dan-1100555.html'}, page_content='b) Trong thời gian thử việc, mỗi bên có quyền hủy bỏ hợp đồng thử việc hoặc hợp đồng lao động đã giao kết mà không cần báo trước và không phải bồi thường.\\nĐiều 17. Sửa đổi, bổ sung, chấm dứt hợp đồng lao động\\n1. Việc sửa đổi, bổ sung hợp đồng lao động thực hiện theo quy định tại Điều 33 của Bộ luật Lao động . Trường hợp cần sửa đổi, bổ sung chức danh công việc đối với lao động hợp đồng theo chỉ tiêu Bộ duyệt thì Công an đơn vị, địa phương phải báo cáo Bộ (qua Cục Tổ cổ chức cán bộ); Cục trưởng Cục Tổ chức cán bộ căn cứ định mức sử dụng lao động hợp đồng lao động theo quy định và nhu cầu sử dụng lao động hợp đồng của Công an đơn vị, địa phương để xem xét, quyết định.\\n2. Việc chấm dứt hợp đồng lao động thực hiện theo quy định tại các Điều từ Điều 34 đến Điều 48 Chương III Bộ luật Lao động . Người có thẩm quyền ký kết hợp đồng lao động phải thỏa thuận với người lao động để chấm dứt hợp đồng lao động hưởng lương ngân sách Nhà nước trong các trường hợp sau:\\na) Ký kết hợp đồng lao động với người không bảo đảm tiêu chuẩn quy định tại Điều 7 Thông tư này hoặc không đúng công việc quy định tại Điều 11 Thông tư này ;\\nb) Ký kết hợp đồng lao động vượt số lượng, không đúng loại hợp đồng theo chỉ tiêu được duyệt hoặc vượt quá định mức sử dụng theo quy định.\\n3. Trong trường hợp phải chấm dứt hợp đồng với người lao động theo quy định tại điểm a và điểm b khoản 2 Điều này, cán bộ tham mưu, đề xuất và lãnh đạo có thẩm quyền ký kết hợp đồng với người lao động sẽ bị xem xét, xử lý kỷ luật theo quy định hiện hành của Bộ Công an về xử lý kỷ luật cán bộ, chiến sĩ Công an nhân dân.\\nĐiều 18. Tạm hoãn thực hiện hợp đồng lao động\\n1. Các trường hợp tạm hoãn thực hiện hợp đồng lao động bao gồm:\\na) Người lao động thực hiện nghĩa vụ quân sự, nghĩa vụ tham gia Công an nhân dân, nghĩa vụ tham gia Dân quân tự vệ;'),\n",
       " Document(metadata={'name': 'Thông tư 22/2022/TT-BCA', 'url': 'https://dulieuphapluat.vn/van-ban/lao-dong-van-ban/thong-tu-222022tt-bca-cua-bo-cong-an-ve-quy-dinh-ve-lao-dong-hop-dong-trong-cong-an-nhan-dan-1100555.html'}, page_content='Điều 11. Xác định công việc để giao kết hợp đồng lao động\\n1. Đối với lao động hợp đồng hưởng lương ngân sách Nhà nước\\na) Ký kết hợp đồng lao động không xác định thời hạn hoặc hợp đồng lao động xác định thời hạn từ đủ 12 tháng đến 36 tháng với người lao động làm các công việc quy định tại các điểm a, b, c, d, đ, e, g, h và i mục 2 Phụ lục ban hành kèm theo Thông tư này;\\nb) Ký kết hợp đồng lao động xác định thời hạn dưới 12 tháng đối với người lao động làm các công việc quy định tại điểm c mục 2 Phụ lục ban hành kèm theo Thông tư này và các công việc sau:\\nNấu ăn phục vụ hội nghị, các lớp huấn luyện, tập huấn, bồi dưỡng nghiệp vụ, chức danh có thời gian dưới 12 tháng; nấu ăn, phục vụ buồng bàn tại các nhà nghỉ dưỡng trong thời gian đông cán bộ, chiến sĩ đi nghỉ; hướng dẫn viên trên các tàu du lịch trong thời gian dưới 12 tháng; diễn viên, ca sĩ, đạo diễn, quay phim, nhạc công, kỹ thuật viên âm thanh, ánh sáng, biên kịch, hóa trang, dựng phim, quảng cáo thực hiện các chương trình văn hóa, văn nghệ của Công an nhân dân có thời gian dưới 12 tháng.\\n2. Đối với lao động hợp đồng tại các doanh nghiệp, đơn vị sự nghiệp công lập tự chủ về tài chính do Giám đốc doanh nghiệp, Thủ trưởng đơn vị căn cứ thời điểm kết thúc công việc để chủ động xác định.\\nĐiều 12. Thẩm quyền ký kết hợp đồng lao động\\n1. Hợp đồng lao động hưởng lương ngân sách Nhà nước tại Công an đơn vị, địa phương do Thủ trưởng Công an đơn vị, địa phương trực tiếp ký kết với người lao động.\\n2. Hợp đồng lao động tại các doanh nghiệp, đơn vị sự nghiệp công lập tự chủ về tài chính do Giám đốc doanh nghiệp, Thủ trưởng đơn vị sự nghiệp công lập trực tiếp ký kết với người lao động.\\nĐiều 13. Nội dung hợp đồng lao động\\n1. Hợp đồng lao động phải có những nội dung chủ yếu theo quy định tại khoản 1 Điều 21 Bộ luật Lao động .'),\n",
       " Document(metadata={'name': 'Thông tư 22/2022/TT-BCA', 'url': 'https://dulieuphapluat.vn/van-ban/lao-dong-van-ban/thong-tu-222022tt-bca-cua-bo-cong-an-ve-quy-dinh-ve-lao-dong-hop-dong-trong-cong-an-nhan-dan-1100555.html'}, page_content='a) Người lao động thực hiện nghĩa vụ quân sự, nghĩa vụ tham gia Công an nhân dân, nghĩa vụ tham gia Dân quân tự vệ;\\nb) Người lao động bị tạm giữ, tạm giam theo quy định của pháp luật về tố tụng hình sự;\\nc) Lao động nữ mang thai theo quy định tại Điều 138 Bộ luật Lao động ;\\nd) Trường hợp khác do hai bên thỏa thuận.\\n2. Trong thời gian tạm hoãn thực hiện hợp đồng lao động, người lao động không được hưởng lương và quyền, lợi ích đã giao kết trong hợp đồng lao động, trừ trường hợp hai bên có thỏa thuận hoặc pháp luật có quy định khác.\\nChương III\\nQUYỀN LỢI , NGHĨA VỤ CỦA NGƯỜI LAO ĐỘNG; GIẢI QUYẾT TRANH CHẤP LAO ĐỘNG, XỬ LÝ KỶ LUẬT LAO ĐỘNG\\nĐiều 19. Quyền lợi của lao động hợp đồng hưởng lương ngân sách Nhà nước\\n1. Quyền lợi của người lao động khi ký kết hợp đồng lao động không xác định thời hạn hoặc hợp đồng lao động xác định thời hạn từ đủ 12 tháng đến 36 tháng\\na) Được đảm bảo về thời giờ làm việc, thời giờ nghỉ ngơi, an toàn, vệ sinh lao động theo quy định tại các Điều từ Điều 105 đến Điều 116 Chương VII và các Điều từ Điều 132 đến Điều 134 Chương IX Bộ luật Lao động ;\\nTrường hợp công việc mà người lao động đảm nhận phải làm thường xuyên, liên tục nhưng thời gian thực hiện trong ngày ít hơn 08 giờ thì Công an đơn vị, địa phương thỏa thuận, bố trí người lao động kiêm nhiệm thêm công việc khác theo Phụ lục ban hành kèm theo Thông tư này để bảo đảm đủ 08 giờ làm việc/ngày theo quy định của pháp luật;'),\n",
       " Document(metadata={'name': 'Thông tư 22/2022/TT-BCA', 'url': 'https://dulieuphapluat.vn/van-ban/lao-dong-van-ban/thong-tu-222022tt-bca-cua-bo-cong-an-ve-quy-dinh-ve-lao-dong-hop-dong-trong-cong-an-nhan-dan-1100555.html'}, page_content='Điều 8. Điều kiện ký kết hợp đồng lao động\\n1. Đối với doanh nghiệp, đơn vị sự nghiệp công lập tự chủ về tài chính:\\nTrên cơ sở yêu cầu sản xuất, kinh doanh, tính toán số lượng lao động và yêu cầu về trình độ chuyên môn, tay nghề để ký kết hợp đồng lao động với người lao động, nhưng không được trái với các quy định tại Thông tư này và các quy định của pháp luật về hợp đồng lao động.\\n2. Đối với Công an đơn vị, địa phương, việc ký kết hợp đồng với người lao động phải bảo đảm các điều kiện sau:\\na) Đúng số lượng của từng loại hợp đồng lao động được cấp có thẩm quyền duyệt;\\nb) Người lao động bảo đảm các tiêu chuẩn quy định tại Điều 7 Thông tư này và là người trúng tuyển trong đợt tuyển lao động của Công an đơn vị, địa phương theo quy định tại khoản 2 và khoản 3 Điều 15 Thông tư này .\\nĐiều 9. Hồ sơ đăng ký dự tuyển lao động\\n1. Hồ sơ đăng ký dự tuyển lao động của người lao động tại các doanh nghiệp, đơn vị sự nghiệp công lập tự chủ về tài chính trong Công an nhân dân thực hiện theo quy định của Bộ luật Lao động và các quy định của pháp luật về hợp đồng lao động.\\n2. Hồ sơ đăng ký dự tuyển lao động của người lao động hợp đồng hưởng lương ngân sách Nhà nước ở Công an đơn vị, địa phương gồm:\\na) Phiếu đăng ký dự tuyển lao động (theo mẫu ban hành kèm theo Thông tư này) có xác nhận của Công an cấp xã nơi cư trú hoặc của cơ quan, tổ chức nơi người lao động đang làm việc;\\nb) Giấy chứng nhận có đủ sức khỏe để lao động theo kết luận của cơ sở khám, chữa bệnh cấp huyện trở lên;\\nc) Bản sao các văn bằng, chứng chỉ về trình độ học vấn, trình độ chuyên môn kỹ thuật do cơ quan, tổ chức có thẩm quyền cấp (bản sao từ sổ gốc hoặc bản sao có chứng thực hoặc bản sao xuất trình kèm theo bản chính để đối chiếu) theo yêu cầu của công việc cần tuyển;'),\n",
       " Document(metadata={'name': 'Thông tư 22/2022/TT-BCA', 'url': 'https://dulieuphapluat.vn/van-ban/lao-dong-van-ban/thong-tu-222022tt-bca-cua-bo-cong-an-ve-quy-dinh-ve-lao-dong-hop-dong-trong-cong-an-nhan-dan-1100555.html'}, page_content='d) Bản sao các loại giấy tờ có giá trị pháp lý chứng nhận thuộc đối tượng ưu tiên (nếu có);\\n3. Người lao động ký kết hợp đồng lao động xác định thời hạn dưới 12 tháng hưởng lương ngân sách Nhà nước và người lao động tại các doanh nghiệp, đơn vị sự nghiệp công lập tự chủ về tài chính phải có xác nhận của Công an cấp xã nơi cư trú về bản thân không thuộc một trong các trường hợp quy định tại điểm b khoản 5 Điều 7 Thông tư này .\\n4. Người lao động làm việc theo hợp đồng lao động hưởng lương ngân sách Nhà nước chấm dứt hợp đồng ở Công an đơn vị, địa phương này để dự tuyển lao động ở Công an đơn vị, địa phương khác vẫn hưởng lương ngân sách Nhà nước, trong thời hạn 6 tháng kể từ ngày chấm dứt hợp đồng lao động chỉ cần nộp cho nơi đăng ký dự tuyển Phiếu đăng ký dự tuyển và bản nhận xét, đánh giá của Công an đơn vị, địa phương đã làm việc trước đó. Trong thời gian 30 ngày sau khi ký kết hợp đồng, Công an đơn vị, địa phương sử dụng lao động có trách nhiệm liên hệ và tiếp nhận lại toàn bộ hồ sơ, các loại giấy tờ có liên quan đến người lao động ở Công an đơn vị, địa phương cũ theo quy định.\\nChương II\\nHỢP ĐỒNG LAO ĐỘNG VÀ TUYỂN LAO ĐỘNG HỢP ĐỒNG\\nĐiều 10. Loại hợp đồng lao động\\n1. Hợp đồng lao động không xác định thời hạn: Là hợp đồng mà trong đó hai bên không xác định thời hạn, thời điểm chấm dứt hiệu lực của hợp đồng.\\n2. Hợp đồng lao động xác định thời hạn\\na) Hợp đồng xác định thời hạn từ đủ 12 tháng đến 36 tháng: Là hợp đồng mà trong đó hai bên xác định thời hạn, thời điểm chấm dứt hiệu lực của hợp đồng trong thời gian từ đủ 12 tháng đến đủ 36 tháng kể từ thời điểm có hiệu lực của hợp đồng;'),\n",
       " Document(metadata={'name': 'Thông tư 22/2022/TT-BCA', 'url': 'https://dulieuphapluat.vn/van-ban/lao-dong-van-ban/thong-tu-222022tt-bca-cua-bo-cong-an-ve-quy-dinh-ve-lao-dong-hop-dong-trong-cong-an-nhan-dan-1100555.html'}, page_content='2. Chuyển loại hợp đồng lao động là việc chấm dứt hợp đồng lao động xác định thời hạn để giao kết hợp đồng lao động không xác định thời hạn.\\n3. Đơn vị trực tiếp sử dụng người lao động là đơn vị được giao thẩm quyền quản lý, sử dụng người lao động theo hợp đồng lao động đã giao kết.\\n4. Người lao động cao tuổi là người tiếp tục lao động sau độ tuổi theo quy định tại khoản 2 Điều 169 Bộ luật Lao động .\\nĐiều 3. Nguyên tắc tuyển, sử dụng lao động hợp đồng\\n1. Công khai, dân chủ, minh bạch, tuân thủ đúng quy định của pháp luật về lao động; việc tuyển lao động hợp đồng phải đúng đối tượng, tiêu chuẩn, điều kiện, trình tự, thẩm quyền và loại hợp đồng lao động theo quy định tại Thông tư này.\\n2. Thực hiện đầy đủ các chế độ, chính sách đối với người lao động theo quy định của pháp luật và của Bộ Công an.\\nĐiều 4. Kế hoạch tuyển, sử dụng lao động hợp đồng\\n1. Kế hoạch tuyển, sử dụng lao động hợp đồng hưởng lương ngân sách Nhà nước ở Công an đơn vị, địa phương được thực hiện theo trình tự sau:\\na) Trước ngày 30 tháng 10 hằng năm, đơn vị trực tiếp sử dụng người lao động báo cáo nhu cầu tuyển, sử dụng lao động hợp đồng tại đơn vị mình về cơ quan tổ chức cán bộ của Công an đơn vị, địa phương;\\nb) Cơ quan tổ chức cán bộ thẩm định, xin ý kiến tập thể thường vụ đảng ủy và lãnh đạo Công an đơn vị, địa phương trước khi Thủ trưởng Công an đơn vị, địa phương ký văn bản báo cáo về Bộ Công an (qua Cục Tổ chức cán bộ) trước ngày 31 tháng 12 hằng năm;\\nĐối với hợp đồng lao động xác định thời hạn, Công an đơn vị, địa phương căn cứ kế hoạch sử dụng được tập thể thường vụ đảng ủy, lãnh đạo Công an đơn vị, địa phương thông qua và nguồn ngân sách được cấp để chủ động tuyển lao động theo quy định tại Điều 15 Thông tư này ;'),\n",
       " Document(metadata={'name': 'Thông tư 22/2022/TT-BCA', 'url': 'https://dulieuphapluat.vn/van-ban/lao-dong-van-ban/thong-tu-222022tt-bca-cua-bo-cong-an-ve-quy-dinh-ve-lao-dong-hop-dong-trong-cong-an-nhan-dan-1100555.html'}, page_content='Chương IV\\nTỔ CHỨC THỰC HIỆN\\nĐiều 25. Hiệu lực thi hành\\n1. Thông tư này có hiệu lực thi hành kể từ ngày 01 tháng 7 năm 2022. Thông tư số 68/2019/TT-BCA ngày 04 tháng 12 năm 2019 của Bộ Công an quy định về lao động hợp đồng trong Công an nhân dân hết hiệu lực thi hành kể từ ngày Thông tư này có hiệu lực thi hành.\\n2. Kể từ ngày Thông tư này có hiệu lực thi hành, hợp đồng lao động đã giao kết đúng theo các quy định trước đây của Bộ Công an quy định về lao động hợp đồng trong Công an nhân dân được tiếp tục thực hiện. Trường hợp các bên có thỏa thuận về việc sửa đổi, bổ sung để phù hợp và để áp dụng quy định của Thông tư này thì Công an đơn vị, địa phương tổ chức ký kết lại hợp đồng lao động.\\n3. Trường hợp các văn bản quy phạm pháp luật dẫn chiếu để áp dụng trong Thông tư này được sửa đổi, bổ sung hoặc thay thế thì áp dụng theo các văn bản sửa đổi, bổ sung hoặc thay thế.\\nĐiều 26. Trách nhiệm thi hành\\n1. Thủ trưởng Công an đơn vị, địa phương, Giám đốc doanh nghiệp, Thủ trưởng đơn vị sự nghiệp công lập trong Công an nhân dân chịu trách nhiệm thực hiện Thông tư này.\\n2. Cục trưởng Cục Tổ chức cán bộ hướng dẫn, kiểm tra việc thực hiện Thông tư này và hướng dẫn thống nhất các biểu mẫu hồ sơ, báo cáo thống kê phục vụ công tác quản lý, sử dụng lao động hợp đồng trong Công an nhân dân.\\nTrong quá trình thực hiện, nếu có khó khăn, vướng mắc, đề nghị Công an đơn vị, địa phương báo cáo về Bộ Công an (qua Cục Tổ chức cán bộ) để được hướng dẫn, giải quyết./.\\nBắt đầu bảng: \\nNơi nhận: - Các đồng chí Thứ trưởng; - Công an đơn vị, địa phương (để thực hiện); - Công báo; - Lưu: VT, V03, X01(P2), 150. | BỘ TRƯỞNG Đại tướng Tô Lâm\\n Kết thúc bảng.'),\n",
       " Document(metadata={'name': 'Quyết định 641/QĐ-UBND', 'url': 'https://dulieuphapluat.vn/van-ban/lao-dong-van-ban/quyet-dinh-641qd-ubnd-cua-uy-ban-nhan-dan-tinh-vinh-long-ve-viec-cong-bo-danh-muc-thu-tuc-hanh-chinh-duoc-sua-doi-bo-sung-thu-tuc-hanh-chinh-linh-vuc-bao-tro-xa-hoi-thuoc-pham-vi-chuc-nang-quan-ly-nha-nuoc-cua-so-lao-dong-thuong-binh-va-xa-hoi-tinh-vinh-long-1102707.html'}, page_content='cấp - Dạng tật: ........................................................................................................... - Mức độ khuyết tật: .......................................................................................... 8. Có tham gia làm việc không? □ Không □ Có a) Nếu có thì đang làm gì ……………, thu nhập hàng tháng …………… đồng b) Nếu không thì ghi lý do: ..................................................................................... 9. Tình trạng hôn nhân: .......................................................................................... 10. Khả năng tự phục vụ? ....................................................................................... Tôi xin cam đoan những lời khai trên là đúng sự thực, nếu có điều gì khai không đúng, tôi xin chịu trách nhiệm hoàn toàn. Thông tin người khai thay Giấy CMND hoặc Căn')]"
      ]
     },
     "execution_count": 15,
     "metadata": {},
     "output_type": "execute_result"
    }
   ],
   "source": [
    "top_documents"
   ]
  },
  {
   "cell_type": "markdown",
   "metadata": {},
   "source": [
    "# Create ollama client"
   ]
  },
  {
   "cell_type": "code",
   "execution_count": 17,
   "metadata": {},
   "outputs": [],
   "source": [
    "ollama_api_url = \"https://87ea-35-201-213-122.ngrok-free.app/\" # Thay đổi mỗi lần host\n",
    "\n",
    "ollama_client = ollama.Client(\n",
    "    host=ollama_api_url,\n",
    "    headers = {'Header': 'application/json'}\n",
    ")"
   ]
  },
  {
   "cell_type": "code",
   "execution_count": null,
   "metadata": {},
   "outputs": [],
   "source": [
    "system_prompt = \"Xây dựng chương trình RAG với chatbot trung thực.\\n\" \\\n",
    "\"Và không bao giờ trả lời các câu hỏi liên quan đến chính trị, tôn giáo, tình dục và các vấn đề nhạy cảm khác.\\n\" \\\n",
    "\"Tôi có bộ dữ liệu gồm các Lĩnh vực pháp luật Việt Nam bao gồm Bảo Hiểm, Lao Động, Nhà Đất và Tài Chính Ngân Hàng. \" \\\n",
    "\"Trong đó bao bồm các văn bản hành chính của Chính phủ.\\n\" \\\n",
    "\n",
    "\n"
   ]
  },
  {
   "cell_type": "code",
   "execution_count": 45,
   "metadata": {},
   "outputs": [],
   "source": [
    "# question = \"Quần đảo Trường Sa thuộc tỉnh nào?\"\n",
    "# question = \"Tôi có thể làm gì với hợp đồng lao động?\"\n",
    "question = \"Những vấn đề liên quan đến hợp đồng lao động là gì ?\""
   ]
  },
  {
   "cell_type": "code",
   "execution_count": 47,
   "metadata": {},
   "outputs": [
    {
     "data": {
      "text/plain": [
       "1"
      ]
     },
     "execution_count": 47,
     "metadata": {},
     "output_type": "execute_result"
    }
   ],
   "source": [
    "def judment1_answerable(question, retry=2):\n",
    "    if retry == 0:\n",
    "        return None\n",
    "\n",
    "    agent_judgment1 = 'Bạn là một agent với nhiệm vụ đánh giá câu trả lời. ' \\\n",
    "    'Với câu hỏi \"{question}\", bạn có thể trả lời câu hỏi bằng cơ sở dữ liệu của tôi được hay không (trả lời 1 nếu có thể, trả lời 0 nếu không thế). \\n' \\\n",
    "    'Trả lời:'\n",
    "\n",
    "    response = ollama_client.chat(\n",
    "        model=\"gemma3:12b\",\n",
    "        messages=[{\"role\": \"user\", \"content\": system_prompt + agent_judgment1.format(question=question)}],\n",
    "        stream=False,\n",
    "    )\n",
    "    # print(\"response.message.content = \", response.message.content)\n",
    "    if \"0\" in response.message.content:\n",
    "        judment1_result = 0\n",
    "    elif \"1\" in response.message.content:\n",
    "        judment1_result = 1\n",
    "    else:\n",
    "        return judment1_answerable(question, retry-1)\n",
    "    \n",
    "    return judment1_result\n",
    "\n",
    "judment1_answerable(question, retry=2)"
   ]
  },
  {
   "cell_type": "code",
   "execution_count": null,
   "metadata": {},
   "outputs": [
    {
     "name": "stdout",
     "output_type": "stream",
     "text": [
      "Lao Động: Các quyền và nghĩa vụ của người lao động và người sử dụng lao động khi ký kết hợp đồng lao động.\n",
      "Nhà Đất: Các quy định liên quan đến quyền sở hữu và sử dụng tài sản khi có hợp đồng lao động gắn liền với nhà ở.\n",
      "Tài Chính Ngân Hàng: Các vấn đề về thanh toán, khấu trừ và các khoản phúc lợi liên quan đến hợp đồng lao động.\n",
      "\n"
     ]
    }
   ],
   "source": [
    "# agent_search_plan = 'Bạn là một agent để dự đoán thông tin cần truy vấn.\\n' \\\n",
    "# 'Theo bạn để trả lời câu hỏi \"{question}\", thì cần những thông tin gì và đến từ Lĩnh vực nào?\\n' \\\n",
    "# 'Trả lời tối đa 3 dòng và theo cú pháp \"<linh_vuc>: <thong_tin_can>\", linh_vuc chỉ duy nhất một, 3 câu trả lời cho thể trùng Lĩnh vực nhưng khác nhau thông tin cần.\\n' \\\n",
    "# 'Trả lời:\\n'\n",
    "\n",
    "# response = ollama_client.chat(\n",
    "#     model=\"gemma3:12b\",\n",
    "#     messages=[{\"role\": \"user\", \"content\": system_prompt + agent_search_plan.format(question=question)}],\n",
    "#     stream=False,\n",
    "# )\n",
    "\n",
    "# print(response.message.content)"
   ]
  },
  {
   "cell_type": "code",
   "execution_count": 55,
   "metadata": {},
   "outputs": [
    {
     "name": "stdout",
     "output_type": "stream",
     "text": [
      "Trả lời: Cần tìm kiếm các văn bản hành chính, nghị định, luật liên quan đến \"hợp đồng lao động\", \"quyền và nghĩa vụ của người lao động và người sử dụng lao động\", \"thời hạn hợp đồng lao động\", \"thủ tục chấm dứt hợp đồng lao động\" trong lĩnh vực Lao Động.\n"
     ]
    }
   ],
   "source": [
    "agent_search_plan = 'Bạn là một agent để dự đoán thông tin cần truy vấn.\\n' \\\n",
    "'Theo bạn để trả lời câu hỏi \"{question}\", thì cần những thông tin gì ?\\n' \\\n",
    "'Gợi ý cho tôi một câu ngắn gọn bắt đầu sau từ \"Trả lời\" sau đây.\\n' \\\n",
    "'Trả lời:\\n'\n",
    "\n",
    "response = ollama_client.chat(\n",
    "    model=\"gemma3:12b\",\n",
    "    messages=[{\"role\": \"user\", \"content\": system_prompt + agent_search_plan.format(question=question)}],\n",
    "    stream=False,\n",
    ")\n",
    "print(response.message.content)"
   ]
  },
  {
   "cell_type": "code",
   "execution_count": null,
   "metadata": {},
   "outputs": [
    {
     "data": {
      "text/plain": [
       "'Cần tìm kiếm các văn bản hành chính, nghị định, luật liên quan đến \"hợp đồng lao động\", \"quyền và nghĩa vụ của người lao động và người sử dụng lao động\", \"thời hạn hợp đồng lao động\", \"thủ tục chấm dứt hợp đồng lao động\" trong lĩnh vực Lao Động.'"
      ]
     },
     "execution_count": 56,
     "metadata": {},
     "output_type": "execute_result"
    }
   ],
   "source": [
    "\n",
    "plans = re.sub(\"^Trả lời:*\\s*\", \"\", response.message.content)\n",
    "plans"
   ]
  },
  {
   "cell_type": "code",
   "execution_count": 57,
   "metadata": {},
   "outputs": [
    {
     "data": {
      "text/plain": [
       "[Document(metadata={'name': 'Quyết định 471/QĐ-UBND', 'url': 'https://dulieuphapluat.vn/van-ban/lao-dong-van-ban/quyet-dinh-471qd-ubnd-nam-2023-cua-uy-ban-nhan-dan-tinh-khanh-hoa-ve-viec-cong-bo-danh-muc-thu-tuc-hanh-chinh-sua-doi-bo-sung-linh-vuc-quan-ly-lao-dong-ngoai-nuoc-thuoc-tham-quyen-giai-quyet-cua-so-lao-dong-thuong-binh-va-xa-hoi-ban-quan-ly-khu-kinh-te-van-phong-tinh-khanh-hoa-1101732.html'}, page_content='ở nước ngoài theo hợp đồng; - Quyết định số 58/QĐ-LĐTBXH ngày 26/01/2022 của Bộ trưởng Bộ Lao động - Thương binh và Xã hội về việc công bố các thủ tục hành chính mới ban hành, sửa đổi, bổ sung, bãi bỏ lĩnh vực quản lý lao động ngoài nước thuộc phạm vi chức năng quản lý nhà nước của Bộ Lao động - Thương binh và Xã hội.'),\n",
       " Document(metadata={'name': 'Hướng dẫn 33/HD-VKSTC', 'url': 'https://dulieuphapluat.vn/van-ban/lao-dong-van-ban/huong-dan-33hd-vkstc-cua-vien-kiem-sat-nhan-dan-toi-cao-ve-mot-so-noi-dung-co-ban-trong-cong-tac-kiem-sat-viec-giai-quyet-vu-an-tranh-chap-lao-dong-ca-nhan-1098932.html'}, page_content='+ Trên thực tế còn xảy ra trường hợp hợp đồng lao động xác định thời hạn hết hạn nhưng người lao động vẫn tiếp tục làm việc và trong thời hạn 30 ngày, kể từ ngày hợp đồng lao động hết hạn giữa người lao động và người sử dụng lao động chưa ký kết hợp đồng mới. Sau đó, do không thỏa thuận được các nội dung để ký hợp đồng lao động mới nên người sử dụng lao động ra quyết định đơn phương chấm dứt hợp đồng lao động ban đầu vì lý do hết hạn hợp đồng. Người lao động khởi kiện yêu cầu hủy quyết định đơn phương chấm dứt hợp đồng lao động.\\nĐối với vụ án trên, Kiểm sát viên, công chức xác định người sử dụng lao động đơn phương chấm dứt hợp đồng lao động là trái pháp luật vì khi hợp đồng lao động xác định thời hạn hết hạn mà người lao động vẫn tiếp tục làm việc thì trong thời hạn 30 ngày, kể từ ngày hợp đồng lao động xác định thời hạn hết hạn, các bên phải ký kết hợp đồng mới; trong thời gian chưa ký kết hợp đồng mới thì quyền, nghĩa vụ và lợi ích của hai bên được thực hiện theo hợp đồng đã giao kết. Nếu hai bên không thỏa thuận được thì tiếp tục thực hiện hợp đồng đã giao kết hoặc thỏa thuận chấm dứt hợp đồng lao động.\\n- Trường hợp người sử dụng lao động có hành vi, quyết định đơn phương chấm dứt hợp đồng lao động trái pháp luật thì Kiểm sát viên, công chức xem xét nghĩa vụ của người sử dụng lao động phải thực hiện tương tự như nội dung hướng dẫn đối với vụ án tranh chấp xử lý k ỷ luật lao động theo hình thức sa thải đã nêu tại tiểu mục 1.1, mục 1 Phần II của Hướng dẫn này.\\n2.2. Người lao động đơn phương chấm dứt hợp đồng lao động'),\n",
       " Document(metadata={'name': 'Thông tư 22/2022/TT-BCA', 'url': 'https://dulieuphapluat.vn/van-ban/lao-dong-van-ban/thong-tu-222022tt-bca-cua-bo-cong-an-ve-quy-dinh-ve-lao-dong-hop-dong-trong-cong-an-nhan-dan-1100555.html'}, page_content='Điều 23. Lập, cập nhật, quản lý và sử dụng sổ quản lý lao động\\n1. Việc lập, cập nhật, quản lý và sử dụng sổ quản lý lao động thực hiện theo Nghị định số 145/2020/NĐ-CP ngày 14 tháng 12 năm 2020 của Chính phủ quy định chi tiết và hướng dẫn thi hành một số điều của Bộ luật Lao động về điều kiện lao động và quan hệ lao động.\\n2. Sổ quản lý lao động được bảo quản theo chế độ quản lý hồ sơ cán bộ.\\nĐiều 24. Kỷ luật lao động, trách nhiệm vật chất\\n1. Nội quy lao động\\nNgười sử dụng lao động phải ban hành nội quy lao động, nếu sử dụng từ 10 người lao động trở lên thì nội quy lao động phải bằng văn bản, nếu sử dụng dưới 10 người lao động thì không bắt buộc ban hành nội quy lao động bằng văn bản nhưng phải thỏa thuận nội dung về kỷ luật lao động, trách nhiệm vật chất trong hợp đồng lao động. Nội dung nội quy lao động thực hiện theo quy định tại khoản 2 Điều 69 Nghị định số 145/2020/NĐ-CP ngày 14 tháng 12 năm 2020 của Chính phủ quy định chi tiết và hướng dẫn thi hành một số điều của Bộ luật Lao động về điều kiện lao động và quan hệ lao động.\\n2. Xử lý kỷ luật lao động\\nNgười có thẩm quyền xử lý kỷ luật lao động là người có thẩm quyền ký kết hợp đồng lao động theo quy định tại Điều 12 Thông tư này ;\\nNgười lao động không thực hiện đúng nghĩa vụ và trách nhiệm theo thỏa thuận trong hợp đồng, vi phạm nội quy lao động, tùy tính chất, mức độ vi phạm sẽ bị chấm dứt hợp đồng lao động hoặc bị xử lý kỷ luật theo quy định tại các Điều từ Điều 122 đến Điều 131 Chương VIII Bộ luật Lao động và quy định tại các Điều từ Điều 70 đến Điều 73 Nghị định số 145/2020/NĐ-CP ngày 14 tháng 12 năm 2020 của Chính phủ quy định chi tiết và hướng dẫn thi hành một số điều của Bộ luật Lao động về điều kiện lao động và quan hệ lao động.\\nChương IV\\nTỔ CHỨC THỰC HIỆN'),\n",
       " Document(metadata={'name': 'Hướng dẫn 33/HD-VKSTC', 'url': 'https://dulieuphapluat.vn/van-ban/lao-dong-van-ban/huong-dan-33hd-vkstc-cua-vien-kiem-sat-nhan-dan-toi-cao-ve-mot-so-noi-dung-co-ban-trong-cong-tac-kiem-sat-viec-giai-quyet-vu-an-tranh-chap-lao-dong-ca-nhan-1098932.html'}, page_content='2. Tranh chấp về đơn phương chấm dứt hợp đồng lao động\\n2.1. Người sử dụng lao động đ ơ n ph ươ ng chấm dứt hợp đồng lao động\\n- Đối với vụ án tranh chấp người sử dụng lao động đơn phương chấm dứt hợp đồng lao động, Kiểm sát viên, công chức trước hết phải xác định có hay không có sự việc người sử dụng lao động đơn phương chấm dứt hợp đồng với người lao động. Trường hợp người sử dụng lao động không đơn phương chấm dứt hợp đồng thì không đặt ra việc xem xét về căn cứ, trình tự, thủ tục và hậu quả của việc đơn phương chấm dứt hợp đồng trái quy định của pháp luật.\\nVí dụ: Ông P trình bày, ông P và Công ty TNHH MTV HLT (sau đây viết tắt là Công ty HLT) có ký kết hợp đồng lao động vào ngày 01/8/2015 với thời hạn lao động là 02 năm. Sau khi kết thúc thời hạn hợp đồng lao động trên, ngày 01/8/2017 ông P vẫn tiếp tục ở lại Công ty HLT làm việc. Công ty HLT không ký kết hợp đồng lao động tiếp nhưng làm thủ tục cấp Giấy phép lao động cho ông P. Ngày 03/3/2018, ông P nhận được thông tin bị đuổi việc, Công ty HLT không gửi cho ông P văn bản thông báo trước, buộc ông P phải bàn giao công việc đang phụ trách và không cho ông P vào công ty làm việc. Ông P khởi kiện cho rằng Công ty HLT đơn phương chấm dứt hợp đồng lao động trái luật nên yêu cầu Công ty HLT phải bồi thường cho ông P.\\nBản án lao động sơ thẩm của TAND thành phố TDM nhận định Công ty HLT đơn phương chấm dứt hợp đồng lao động trái luật và chấp nhận yêu cầu bồi thường của ông P . Sau đó, Công ty HLT có kháng cáo; Viện trưởng VKSND thành phố TDM ban hành quyết định kháng nghị phúc thẩm.'),\n",
       " Document(metadata={'name': '01/QCPH-LĐTBXH-GDĐT-CA-NNPTNT-TLĐ-LMHTX-LĐTMCN', 'url': 'https://dulieuphapluat.vn/van-ban/lao-dong-van-ban/quy-che-phoi-hop-01qcph-ldtbxh-gddt-ca-nnptnt-tld-lmhtx-ldtmcn-nam-2024-phong-ngua-giam-thieu-tre-em-lao-dong-trai-quy-dinh-cua-phap-luat-giai-doan-2024-2025-dinh-huong-den-nam-2030-do-bo-lao-dong-thuong-binh-va-xa-hoi-bo-giao-duc-va-dao-tao-bo-cong-an-bo-nong-nghiep-va-phat-trien-nong-thon-tong-lien-doan-lao-dong-viet-nam-lien-minh-hop-tac-xa-viet-nam-lien-doan-thuong-mai-va-cong-nghiep-viet-nam-ban-hanh-1197752.html'}, page_content='Điều 16. Hiệu lực thi hành\\n1. Quy chế này đã được các Bộ, các cơ quan, tổ chức thống nhất thông qua và có hiệu lực kể từ ngày ký.\\n2. Trong quá trình triển khai, thực hiện Quy chế, nếu có phát sinh, vướng mắc, đề nghị phản ánh, kiến nghị về Bộ Lao động - Thương binh và Xã hội để tổng hợp, phối hợp với các Bộ, cơ quan, tổ chức xem xét, thống nhất sửa đổi, bổ sung cho phù hợp./.\\nBắt đầu bảng: \\nKT. BỘ TRƯỞNG BỘ LAO ĐỘNG - THƯƠNG BINH VÀ XÃ HỘI THỨ TRƯỞNG Nguyễn Thị Hà | KT. BỘ TRƯỞNG BỘ GIÁO DỤC VÀ ĐÀO TẠO THỨ TRƯỞNG Ngô Thị Minh\\nKT. BỘ TRƯỞNG BỘ CÔNG AN THỨ TRƯỞNG Thượng tướng Nguyễn Duy Ngọc | KT. BỘ TRƯỞNG BỘ NÔNG NGHIỆP VÀ PHÁT TRIỂN NÔNG THÔN THỨ TRƯỞNG Trần Thanh Nam\\nTM. ĐOÀN CHỦ TỊCH PHÓ CHỦ TỊCH TỔNG LIÊN ĐOÀN LAO ĐỘNG VIỆT NAM Thái Thu Xương | KT. CHỦ TỊCH PHÓ CHỦ TỊCH LIÊN MINH HỢP TÁC XÃ VIỆT NAM Nguyễn Mạnh Cường\\nKT. CHỦ TỊCH PHÓ CHỦ TỊCH LIÊN ĐOÀN THƯƠNG MẠI VÀ CÔNG NGHIỆP VIỆT NAM Hoàng Quang Phòng\\n Kết thúc bảng.\\nBắt đầu bảng:'),\n",
       " Document(metadata={'name': 'Bản án 01/2022/LĐ-ST', 'url': 'https://dulieuphapluat.vn/van-ban/lao-dong-van-ban/ban-an-ve-tranh-chap-boi-thuong-thiet-hai-khi-cham-dut-hop-dong-lao-dong-hop-dong-thu-viec-so-012022ld-st-toa-an-nhan-dan-thanh-pho-long-xuyen-an-giang-1043622.html'}, page_content='Như vậy, Công ty có quyền đơn phương chấm dứt hợp đồng lao động thử việc và khi chấm dứt hợp đồng thử việc người sử dụng lao động không cần báo trước và không phải bồi thường. Công ty không đồng ý với yêu cầu khởi kiện của ông H, đề nghị Tòa án giải quyết theo quy định pháp luật.\\n- Đại diện Viện kiểm sát nhân dân thành phố Long Xuyên phát biểu quan điểm:\\nHội đồng xét xử; Thư ký Tòa án đã tuân theo đúng các quy định của Bộ luật\\xa0tố tụng dân sự về trình tự, thủ tục xét xử sơ thẩm. Về thời hạn chuẩn bị xét xử thực hiện đúng theo quy định tại khoản 1 Điều 203 Bộ luật Tố tụng dân sự.\\nViệc tuân theo pháp luật của người tham gia tố tụng: nguyên đơn, bị đơn thực hiện đầy đủ quyền và nghĩa vụ theo quy định tại Điều 70, Điều 71, Điều 72 Bộ luật tố tụng dân sự.\\nVề nội dung: Nhận thấy, trong hợp đồng thử việc các bên ký kết đã xác định rõ thời gian thử việc 02 tháng, kể từ ngày kể từ ngày 05/4/2021 đến ngày 04/6/2021 là phù hợp với quy định tại Điều 25 Bộ luật Lao động năm 2019. Trong nội dung hợp đồng thử việc không thể hiện nội dung ràng buộc khi hết thời gian thử việc thì Công ty ký kết hợp đồng lao động chính thức với ông H. Đồng thời, tại khoản 2 Điều 27 Bộ luật Lao động năm 2019 quy định: “Trong thời gian thử việc, mỗi bên có quyền hủy bỏ hợp đồng thử việc hoặc hợp đồng lao động đã giao kết mà không cần báo trước và không phải bồi thường” , căn cứ vào tài liệu, chứng cứ trong vụ án và sự thừa nhận của đương sự thể hiện ngày 04/6/2021 (thời gian thử việc) Công ty đã thông báo cho ông H chấm dứt hợp đồng thử việc bằng lời nói trước, và sau đó đã ban hành Quyết định số 1218/QĐ-XNK về việc chấm dứt hợp đồng thử việc đối với ông H, do đó việc Công ty chấm dứt hợp đồng lao động thử việc với ông H là phù hợp với quy định pháp luật và không phải bồi thường.'),\n",
       " Document(metadata={'name': 'Thông báo 269/TB-VPCP', 'url': 'https://dulieuphapluat.vn/van-ban/lao-dong-van-ban/thong-bao-269tb-vpcp-cua-van-phong-chinh-phu-ve-ket-luan-cua-thu-tuong-chinh-phu-pham-minh-chinh-tai-hoi-nghi-phat-trien-thi-truong-lao-dong-linh-hoat-hien-dai-ben-vung-va-hoi-nhap-1017534.html'}, page_content='a) Nâng cao nhận thức về thị trường lao động. Tiếp tục hoàn thiện thể chế, chính sách, pháp luật đồng bộ, thống nhất để thị trường lao động phát triển theo hướng linh hoạt, hiệu quả, hiện đại, đầy đủ, bền vững, hội nhập quốc tế, nhằm giải phóng triệt để sức sản xuất, tập trung phát triển lao động có kỹ năng, thúc đẩy tạo việc làm bền vững, có thu nhập cao. Tiếp tục nội luật hóa và quy định cụ thể các tiêu chuẩn lao động phù hợp với điều kiện của Việt Nam và tiêu chuẩn quốc tế (các công ước của Tổ chức Lao động quốc tế (ILO), các FTA thế hệ mới) mà Việt Nam cam kết và phê chuẩn.\\nb) Tập trung xây dựng hệ thống quản trị thị trường lao động hiện đại, minh bạch để mỗi người lao động từ khi tham gia đến khi rời thị trường lao động được quản trị minh bạch, thống nhất, tạo điều kiện cho tham gia các hoạt động giao dịch việc làm, tiếp cận thông tin về thị trường lao động việc làm; để doanh nghiệp dễ tiếp cận cung lao động, nâng cao chất lượng lao động, cơ sở đào tạo; có chiến lược, kế hoạch đào tạo, cung ứng kịp thời, sát với nhu cầu thực tiễn. Đẩy mạnh đầu tư số hóa quản trị lao động việc làm kết nối với số hóa quản lý dân cư.\\nc) Chú trọng đầu tư về cơ chế, chính sách, nguồn lực để xây dựng hệ thống thông tin và dự báo thị trường lao động đa tầng từ cấp tỉnh, cấp vùng tới toàn quốc, đa lĩnh vực theo ngành nghề, có các cấp trình độ khác nhau. Hệ thống thông tin và dự báo hướng tới đối tượng sử dụng là các cơ quan quản lý nhà nước các cấp, cơ sở giáo dục đào tạo, giáo dục nghề nghiệp, doanh nghiệp và nhất là người lao động.\\nd) Đẩy mạnh xây dựng chính sách hỗ trợ tạo việc làm trên nguyên tắc có tính dự báo, tầm nhìn chiến lược, chủ động, phù hợp với cơ chế thị trường; đa dạng hoá các nguồn tín dụng để thúc đẩy việc tạo việc làm mới, việc làm sáng tạo, chất lượng cao, việc làm bền vững, việc làm xanh, việc làm cho đối tượng yếu thế, vùng sâu vùng xa.'),\n",
       " Document(metadata={'name': 'Thông tư 22/2022/TT-BCA', 'url': 'https://dulieuphapluat.vn/van-ban/lao-dong-van-ban/thong-tu-222022tt-bca-cua-bo-cong-an-ve-quy-dinh-ve-lao-dong-hop-dong-trong-cong-an-nhan-dan-1100555.html'}, page_content='b) Trong thời gian thử việc, mỗi bên có quyền hủy bỏ hợp đồng thử việc hoặc hợp đồng lao động đã giao kết mà không cần báo trước và không phải bồi thường.\\nĐiều 17. Sửa đổi, bổ sung, chấm dứt hợp đồng lao động\\n1. Việc sửa đổi, bổ sung hợp đồng lao động thực hiện theo quy định tại Điều 33 của Bộ luật Lao động . Trường hợp cần sửa đổi, bổ sung chức danh công việc đối với lao động hợp đồng theo chỉ tiêu Bộ duyệt thì Công an đơn vị, địa phương phải báo cáo Bộ (qua Cục Tổ cổ chức cán bộ); Cục trưởng Cục Tổ chức cán bộ căn cứ định mức sử dụng lao động hợp đồng lao động theo quy định và nhu cầu sử dụng lao động hợp đồng của Công an đơn vị, địa phương để xem xét, quyết định.\\n2. Việc chấm dứt hợp đồng lao động thực hiện theo quy định tại các Điều từ Điều 34 đến Điều 48 Chương III Bộ luật Lao động . Người có thẩm quyền ký kết hợp đồng lao động phải thỏa thuận với người lao động để chấm dứt hợp đồng lao động hưởng lương ngân sách Nhà nước trong các trường hợp sau:\\na) Ký kết hợp đồng lao động với người không bảo đảm tiêu chuẩn quy định tại Điều 7 Thông tư này hoặc không đúng công việc quy định tại Điều 11 Thông tư này ;\\nb) Ký kết hợp đồng lao động vượt số lượng, không đúng loại hợp đồng theo chỉ tiêu được duyệt hoặc vượt quá định mức sử dụng theo quy định.\\n3. Trong trường hợp phải chấm dứt hợp đồng với người lao động theo quy định tại điểm a và điểm b khoản 2 Điều này, cán bộ tham mưu, đề xuất và lãnh đạo có thẩm quyền ký kết hợp đồng với người lao động sẽ bị xem xét, xử lý kỷ luật theo quy định hiện hành của Bộ Công an về xử lý kỷ luật cán bộ, chiến sĩ Công an nhân dân.\\nĐiều 18. Tạm hoãn thực hiện hợp đồng lao động\\n1. Các trường hợp tạm hoãn thực hiện hợp đồng lao động bao gồm:\\na) Người lao động thực hiện nghĩa vụ quân sự, nghĩa vụ tham gia Công an nhân dân, nghĩa vụ tham gia Dân quân tự vệ;'),\n",
       " Document(metadata={'name': 'Nghị quyết 6/NQ-CP', 'url': 'https://dulieuphapluat.vn/van-ban/lao-dong-van-ban/nghi-quyet-6nq-cp-cua-chinh-phu-ve-phat-trien-thi-truong-lao-dong-linh-hoat-hien-dai-hieu-qua-ben-vung-va-hoi-nhap-nham-phuc-hoi-nhanh-kinh-te-xa-hoi-1100328.html'}, page_content='- Đóng góp, hỗ trợ hợp pháp của các doanh nghiệp, tổ chức, cá nhân trong và ngoài nước.\\n- Nguồn tài chính khác theo quy định của pháp luật.\\nb) Các bộ, ngành và địa phương căn cứ chức năng, nhiệm vụ được giao chủ động bố trí kinh phí cho hoạt động phát triển thị trường lao động linh hoạt, hiện đại, hiệu quả, bền vững và hội nhập nhằm phục hồi nhanh kinh tế - xã hội.\\nIV. TỔ CHỨC THỰC HIỆN\\n1. Bộ trưởng, Thủ trưởng cơ quan ngang bộ, cơ quan thuộc Chính phủ, Chủ tịch Ủy ban nhân dân các tỉnh, thành phố trực thuộc trung ương\\na) Tập trung chỉ đạo rà soát, đẩy nhanh tiến độ thực hiện các nhiệm vụ liên quan trực tiếp đến hỗ trợ phát triển thị trường lao động, giải quyết việc làm và phát triển nguồn nhân lực theo chỉ đạo của Chính phủ, Thủ tướng Chính phủ. Thường xuyên đánh giá tình hình, kết quả thực hiện, chủ động giải quyết theo thẩm quyền các vấn đề phát sinh; báo cáo, tham mưu cho Chính phủ, Thủ tướng Chính phủ xem xét, giải quyết vấn đề vượt thẩm quyền; đề xuất cơ chế, chính sách, giải pháp mới hiệu quả, khả thi bảo đảm phát triển thị trường lao động và nâng cao chất lượng nguồn nhân lực.'),\n",
       " Document(metadata={'name': 'Thông tư 22/2022/TT-BCA', 'url': 'https://dulieuphapluat.vn/van-ban/lao-dong-van-ban/thong-tu-222022tt-bca-cua-bo-cong-an-ve-quy-dinh-ve-lao-dong-hop-dong-trong-cong-an-nhan-dan-1100555.html'}, page_content='a) Người lao động thực hiện nghĩa vụ quân sự, nghĩa vụ tham gia Công an nhân dân, nghĩa vụ tham gia Dân quân tự vệ;\\nb) Người lao động bị tạm giữ, tạm giam theo quy định của pháp luật về tố tụng hình sự;\\nc) Lao động nữ mang thai theo quy định tại Điều 138 Bộ luật Lao động ;\\nd) Trường hợp khác do hai bên thỏa thuận.\\n2. Trong thời gian tạm hoãn thực hiện hợp đồng lao động, người lao động không được hưởng lương và quyền, lợi ích đã giao kết trong hợp đồng lao động, trừ trường hợp hai bên có thỏa thuận hoặc pháp luật có quy định khác.\\nChương III\\nQUYỀN LỢI , NGHĨA VỤ CỦA NGƯỜI LAO ĐỘNG; GIẢI QUYẾT TRANH CHẤP LAO ĐỘNG, XỬ LÝ KỶ LUẬT LAO ĐỘNG\\nĐiều 19. Quyền lợi của lao động hợp đồng hưởng lương ngân sách Nhà nước\\n1. Quyền lợi của người lao động khi ký kết hợp đồng lao động không xác định thời hạn hoặc hợp đồng lao động xác định thời hạn từ đủ 12 tháng đến 36 tháng\\na) Được đảm bảo về thời giờ làm việc, thời giờ nghỉ ngơi, an toàn, vệ sinh lao động theo quy định tại các Điều từ Điều 105 đến Điều 116 Chương VII và các Điều từ Điều 132 đến Điều 134 Chương IX Bộ luật Lao động ;\\nTrường hợp công việc mà người lao động đảm nhận phải làm thường xuyên, liên tục nhưng thời gian thực hiện trong ngày ít hơn 08 giờ thì Công an đơn vị, địa phương thỏa thuận, bố trí người lao động kiêm nhiệm thêm công việc khác theo Phụ lục ban hành kèm theo Thông tư này để bảo đảm đủ 08 giờ làm việc/ngày theo quy định của pháp luật;'),\n",
       " Document(metadata={'name': 'Kế hoạch 82/KH-UBND', 'url': 'https://dulieuphapluat.vn/van-ban/lao-dong-van-ban/ke-hoach-82kh-ubnd-cua-uy-ban-nhan-dan-thanh-pho-ha-noi-ve-viec-to-chuc-thang-hanh-dong-ve-an-toan-ve-sinh-lao-dong-va-thang-cong-nhan-nam-2023-1102286.html'}, page_content='- Nhiệt liệt hưởng ứng Tháng hành động về An toàn, vệ sinh lao động năm 2023.\\n- Cải thiện điều kiện làm việc, chăm sóc, nâng cao sức khỏe người lao động, phòng chống tai nạn lao động, bệnh nghề nghiệp.\\n- Thực hiện nghiêm các nội quy, quy trình, giải pháp bảo đảm an toàn, vệ sinh lao động tại nơi làm việc.\\n- Tuân thủ nghiêm việc trang cấp, sử dụng các phương tiện bảo vệ cá nhân trong lao động, sản xuất để phòng ngừa tai nạn lao động, bệnh nghề nghiệp.\\n- Đổi mới, nâng cao chất lượng công tác huấn luyện an toàn, vệ sinh lao động.\\n- Doanh nghiệp và người lao động chủ động thực hiện các quyền, nghĩa vụ và trách nhiệm về an toàn, vệ sinh lao động.\\n- Chủ động rà soát, đánh giá các nguy cơ, rủi ro mất an toàn, vệ sinh lao động để phòng tránh tai nạn lao động, bệnh nghề nghiệp.\\n- Hãy nghĩ về an toàn trước khi hành động.\\n- Tham gia bảo hiểm tai nạn lao động, bệnh nghề nghiệp vì an toàn và sự phát triển bền vững của doanh nghiệp và người lao động.'),\n",
       " Document(metadata={'name': 'Thông báo 269/TB-VPCP', 'url': 'https://dulieuphapluat.vn/van-ban/lao-dong-van-ban/thong-bao-269tb-vpcp-cua-van-phong-chinh-phu-ve-ket-luan-cua-thu-tuong-chinh-phu-pham-minh-chinh-tai-hoi-nghi-phat-trien-thi-truong-lao-dong-linh-hoat-hien-dai-ben-vung-va-hoi-nhap-1017534.html'}, page_content='Tồn tại, hạn chế trên có nhiều nguyên nhân, trong đó: công tác lãnh đạo, chỉ đạo phát triển thị trường lao động chưa đáp ứng yêu cầu đòi hỏi của tình hình thực tế; năng lực quản trị, vận hành thị trường lao động còn yếu; thiếu cơ chế, chính sách đãi ngộ đủ hấp dẫn để giữ chân người lao động trong khu vực doanh nghiệp nhà nước; hệ thống trung tâm, doanh nghiệp dịch vụ việc làm chưa phát huy tốt vai trò kết nối cung - cầu lao động; nhiều doanh nghiệp chưa quan tâm đúng mức đến quyền lợi, đời sống vật chất, tinh thần cho người lao động; vai trò của các tổ chức công đoàn, đoàn thể trong bảo vệ quyền lợi cho người lao động còn hạn chế; công tác thông tin, truyền thông còn hạn chế, nhiều người lao động chưa hiểu rõ quyền lợi, nghĩa vụ của mình; cơ sở dữ liệu thị trường lao động chưa được quan tâm phát triển đầy đủ; công tác thống kê cập nhật phục vụ phân tích, dự báo và chỉ đạo điều hành về tình hình lao động còn hạn chế.'),\n",
       " Document(metadata={'name': 'Quyết định 1506/QĐ-UBND', 'url': 'https://dulieuphapluat.vn/van-ban/lao-dong-van-ban/quyet-dinh-1506qd-ubnd-nam-2024-ve-de-an-phat-trien-quan-he-lao-dong-tren-dia-ban-tinh-tay-ninh-den-nam-2025-1200085.html'}, page_content='Song song với những kết quả tích cực đã đạt được trong thời gian qua, cùng với sự tăng trưởng và phát triển nhanh của nền kinh tế xã hội, của thị trường lao động dẫn đến quá trình triển khai, thực hiện vẫn còn bộc lộ một số hạn chế nhất định, cụ thể: Vai trò của cơ quan quản lý nhà nước trong việc xây dựng các cơ chế, thiết chế hỗ trợ phát triển quan hệ lao động tiến bộ, hài hòa và ổn định; vai trò đại diện, bảo vệ quyền lợi người lao động của tổ chức Công đoàn cơ sở trong quan hệ lao động còn hạn chế; thực hiện quy định về đối thoại và thực hiện quy chế dân chủ ở cơ sở chưa hiệu quả, chưa thực chất; thỏa ước lao động tập thể tại một số doanh nghiệp chưa thực sự là kết quả của quá trình thương lượng; lao động trong một số doanh nghiệp không ổn định; tình trạng đình công không đúng trình tự thủ tục pháp luật còn diễn ra và tiềm ẩn những yếu tố phức tạp; thiết chế giải quyết tranh chấp lao động như Hội đồng Trọng tài lao động chưa thể phát huy trong thực tiễn, nhất là đối với tranh chấp lao động tập thể. Nếu không có giải pháp khắc phục kịp thời những tồn tại, hạn chế sẽ ảnh hưởng đến môi trường đầu tư, an ninh chính trị và trật tự an toàn xã hội trên địa bàn đòi hỏi sự cần thiết phải ban hành Đề án.\\nBộ luật Lao động năm 2019 được ban hành tiếp tục thể chế hóa đường lối, chủ trương của Đảng và đặt ra nhiều yêu cầu mới, cao hơn về quan hệ lao động. Theo đó, một trong những nội dung mới đó là sự thành lập và hoạt động của các tổ chức của người lao động tại doanh nghiệp không thuộc hệ thống Tổng Liên đoàn Lao động Việt Nam có thể xảy ra, đòi hỏi việc phân công trách nhiệm quản lý nhà nước của các cơ quan, tổ chức nhằm đổi mới, nâng cao hiệu quả công tác quản lý quá trình hình thành và hoạt động của tổ chức của người lao động tại doanh nghiệp hướng tới bảo vệ quyền và lợi ích hợp pháp, chính đáng của người lao động, tạo điều kiện cho hoạt động sản xuất kinh doanh của doanh nghiệp luôn ổn định và đạt hiệu quả.'),\n",
       " Document(metadata={'name': 'Thông tư 22/2022/TT-BCA', 'url': 'https://dulieuphapluat.vn/van-ban/lao-dong-van-ban/thong-tu-222022tt-bca-cua-bo-cong-an-ve-quy-dinh-ve-lao-dong-hop-dong-trong-cong-an-nhan-dan-1100555.html'}, page_content='Điều 11. Xác định công việc để giao kết hợp đồng lao động\\n1. Đối với lao động hợp đồng hưởng lương ngân sách Nhà nước\\na) Ký kết hợp đồng lao động không xác định thời hạn hoặc hợp đồng lao động xác định thời hạn từ đủ 12 tháng đến 36 tháng với người lao động làm các công việc quy định tại các điểm a, b, c, d, đ, e, g, h và i mục 2 Phụ lục ban hành kèm theo Thông tư này;\\nb) Ký kết hợp đồng lao động xác định thời hạn dưới 12 tháng đối với người lao động làm các công việc quy định tại điểm c mục 2 Phụ lục ban hành kèm theo Thông tư này và các công việc sau:\\nNấu ăn phục vụ hội nghị, các lớp huấn luyện, tập huấn, bồi dưỡng nghiệp vụ, chức danh có thời gian dưới 12 tháng; nấu ăn, phục vụ buồng bàn tại các nhà nghỉ dưỡng trong thời gian đông cán bộ, chiến sĩ đi nghỉ; hướng dẫn viên trên các tàu du lịch trong thời gian dưới 12 tháng; diễn viên, ca sĩ, đạo diễn, quay phim, nhạc công, kỹ thuật viên âm thanh, ánh sáng, biên kịch, hóa trang, dựng phim, quảng cáo thực hiện các chương trình văn hóa, văn nghệ của Công an nhân dân có thời gian dưới 12 tháng.\\n2. Đối với lao động hợp đồng tại các doanh nghiệp, đơn vị sự nghiệp công lập tự chủ về tài chính do Giám đốc doanh nghiệp, Thủ trưởng đơn vị căn cứ thời điểm kết thúc công việc để chủ động xác định.\\nĐiều 12. Thẩm quyền ký kết hợp đồng lao động\\n1. Hợp đồng lao động hưởng lương ngân sách Nhà nước tại Công an đơn vị, địa phương do Thủ trưởng Công an đơn vị, địa phương trực tiếp ký kết với người lao động.\\n2. Hợp đồng lao động tại các doanh nghiệp, đơn vị sự nghiệp công lập tự chủ về tài chính do Giám đốc doanh nghiệp, Thủ trưởng đơn vị sự nghiệp công lập trực tiếp ký kết với người lao động.\\nĐiều 13. Nội dung hợp đồng lao động\\n1. Hợp đồng lao động phải có những nội dung chủ yếu theo quy định tại khoản 1 Điều 21 Bộ luật Lao động .')]"
      ]
     },
     "execution_count": 57,
     "metadata": {},
     "output_type": "execute_result"
    }
   ],
   "source": [
    "relevants = ensemble_retriever.get_relevant_documents(plans)\n",
    "relevants"
   ]
  },
  {
   "cell_type": "code",
   "execution_count": null,
   "metadata": {},
   "outputs": [
    {
     "data": {
      "text/plain": [
       "[Document(metadata={'name': 'Thông tư 22/2022/TT-BCA', 'url': 'https://dulieuphapluat.vn/van-ban/lao-dong-van-ban/thong-tu-222022tt-bca-cua-bo-cong-an-ve-quy-dinh-ve-lao-dong-hop-dong-trong-cong-an-nhan-dan-1100555.html'}, page_content='Điều 23. Lập, cập nhật, quản lý và sử dụng sổ quản lý lao động\\n1. Việc lập, cập nhật, quản lý và sử dụng sổ quản lý lao động thực hiện theo Nghị định số 145/2020/NĐ-CP ngày 14 tháng 12 năm 2020 của Chính phủ quy định chi tiết và hướng dẫn thi hành một số điều của Bộ luật Lao động về điều kiện lao động và quan hệ lao động.\\n2. Sổ quản lý lao động được bảo quản theo chế độ quản lý hồ sơ cán bộ.\\nĐiều 24. Kỷ luật lao động, trách nhiệm vật chất\\n1. Nội quy lao động\\nNgười sử dụng lao động phải ban hành nội quy lao động, nếu sử dụng từ 10 người lao động trở lên thì nội quy lao động phải bằng văn bản, nếu sử dụng dưới 10 người lao động thì không bắt buộc ban hành nội quy lao động bằng văn bản nhưng phải thỏa thuận nội dung về kỷ luật lao động, trách nhiệm vật chất trong hợp đồng lao động. Nội dung nội quy lao động thực hiện theo quy định tại khoản 2 Điều 69 Nghị định số 145/2020/NĐ-CP ngày 14 tháng 12 năm 2020 của Chính phủ quy định chi tiết và hướng dẫn thi hành một số điều của Bộ luật Lao động về điều kiện lao động và quan hệ lao động.\\n2. Xử lý kỷ luật lao động\\nNgười có thẩm quyền xử lý kỷ luật lao động là người có thẩm quyền ký kết hợp đồng lao động theo quy định tại Điều 12 Thông tư này ;\\nNgười lao động không thực hiện đúng nghĩa vụ và trách nhiệm theo thỏa thuận trong hợp đồng, vi phạm nội quy lao động, tùy tính chất, mức độ vi phạm sẽ bị chấm dứt hợp đồng lao động hoặc bị xử lý kỷ luật theo quy định tại các Điều từ Điều 122 đến Điều 131 Chương VIII Bộ luật Lao động và quy định tại các Điều từ Điều 70 đến Điều 73 Nghị định số 145/2020/NĐ-CP ngày 14 tháng 12 năm 2020 của Chính phủ quy định chi tiết và hướng dẫn thi hành một số điều của Bộ luật Lao động về điều kiện lao động và quan hệ lao động.\\nChương IV\\nTỔ CHỨC THỰC HIỆN'),\n",
       " Document(metadata={'name': 'Thông tư 22/2022/TT-BCA', 'url': 'https://dulieuphapluat.vn/van-ban/lao-dong-van-ban/thong-tu-222022tt-bca-cua-bo-cong-an-ve-quy-dinh-ve-lao-dong-hop-dong-trong-cong-an-nhan-dan-1100555.html'}, page_content='b) Trong thời gian thử việc, mỗi bên có quyền hủy bỏ hợp đồng thử việc hoặc hợp đồng lao động đã giao kết mà không cần báo trước và không phải bồi thường.\\nĐiều 17. Sửa đổi, bổ sung, chấm dứt hợp đồng lao động\\n1. Việc sửa đổi, bổ sung hợp đồng lao động thực hiện theo quy định tại Điều 33 của Bộ luật Lao động . Trường hợp cần sửa đổi, bổ sung chức danh công việc đối với lao động hợp đồng theo chỉ tiêu Bộ duyệt thì Công an đơn vị, địa phương phải báo cáo Bộ (qua Cục Tổ cổ chức cán bộ); Cục trưởng Cục Tổ chức cán bộ căn cứ định mức sử dụng lao động hợp đồng lao động theo quy định và nhu cầu sử dụng lao động hợp đồng của Công an đơn vị, địa phương để xem xét, quyết định.\\n2. Việc chấm dứt hợp đồng lao động thực hiện theo quy định tại các Điều từ Điều 34 đến Điều 48 Chương III Bộ luật Lao động . Người có thẩm quyền ký kết hợp đồng lao động phải thỏa thuận với người lao động để chấm dứt hợp đồng lao động hưởng lương ngân sách Nhà nước trong các trường hợp sau:\\na) Ký kết hợp đồng lao động với người không bảo đảm tiêu chuẩn quy định tại Điều 7 Thông tư này hoặc không đúng công việc quy định tại Điều 11 Thông tư này ;\\nb) Ký kết hợp đồng lao động vượt số lượng, không đúng loại hợp đồng theo chỉ tiêu được duyệt hoặc vượt quá định mức sử dụng theo quy định.\\n3. Trong trường hợp phải chấm dứt hợp đồng với người lao động theo quy định tại điểm a và điểm b khoản 2 Điều này, cán bộ tham mưu, đề xuất và lãnh đạo có thẩm quyền ký kết hợp đồng với người lao động sẽ bị xem xét, xử lý kỷ luật theo quy định hiện hành của Bộ Công an về xử lý kỷ luật cán bộ, chiến sĩ Công an nhân dân.\\nĐiều 18. Tạm hoãn thực hiện hợp đồng lao động\\n1. Các trường hợp tạm hoãn thực hiện hợp đồng lao động bao gồm:\\na) Người lao động thực hiện nghĩa vụ quân sự, nghĩa vụ tham gia Công an nhân dân, nghĩa vụ tham gia Dân quân tự vệ;'),\n",
       " Document(metadata={'name': 'Thông tư 22/2022/TT-BCA', 'url': 'https://dulieuphapluat.vn/van-ban/lao-dong-van-ban/thong-tu-222022tt-bca-cua-bo-cong-an-ve-quy-dinh-ve-lao-dong-hop-dong-trong-cong-an-nhan-dan-1100555.html'}, page_content='a) Người lao động thực hiện nghĩa vụ quân sự, nghĩa vụ tham gia Công an nhân dân, nghĩa vụ tham gia Dân quân tự vệ;\\nb) Người lao động bị tạm giữ, tạm giam theo quy định của pháp luật về tố tụng hình sự;\\nc) Lao động nữ mang thai theo quy định tại Điều 138 Bộ luật Lao động ;\\nd) Trường hợp khác do hai bên thỏa thuận.\\n2. Trong thời gian tạm hoãn thực hiện hợp đồng lao động, người lao động không được hưởng lương và quyền, lợi ích đã giao kết trong hợp đồng lao động, trừ trường hợp hai bên có thỏa thuận hoặc pháp luật có quy định khác.\\nChương III\\nQUYỀN LỢI , NGHĨA VỤ CỦA NGƯỜI LAO ĐỘNG; GIẢI QUYẾT TRANH CHẤP LAO ĐỘNG, XỬ LÝ KỶ LUẬT LAO ĐỘNG\\nĐiều 19. Quyền lợi của lao động hợp đồng hưởng lương ngân sách Nhà nước\\n1. Quyền lợi của người lao động khi ký kết hợp đồng lao động không xác định thời hạn hoặc hợp đồng lao động xác định thời hạn từ đủ 12 tháng đến 36 tháng\\na) Được đảm bảo về thời giờ làm việc, thời giờ nghỉ ngơi, an toàn, vệ sinh lao động theo quy định tại các Điều từ Điều 105 đến Điều 116 Chương VII và các Điều từ Điều 132 đến Điều 134 Chương IX Bộ luật Lao động ;\\nTrường hợp công việc mà người lao động đảm nhận phải làm thường xuyên, liên tục nhưng thời gian thực hiện trong ngày ít hơn 08 giờ thì Công an đơn vị, địa phương thỏa thuận, bố trí người lao động kiêm nhiệm thêm công việc khác theo Phụ lục ban hành kèm theo Thông tư này để bảo đảm đủ 08 giờ làm việc/ngày theo quy định của pháp luật;'),\n",
       " Document(metadata={'name': 'Thông tư 22/2022/TT-BCA', 'url': 'https://dulieuphapluat.vn/van-ban/lao-dong-van-ban/thong-tu-222022tt-bca-cua-bo-cong-an-ve-quy-dinh-ve-lao-dong-hop-dong-trong-cong-an-nhan-dan-1100555.html'}, page_content='Điều 11. Xác định công việc để giao kết hợp đồng lao động\\n1. Đối với lao động hợp đồng hưởng lương ngân sách Nhà nước\\na) Ký kết hợp đồng lao động không xác định thời hạn hoặc hợp đồng lao động xác định thời hạn từ đủ 12 tháng đến 36 tháng với người lao động làm các công việc quy định tại các điểm a, b, c, d, đ, e, g, h và i mục 2 Phụ lục ban hành kèm theo Thông tư này;\\nb) Ký kết hợp đồng lao động xác định thời hạn dưới 12 tháng đối với người lao động làm các công việc quy định tại điểm c mục 2 Phụ lục ban hành kèm theo Thông tư này và các công việc sau:\\nNấu ăn phục vụ hội nghị, các lớp huấn luyện, tập huấn, bồi dưỡng nghiệp vụ, chức danh có thời gian dưới 12 tháng; nấu ăn, phục vụ buồng bàn tại các nhà nghỉ dưỡng trong thời gian đông cán bộ, chiến sĩ đi nghỉ; hướng dẫn viên trên các tàu du lịch trong thời gian dưới 12 tháng; diễn viên, ca sĩ, đạo diễn, quay phim, nhạc công, kỹ thuật viên âm thanh, ánh sáng, biên kịch, hóa trang, dựng phim, quảng cáo thực hiện các chương trình văn hóa, văn nghệ của Công an nhân dân có thời gian dưới 12 tháng.\\n2. Đối với lao động hợp đồng tại các doanh nghiệp, đơn vị sự nghiệp công lập tự chủ về tài chính do Giám đốc doanh nghiệp, Thủ trưởng đơn vị căn cứ thời điểm kết thúc công việc để chủ động xác định.\\nĐiều 12. Thẩm quyền ký kết hợp đồng lao động\\n1. Hợp đồng lao động hưởng lương ngân sách Nhà nước tại Công an đơn vị, địa phương do Thủ trưởng Công an đơn vị, địa phương trực tiếp ký kết với người lao động.\\n2. Hợp đồng lao động tại các doanh nghiệp, đơn vị sự nghiệp công lập tự chủ về tài chính do Giám đốc doanh nghiệp, Thủ trưởng đơn vị sự nghiệp công lập trực tiếp ký kết với người lao động.\\nĐiều 13. Nội dung hợp đồng lao động\\n1. Hợp đồng lao động phải có những nội dung chủ yếu theo quy định tại khoản 1 Điều 21 Bộ luật Lao động .'),\n",
       " Document(metadata={'name': 'Hướng dẫn 33/HD-VKSTC', 'url': 'https://dulieuphapluat.vn/van-ban/lao-dong-van-ban/huong-dan-33hd-vkstc-cua-vien-kiem-sat-nhan-dan-toi-cao-ve-mot-so-noi-dung-co-ban-trong-cong-tac-kiem-sat-viec-giai-quyet-vu-an-tranh-chap-lao-dong-ca-nhan-1098932.html'}, page_content='+ Trên thực tế còn xảy ra trường hợp hợp đồng lao động xác định thời hạn hết hạn nhưng người lao động vẫn tiếp tục làm việc và trong thời hạn 30 ngày, kể từ ngày hợp đồng lao động hết hạn giữa người lao động và người sử dụng lao động chưa ký kết hợp đồng mới. Sau đó, do không thỏa thuận được các nội dung để ký hợp đồng lao động mới nên người sử dụng lao động ra quyết định đơn phương chấm dứt hợp đồng lao động ban đầu vì lý do hết hạn hợp đồng. Người lao động khởi kiện yêu cầu hủy quyết định đơn phương chấm dứt hợp đồng lao động.\\nĐối với vụ án trên, Kiểm sát viên, công chức xác định người sử dụng lao động đơn phương chấm dứt hợp đồng lao động là trái pháp luật vì khi hợp đồng lao động xác định thời hạn hết hạn mà người lao động vẫn tiếp tục làm việc thì trong thời hạn 30 ngày, kể từ ngày hợp đồng lao động xác định thời hạn hết hạn, các bên phải ký kết hợp đồng mới; trong thời gian chưa ký kết hợp đồng mới thì quyền, nghĩa vụ và lợi ích của hai bên được thực hiện theo hợp đồng đã giao kết. Nếu hai bên không thỏa thuận được thì tiếp tục thực hiện hợp đồng đã giao kết hoặc thỏa thuận chấm dứt hợp đồng lao động.\\n- Trường hợp người sử dụng lao động có hành vi, quyết định đơn phương chấm dứt hợp đồng lao động trái pháp luật thì Kiểm sát viên, công chức xem xét nghĩa vụ của người sử dụng lao động phải thực hiện tương tự như nội dung hướng dẫn đối với vụ án tranh chấp xử lý k ỷ luật lao động theo hình thức sa thải đã nêu tại tiểu mục 1.1, mục 1 Phần II của Hướng dẫn này.\\n2.2. Người lao động đơn phương chấm dứt hợp đồng lao động'),\n",
       " Document(metadata={'name': 'Hướng dẫn 33/HD-VKSTC', 'url': 'https://dulieuphapluat.vn/van-ban/lao-dong-van-ban/huong-dan-33hd-vkstc-cua-vien-kiem-sat-nhan-dan-toi-cao-ve-mot-so-noi-dung-co-ban-trong-cong-tac-kiem-sat-viec-giai-quyet-vu-an-tranh-chap-lao-dong-ca-nhan-1098932.html'}, page_content='2. Tranh chấp về đơn phương chấm dứt hợp đồng lao động\\n2.1. Người sử dụng lao động đ ơ n ph ươ ng chấm dứt hợp đồng lao động\\n- Đối với vụ án tranh chấp người sử dụng lao động đơn phương chấm dứt hợp đồng lao động, Kiểm sát viên, công chức trước hết phải xác định có hay không có sự việc người sử dụng lao động đơn phương chấm dứt hợp đồng với người lao động. Trường hợp người sử dụng lao động không đơn phương chấm dứt hợp đồng thì không đặt ra việc xem xét về căn cứ, trình tự, thủ tục và hậu quả của việc đơn phương chấm dứt hợp đồng trái quy định của pháp luật.\\nVí dụ: Ông P trình bày, ông P và Công ty TNHH MTV HLT (sau đây viết tắt là Công ty HLT) có ký kết hợp đồng lao động vào ngày 01/8/2015 với thời hạn lao động là 02 năm. Sau khi kết thúc thời hạn hợp đồng lao động trên, ngày 01/8/2017 ông P vẫn tiếp tục ở lại Công ty HLT làm việc. Công ty HLT không ký kết hợp đồng lao động tiếp nhưng làm thủ tục cấp Giấy phép lao động cho ông P. Ngày 03/3/2018, ông P nhận được thông tin bị đuổi việc, Công ty HLT không gửi cho ông P văn bản thông báo trước, buộc ông P phải bàn giao công việc đang phụ trách và không cho ông P vào công ty làm việc. Ông P khởi kiện cho rằng Công ty HLT đơn phương chấm dứt hợp đồng lao động trái luật nên yêu cầu Công ty HLT phải bồi thường cho ông P.\\nBản án lao động sơ thẩm của TAND thành phố TDM nhận định Công ty HLT đơn phương chấm dứt hợp đồng lao động trái luật và chấp nhận yêu cầu bồi thường của ông P . Sau đó, Công ty HLT có kháng cáo; Viện trưởng VKSND thành phố TDM ban hành quyết định kháng nghị phúc thẩm.'),\n",
       " Document(metadata={'name': 'Thông báo 269/TB-VPCP', 'url': 'https://dulieuphapluat.vn/van-ban/lao-dong-van-ban/thong-bao-269tb-vpcp-cua-van-phong-chinh-phu-ve-ket-luan-cua-thu-tuong-chinh-phu-pham-minh-chinh-tai-hoi-nghi-phat-trien-thi-truong-lao-dong-linh-hoat-hien-dai-ben-vung-va-hoi-nhap-1017534.html'}, page_content='a) Nâng cao nhận thức về thị trường lao động. Tiếp tục hoàn thiện thể chế, chính sách, pháp luật đồng bộ, thống nhất để thị trường lao động phát triển theo hướng linh hoạt, hiệu quả, hiện đại, đầy đủ, bền vững, hội nhập quốc tế, nhằm giải phóng triệt để sức sản xuất, tập trung phát triển lao động có kỹ năng, thúc đẩy tạo việc làm bền vững, có thu nhập cao. Tiếp tục nội luật hóa và quy định cụ thể các tiêu chuẩn lao động phù hợp với điều kiện của Việt Nam và tiêu chuẩn quốc tế (các công ước của Tổ chức Lao động quốc tế (ILO), các FTA thế hệ mới) mà Việt Nam cam kết và phê chuẩn.\\nb) Tập trung xây dựng hệ thống quản trị thị trường lao động hiện đại, minh bạch để mỗi người lao động từ khi tham gia đến khi rời thị trường lao động được quản trị minh bạch, thống nhất, tạo điều kiện cho tham gia các hoạt động giao dịch việc làm, tiếp cận thông tin về thị trường lao động việc làm; để doanh nghiệp dễ tiếp cận cung lao động, nâng cao chất lượng lao động, cơ sở đào tạo; có chiến lược, kế hoạch đào tạo, cung ứng kịp thời, sát với nhu cầu thực tiễn. Đẩy mạnh đầu tư số hóa quản trị lao động việc làm kết nối với số hóa quản lý dân cư.\\nc) Chú trọng đầu tư về cơ chế, chính sách, nguồn lực để xây dựng hệ thống thông tin và dự báo thị trường lao động đa tầng từ cấp tỉnh, cấp vùng tới toàn quốc, đa lĩnh vực theo ngành nghề, có các cấp trình độ khác nhau. Hệ thống thông tin và dự báo hướng tới đối tượng sử dụng là các cơ quan quản lý nhà nước các cấp, cơ sở giáo dục đào tạo, giáo dục nghề nghiệp, doanh nghiệp và nhất là người lao động.\\nd) Đẩy mạnh xây dựng chính sách hỗ trợ tạo việc làm trên nguyên tắc có tính dự báo, tầm nhìn chiến lược, chủ động, phù hợp với cơ chế thị trường; đa dạng hoá các nguồn tín dụng để thúc đẩy việc tạo việc làm mới, việc làm sáng tạo, chất lượng cao, việc làm bền vững, việc làm xanh, việc làm cho đối tượng yếu thế, vùng sâu vùng xa.'),\n",
       " Document(metadata={'name': 'Thông báo 269/TB-VPCP', 'url': 'https://dulieuphapluat.vn/van-ban/lao-dong-van-ban/thong-bao-269tb-vpcp-cua-van-phong-chinh-phu-ve-ket-luan-cua-thu-tuong-chinh-phu-pham-minh-chinh-tai-hoi-nghi-phat-trien-thi-truong-lao-dong-linh-hoat-hien-dai-ben-vung-va-hoi-nhap-1017534.html'}, page_content='Tồn tại, hạn chế trên có nhiều nguyên nhân, trong đó: công tác lãnh đạo, chỉ đạo phát triển thị trường lao động chưa đáp ứng yêu cầu đòi hỏi của tình hình thực tế; năng lực quản trị, vận hành thị trường lao động còn yếu; thiếu cơ chế, chính sách đãi ngộ đủ hấp dẫn để giữ chân người lao động trong khu vực doanh nghiệp nhà nước; hệ thống trung tâm, doanh nghiệp dịch vụ việc làm chưa phát huy tốt vai trò kết nối cung - cầu lao động; nhiều doanh nghiệp chưa quan tâm đúng mức đến quyền lợi, đời sống vật chất, tinh thần cho người lao động; vai trò của các tổ chức công đoàn, đoàn thể trong bảo vệ quyền lợi cho người lao động còn hạn chế; công tác thông tin, truyền thông còn hạn chế, nhiều người lao động chưa hiểu rõ quyền lợi, nghĩa vụ của mình; cơ sở dữ liệu thị trường lao động chưa được quan tâm phát triển đầy đủ; công tác thống kê cập nhật phục vụ phân tích, dự báo và chỉ đạo điều hành về tình hình lao động còn hạn chế.'),\n",
       " Document(metadata={'name': 'Quyết định 471/QĐ-UBND', 'url': 'https://dulieuphapluat.vn/van-ban/lao-dong-van-ban/quyet-dinh-471qd-ubnd-nam-2023-cua-uy-ban-nhan-dan-tinh-khanh-hoa-ve-viec-cong-bo-danh-muc-thu-tuc-hanh-chinh-sua-doi-bo-sung-linh-vuc-quan-ly-lao-dong-ngoai-nuoc-thuoc-tham-quyen-giai-quyet-cua-so-lao-dong-thuong-binh-va-xa-hoi-ban-quan-ly-khu-kinh-te-van-phong-tinh-khanh-hoa-1101732.html'}, page_content='ở nước ngoài theo hợp đồng; - Quyết định số 58/QĐ-LĐTBXH ngày 26/01/2022 của Bộ trưởng Bộ Lao động - Thương binh và Xã hội về việc công bố các thủ tục hành chính mới ban hành, sửa đổi, bổ sung, bãi bỏ lĩnh vực quản lý lao động ngoài nước thuộc phạm vi chức năng quản lý nhà nước của Bộ Lao động - Thương binh và Xã hội.'),\n",
       " Document(metadata={'name': '01/QCPH-LĐTBXH-GDĐT-CA-NNPTNT-TLĐ-LMHTX-LĐTMCN', 'url': 'https://dulieuphapluat.vn/van-ban/lao-dong-van-ban/quy-che-phoi-hop-01qcph-ldtbxh-gddt-ca-nnptnt-tld-lmhtx-ldtmcn-nam-2024-phong-ngua-giam-thieu-tre-em-lao-dong-trai-quy-dinh-cua-phap-luat-giai-doan-2024-2025-dinh-huong-den-nam-2030-do-bo-lao-dong-thuong-binh-va-xa-hoi-bo-giao-duc-va-dao-tao-bo-cong-an-bo-nong-nghiep-va-phat-trien-nong-thon-tong-lien-doan-lao-dong-viet-nam-lien-minh-hop-tac-xa-viet-nam-lien-doan-thuong-mai-va-cong-nghiep-viet-nam-ban-hanh-1197752.html'}, page_content='Điều 16. Hiệu lực thi hành\\n1. Quy chế này đã được các Bộ, các cơ quan, tổ chức thống nhất thông qua và có hiệu lực kể từ ngày ký.\\n2. Trong quá trình triển khai, thực hiện Quy chế, nếu có phát sinh, vướng mắc, đề nghị phản ánh, kiến nghị về Bộ Lao động - Thương binh và Xã hội để tổng hợp, phối hợp với các Bộ, cơ quan, tổ chức xem xét, thống nhất sửa đổi, bổ sung cho phù hợp./.\\nBắt đầu bảng: \\nKT. BỘ TRƯỞNG BỘ LAO ĐỘNG - THƯƠNG BINH VÀ XÃ HỘI THỨ TRƯỞNG Nguyễn Thị Hà | KT. BỘ TRƯỞNG BỘ GIÁO DỤC VÀ ĐÀO TẠO THỨ TRƯỞNG Ngô Thị Minh\\nKT. BỘ TRƯỞNG BỘ CÔNG AN THỨ TRƯỞNG Thượng tướng Nguyễn Duy Ngọc | KT. BỘ TRƯỞNG BỘ NÔNG NGHIỆP VÀ PHÁT TRIỂN NÔNG THÔN THỨ TRƯỞNG Trần Thanh Nam\\nTM. ĐOÀN CHỦ TỊCH PHÓ CHỦ TỊCH TỔNG LIÊN ĐOÀN LAO ĐỘNG VIỆT NAM Thái Thu Xương | KT. CHỦ TỊCH PHÓ CHỦ TỊCH LIÊN MINH HỢP TÁC XÃ VIỆT NAM Nguyễn Mạnh Cường\\nKT. CHỦ TỊCH PHÓ CHỦ TỊCH LIÊN ĐOÀN THƯƠNG MẠI VÀ CÔNG NGHIỆP VIỆT NAM Hoàng Quang Phòng\\n Kết thúc bảng.\\nBắt đầu bảng:')]"
      ]
     },
     "execution_count": 60,
     "metadata": {},
     "output_type": "execute_result"
    }
   ],
   "source": [
    "name = [i.metadata[\"name\"] for i in relevants]\n",
    "name_counts = Counter(name)\n",
    "ranked_names = sorted(name_counts.items(), key=lambda x: x[1], reverse=True)\n",
    "\n",
    "sorted_documents = []\n",
    "for name, count in ranked_names:\n",
    "    for doc in relevants:\n",
    "        if doc.metadata[\"name\"] == name:\n",
    "            sorted_documents.append(doc)\n",
    "\n",
    "top_documents = sorted_documents[:10]\n",
    "top_documents\n"
   ]
  },
  {
   "cell_type": "code",
   "execution_count": null,
   "metadata": {},
   "outputs": [],
   "source": [
    "reference = np.unique([(doc.metadata[\"url\"]) for doc in top_documents])"
   ]
  },
  {
   "cell_type": "code",
   "execution_count": 65,
   "metadata": {},
   "outputs": [
    {
     "name": "stdout",
     "output_type": "stream",
     "text": [
      "Dựa vào thông tin được cung cấp, những vấn đề liên quan đến hợp đồng lao động bao gồm:\n",
      "\n",
      "*   **Hợp đồng lao động sau thời gian nhất định:** Trường hợp người lao động làm việc ở nước ngoài theo hợp đồng.\n",
      "*   **Quy trình và thủ tục:** Các thủ tục hành chính mới ban hành, sửa đổi, bổ sung, bãi bỏ liên quan đến quản lý lao động ngoài nước.\n",
      "*   **Giải quyết tranh chấp:**  Khi có phát sinh, vướng mắc trong quá trình thực hiện, cần phản hồi để sửa đổi, bổ sung quy chế.\n",
      "*   **Các vấn đề liên quan đến hợp đồng lao động theo thời gian:** Việc hợp đồng lao động có thời hạn hoặc không có thời hạn cần được quy định rõ ràng để đảm bảo quyền lợi cho cả hai bên.\n",
      "*   **Những vấn đề liên quan đến hợp đồng lao động trong khu vực doanh nghiệp nhà nước:** Cần có chính sách đãi ngộ đủ hấp dẫn để giữ chân người lao động.\n",
      "*   **Quyền lợi và nghĩa vụ:** Cần có công tác thông tin, truyền thông để người lao động hiểu rõ quyền lợi, nghĩa vụ của mình trong hợp đồng lao động.\n"
     ]
    }
   ],
   "source": [
    "answer_prompt_template = \\\n",
    "    \"\"\"\n",
    "    Bạn là một chuyên gia trả lời câu hỏi về luật về các lĩnh vực bao gồm Bảo Hiểm, Lao Động, Nhà Đất và Tài Chính Ngân Hàng và câu trả lời dựa trên thông tin được cung cấp. \\n\n",
    "    Hãy trả lời câu hỏi ngắn gọn và dễ hiểu. Nếu không có thông tin để trả lời câu hỏi, hãy gợi ý câu hỏi khác phù hợp hơn. \\n\n",
    "    Đây là một số thông tin bạn có được:\\n\n",
    "    --------\\n\n",
    "    {context} \\n\n",
    "    --------\\n\n",
    "    Dựa vào thông tin trên hãy trả lời câu hỏi sau đây: {question} \\n\n",
    "    Trả lời: \n",
    "    \"\"\"\n",
    "\n",
    "context=\"\\n--------\\n\".join([doc.page_content for doc in top_documents])\n",
    "\n",
    "answer_prompt = answer_prompt_template.format(context=context, question=question)\n",
    "response = ollama_client.chat(\n",
    "    model=\"gemma3:12b\",\n",
    "    messages=[{\"role\": \"user\", \"content\": system_prompt + answer_prompt}],\n",
    "    stream=False,\n",
    ")\n",
    "print(response.message.content)"
   ]
  },
  {
   "cell_type": "code",
   "execution_count": null,
   "metadata": {},
   "outputs": [],
   "source": []
  }
 ],
 "metadata": {
  "kernelspec": {
   "display_name": "llm-mining",
   "language": "python",
   "name": "python3"
  },
  "language_info": {
   "codemirror_mode": {
    "name": "ipython",
    "version": 3
   },
   "file_extension": ".py",
   "mimetype": "text/x-python",
   "name": "python",
   "nbconvert_exporter": "python",
   "pygments_lexer": "ipython3",
   "version": "3.10.16"
  }
 },
 "nbformat": 4,
 "nbformat_minor": 2
}
