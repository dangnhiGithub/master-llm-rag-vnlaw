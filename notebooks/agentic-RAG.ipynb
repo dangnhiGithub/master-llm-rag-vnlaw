{
 "cells": [
  {
   "cell_type": "markdown",
   "metadata": {},
   "source": [
    "# Libs"
   ]
  },
  {
   "cell_type": "code",
   "execution_count": 1,
   "metadata": {},
   "outputs": [
    {
     "name": "stdout",
     "output_type": "stream",
     "text": [
      "c:\\Users\\Admin\\Desktop\\DANG NHI\\repos\\master-llm-rag-vnlaw\n"
     ]
    }
   ],
   "source": [
    "import os\n",
    "while os.getcwd().split('\\\\')[-1] != 'master-llm-rag-vnlaw':\n",
    "    os.chdir('..')\n",
    "    print(os.getcwd())"
   ]
  },
  {
   "cell_type": "code",
   "execution_count": 2,
   "metadata": {},
   "outputs": [],
   "source": [
    "import ollama\n",
    "import asyncio\n",
    "from ollama import AsyncClient\n",
    "import numpy as np\n",
    "\n",
    "from langchain.vectorstores import Chroma\n",
    "\n",
    "import chromadb\n",
    "from chromadb import Settings, EmbeddingFunction, Embeddings\n",
    "\n",
    "from langchain.retrievers import BM25Retriever\n",
    "from langchain.retrievers import EnsembleRetriever\n",
    "from langchain.schema import Document\n",
    "\n",
    "from nltk.tokenize import word_tokenize"
   ]
  },
  {
   "cell_type": "markdown",
   "metadata": {},
   "source": [
    "# Load embedding"
   ]
  },
  {
   "cell_type": "code",
   "execution_count": 3,
   "metadata": {},
   "outputs": [
    {
     "name": "stderr",
     "output_type": "stream",
     "text": [
      "c:\\Users\\Admin\\miniconda3\\envs\\master\\Lib\\site-packages\\tqdm\\auto.py:21: TqdmWarning: IProgress not found. Please update jupyter and ipywidgets. See https://ipywidgets.readthedocs.io/en/stable/user_install.html\n",
      "  from .autonotebook import tqdm as notebook_tqdm\n"
     ]
    },
    {
     "name": "stdout",
     "output_type": "stream",
     "text": [
      "Model ready !!!\n"
     ]
    }
   ],
   "source": [
    "base_model_id = \"FacebookAI/xlm-roberta-base\"\n",
    "trained_model_path = \"./models/trained_embedding_small_data/\"\n",
    "data_path = \"data/\"\n",
    "\n",
    "MAX_LEN = 512\n",
    "OVERLAP = 50\n",
    "\n",
    "import torch\n",
    "from transformers import AutoTokenizer, AutoModel\n",
    "\n",
    "tokenizer = AutoTokenizer.from_pretrained(base_model_id)\n",
    "model = AutoModel.from_pretrained(trained_model_path)\n",
    "model.eval()\n",
    "\n",
    "# device = torch.device(\"cuda\" if torch.cuda.is_available() else \"cpu\")\n",
    "device = torch.device('cpu')\n",
    "model.to(device)\n",
    "\n",
    "print(\"Model ready !!!\")"
   ]
  },
  {
   "cell_type": "code",
   "execution_count": 4,
   "metadata": {},
   "outputs": [
    {
     "name": "stdout",
     "output_type": "stream",
     "text": [
      "['<s>', '▁Tôi', '▁đang', '▁viết', '▁trên', '▁bảng', '▁ở', '▁trường', '.', '</s>']\n"
     ]
    }
   ],
   "source": [
    "context = \"Tôi đang viết trên bảng ở trường.\"\n",
    "token = tokenizer(context, return_tensors=None, truncation=True, max_length=MAX_LEN)\n",
    "tokens_text = tokenizer.convert_ids_to_tokens(token[\"input_ids\"])\n",
    "print(tokens_text)"
   ]
  },
  {
   "cell_type": "code",
   "execution_count": 16,
   "metadata": {},
   "outputs": [],
   "source": [
    "class MyEmbeddingFunction(EmbeddingFunction):\n",
    "    def __init__(self, model, tokenizer, max_length=512):\n",
    "        self.model = model\n",
    "        self.tokenizer = tokenizer\n",
    "        self.max_length = max_length\n",
    "\n",
    "\n",
    "    def embed_documents(self, texts):\n",
    "        inputs = self.tokenizer(texts, \n",
    "                                padding='max_length', \n",
    "                                max_length=self.max_length, \n",
    "                                return_tensors=\"pt\")\n",
    "        with torch.no_grad():\n",
    "            inputs = {key: value.to(device) for key, value in inputs.items()}\n",
    "            embeddings = self.model(**inputs).pooler_output\n",
    "    \n",
    "        return embeddings.cpu().numpy().tolist()\n",
    "\n",
    "    def embed_query(self, text):\n",
    "        inputs = self.tokenizer(text, return_tensors=\"pt\")\n",
    "        with torch.no_grad():\n",
    "            inputs = {key: value.to(device) for key, value in inputs.items()}\n",
    "            embeddings = self.model(**inputs).pooler_output\n",
    "        return embeddings.cpu().numpy().tolist()[0]\n",
    "\n",
    "myembed = MyEmbeddingFunction(model, tokenizer)"
   ]
  },
  {
   "cell_type": "code",
   "execution_count": null,
   "metadata": {},
   "outputs": [],
   "source": [
    "# text = 'Tôi đi học'\n",
    "# with torch.no_grad():\n",
    "#     token = tokenizer(text, return_tensors='pt', padding='max_length', truncation=True, max_length=MAX_LEN)\n",
    "#     output = model(**token)\n",
    "\n",
    "# output = myembed.embed_documents([\"Tôi đi học\"])\n",
    "output1 = myembed.embed_query(\"Tôi đang viết trên bảng ở trường\")\n",
    "\n",
    "# import numpy as np\n",
    "# from sklearn.metrics.pairwise import cosine_similarity\n",
    "# similarity = cosine_similarity(output, output1)\n",
    "# print(f\"Cosine similarity:\\n {similarity}\")"
   ]
  },
  {
   "cell_type": "markdown",
   "metadata": {},
   "source": [
    "# Vector database và Embedding model"
   ]
  },
  {
   "cell_type": "code",
   "execution_count": 7,
   "metadata": {},
   "outputs": [],
   "source": [
    "# client = chromadb.PersistentClient(\n",
    "#     path=\"./data/chroma_db/\",\n",
    "#     settings=Settings(allow_reset=False,),)\n",
    "# client.list_collections()\n",
    "\n",
    "# collection = client.get_collection(name=\"VNLaws\", embedding_function=myembed)\n",
    "# print(collection.count())\n",
    "\n",
    "# collection.query(\n",
    "#     query_texts = [\"Tôi có thể làm gì với hợp đồng lao động?\"],\n",
    "#     n_results=10,\n",
    "#     where_document={\"$contains\": \"Tôi có thể làm gì với hợp đồng lao động?\"},\n",
    "# )"
   ]
  },
  {
   "cell_type": "code",
   "execution_count": 21,
   "metadata": {},
   "outputs": [],
   "source": [
    "db = Chroma(\n",
    "    embedding_function=myembed, # lấy embedding model đã train được\n",
    "    persist_directory='./chroma_db',\n",
    "    collection_name=\"VNLaws\",\n",
    "    )\n",
    "vectorstore_retriever = db.as_retriever(search_kwargs={\"k\": 10})\n",
    "\n",
    "stored_data = db._collection.get()\n",
    "zip_doc = list(zip(stored_data[\"documents\"], stored_data[\"metadatas\"]))\n",
    "docs = [Document(page_content=doc, metadata=metadata) for doc,metadata in zip_doc]"
   ]
  },
  {
   "cell_type": "code",
   "execution_count": 22,
   "metadata": {},
   "outputs": [],
   "source": [
    "keyword_retriever = BM25Retriever.from_documents(docs, search_kwargs={\"k\": 10})\n",
    "ensemble_retriever = EnsembleRetriever(retrievers=[vectorstore_retriever, keyword_retriever], weights=[0.5, 0.5])"
   ]
  },
  {
   "cell_type": "code",
   "execution_count": 25,
   "metadata": {},
   "outputs": [
    {
     "data": {
      "text/plain": [
       "[Document(metadata={'name': 'Thông tư 22/2022/TT-BCA', 'url': 'https://dulieuphapluat.vn/van-ban/lao-dong-van-ban/thong-tu-222022tt-bca-cua-bo-cong-an-ve-quy-dinh-ve-lao-dong-hop-dong-trong-cong-an-nhan-dan-1100555.html'}, page_content='Điều 13. Nội dung hợp đồng lao động\\n1. Hợp đồng lao động phải có những nội dung chủ yếu theo quy định tại khoản 1 Điều 21 Bộ luật Lao động .\\n2. Người lao động làm việc ở các đơn vị, bộ phận trọng yếu, cơ mật trong Công an nhân dân, trước khi ký kết hợp đồng với người lao động, đơn vị trực tiếp sử dụng phải yêu cầu người lao động cam kết bằng văn bản (theo mẫu ban hành kèm theo Thông tư này) về công tác bảo mật trong thời gian làm việc và sau khi kết thúc hợp đồng lao động; đồng thời triển khai các biện pháp phù hợp, trang bị kiến thức cần thiết cho người lao động về việc bảo vệ bí mật Nhà nước.\\n3. Trong trường hợp cần quy định chi tiết hoặc để sửa đổi, bổ sung một số điều, khoản của hợp đồng lao động, người sử dụng lao động và người lao động có thể lập phụ lục hợp đồng lao động theo quy định tại Điều 22 Bộ luật Lao động , nhưng không được sửa đổi thời hạn của hợp đồng lao động và chức danh, công việc lao động hợp đồng.\\nĐiều 14. Hình thức hợp đồng\\n1. Hợp đồng lao động trong Công an nhân dân phải được giao kết bằng văn bản và được lập thành 02 bản, người lao động giữ 01 bản, đơn vị sử dụng lao động giữ 01 bản, trừ trường hợp quy định tại khoản 2 Điều này.\\n2. Doanh nghiệp, đơn vị sự nghiệp công lập tự chủ về tài chính và người lao động có thể giao kết hợp đồng lao động bằng lời nói đối với hợp đồng lao động có thời hạn dưới 01 tháng nhưng không được trái pháp luật, thỏa ước lao động và đạo đức xã hội.\\nĐiều 15. Trình tự tuyển lao động\\n1. Trình tự tuyển lao động hợp đồng tại các doanh nghiệp, đơn vị sự nghiệp công lập tự chủ về tài chính thực hiện theo quy định của pháp luật hiện hành về lao động hợp đồng.\\n2. Trình tự tuyển lao động hợp đồng không xác định thời hạn và xác định thời hạn từ đủ 12 tháng đến 36 tháng hưởng lương ngân sách Nhà nước ở Công an đơn vị, địa phương thực hiện như sau:\\na) Thông báo nhu cầu'),\n",
       " Document(metadata={'name': 'Quyết định 641/QĐ-UBND', 'url': 'https://dulieuphapluat.vn/van-ban/lao-dong-van-ban/quyet-dinh-641qd-ubnd-cua-uy-ban-nhan-dan-tinh-vinh-long-ve-viec-cong-bo-danh-muc-thu-tuc-hanh-chinh-duoc-sua-doi-bo-sung-thu-tuc-hanh-chinh-linh-vuc-bao-tro-xa-hoi-thuoc-pham-vi-chuc-nang-quan-ly-nha-nuoc-cua-so-lao-dong-thuong-binh-va-xa-hoi-tinh-vinh-long-1102707.html'}, page_content='cấp - Dạng tật: ........................................................................................................... - Mức độ khuyết tật: .......................................................................................... 8. Có tham gia làm việc không? □ Không □ Có a) Nếu có thì đang làm gì ……………, thu nhập hàng tháng …………… đồng b) Nếu không thì ghi lý do: ..................................................................................... 9. Tình trạng hôn nhân: .......................................................................................... 10. Khả năng tự phục vụ? ....................................................................................... Tôi xin cam đoan những lời khai trên là đúng sự thực, nếu có điều gì khai không đúng, tôi xin chịu trách nhiệm hoàn toàn. Thông tin người khai thay Giấy CMND hoặc Căn'),\n",
       " Document(metadata={'name': 'Thông tư 22/2022/TT-BCA', 'url': 'https://dulieuphapluat.vn/van-ban/lao-dong-van-ban/thong-tu-222022tt-bca-cua-bo-cong-an-ve-quy-dinh-ve-lao-dong-hop-dong-trong-cong-an-nhan-dan-1100555.html'}, page_content='b) Hợp đồng xác định thời hạn dưới 12 tháng: Là hợp đồng mà trong đó hai bên xác định thời hạn, thời điểm chấm dứt hiệu lực của hợp đồng trong thời gian dưới 12 tháng kể từ thời điểm có hiệu lực của hợp đồng, áp dụng với những công việc mang tính chất mùa vụ hoặc công việc nhất định có thời hạn dưới 12 tháng.\\n3. Khi hợp đồng lao động quy định tại khoản 2 Điều này hết hạn mà Công an đơn vị, địa phương tiếp tục có nhu cầu sử dụng người lao động thì trong thời hạn 30 ngày kể từ ngày hợp đồng lao động hết hạn, hai bên phải ký kết hợp đồng lao động mới, cụ thể như sau:\\na) Trường hợp hợp đồng lao động ký tiếp với người lao động là hợp đồng không xác định thời hạn hưởng lương ngân sách Nhà nước thì Công an đơn vị, địa phương phải căn cứ vào chỉ tiêu lao động hợp đồng được Bộ duyệt trong năm để ký kết hợp đồng lao động mới;\\nb) Trường hợp hợp đồng lao động ký tiếp với người lao động là hợp đồng xác định thời hạn hưởng lương ngân sách Nhà nước thì Công an đơn vị, địa phương căn cứ kế hoạch sử dụng lao động hợp đồng được tập thể thường vụ đảng ủy, lãnh đạo Công an đơn vị, địa phương thông qua và nguồn ngân sách được cấp để chủ động ký kết hợp đồng lao động mới với người lao động và chỉ được ký thêm 01 lần, sau đó nếu tiếp tục có nhu cầu sử dụng người lao động thì phải ký hợp đồng lao động không xác định thời hạn theo chỉ tiêu Bộ duyệt;\\nc) Đối với việc ký kết hợp đồng với người lao động tại các doanh nghiệp, đơn vị sự nghiệp công lập tự chủ về tài chính trong Công an nhân dân do Giám đốc, Thủ trưởng đơn vị căn cứ nhu cầu sản xuất, kinh doanh để chủ động quyết định theo quy định tại Điều 20 Bộ luật Lao động .\\n4. Trường hợp giao kết hợp đồng lao động với người lao động cao tuổi, hai bên được ký kết nhiều lần hợp đồng lao động xác định thời hạn dưới 12 tháng.\\nĐiều 11. Xác định công việc để giao kết hợp đồng lao động\\n1. Đối với lao động hợp đồng hưởng lương ngân sách Nhà nước'),\n",
       " Document(metadata={'name': 'Bản án 04/2022/LĐ-PT', 'url': 'https://dulieuphapluat.vn/van-ban/lao-dong-van-ban/ban-an-ve-tranh-chap-thanh-toan-tien-luong-phu-cap-bao-hiem-xa-hoi-bao-hiem-y-te-so-042022ld-pt-toa-an-nhan-dan-da-nang-1065340.html'}, page_content='NỘI DUNG VỤ ÁN\\nTheo án sơ thẩm, nội dung vụ án như sau:\\n* Đại diện hợp pháp của nguyên đơn trình bày:\\nTôi là Dương Thị D vào làm việc tại Công ty TNHH E theo hợp đồng lao động xác định thời hạn 01 năm kể từ ngày 18/10/2019 đến ngày 18/10/2020; chức vụ thư ký buồng phòng, mức lương theo hợp đồng 4.800.000 đồng/tháng; Tôi ký hợp đồng với công ty nhưng công ty không giao bản hợp đồng cho tôi.\\nNgày 12/02/2020, bộ phận hành chính- nhân sự của công ty có thông báo yêu cầu nhân viên trong công ty thực hiện việc nghỉ phép/nghỉ bù và ngừng việc không lương trong tháng 02/2020, đồng thời công ty sẽ không tham gia Bảo hiểm xã hội trong những ngày nghỉ không lương mặc dù chưa có thỏa thuận bất cứ vấn đề gì có liên quan. Ngày 25/4/2020, tôi đã gửi đơn yêu cầu hòa giải đến Phòng lao động thương binh và xã hội quận N, tuy nhiên không được giải quyết theo luật định. Tính đến nay, công ty vẫn chưa thanh toán cho tôi lương và phụ cấp tháng 02/2020 mặc dù đã quá thời hạn chi trả theo hợp đồng lao động mà hai bên đã ký kết. Trong thời gian buộc tôi phải nghỉ việc công ty cũng không đóng các khoản Bảo hiểm xã hội và Bảo hiểm y tế cho tôi, không thực hiện việc chốt sổ bảo hiểm làm ảnh hưởng nghiêm trọng đến quyền và lợi ích hợp pháp của tôi.\\nĐể đảm bảo quyền và lợi ích hợp pháp của tôi yêu cầu Tòa án giải quyết:\\n- Buộc Công ty TNHH E thanh toán lương và phụ cấp tháng 02/2020 là 5.600.000 đồng; lương tối thiểu vùng các tháng 3, 4, 5, 6, 7, 8, 9, 10/2020 là 3.920.000 đồng/tháng x 8 tháng = 31.360.000 đồng. Tổng cộng: 36.960.000 đồng;\\n- Buộc Công ty TNHH E truy đóng Bảo hiểm xã hội kể từ tháng 02/2020 đến tháng 10/2020. Riêng Bảo hiểm y tế tôi không yêu cầu.\\nĐại diện theo ủy quyền của bị đơn Công ty TNHH E, ông Lê S trình bày:'),\n",
       " Document(metadata={'name': 'Thông tư 22/2022/TT-BCA', 'url': 'https://dulieuphapluat.vn/van-ban/lao-dong-van-ban/thong-tu-222022tt-bca-cua-bo-cong-an-ve-quy-dinh-ve-lao-dong-hop-dong-trong-cong-an-nhan-dan-1100555.html'}, page_content='b) Trong thời gian thử việc, mỗi bên có quyền hủy bỏ hợp đồng thử việc hoặc hợp đồng lao động đã giao kết mà không cần báo trước và không phải bồi thường.\\nĐiều 17. Sửa đổi, bổ sung, chấm dứt hợp đồng lao động\\n1. Việc sửa đổi, bổ sung hợp đồng lao động thực hiện theo quy định tại Điều 33 của Bộ luật Lao động . Trường hợp cần sửa đổi, bổ sung chức danh công việc đối với lao động hợp đồng theo chỉ tiêu Bộ duyệt thì Công an đơn vị, địa phương phải báo cáo Bộ (qua Cục Tổ cổ chức cán bộ); Cục trưởng Cục Tổ chức cán bộ căn cứ định mức sử dụng lao động hợp đồng lao động theo quy định và nhu cầu sử dụng lao động hợp đồng của Công an đơn vị, địa phương để xem xét, quyết định.\\n2. Việc chấm dứt hợp đồng lao động thực hiện theo quy định tại các Điều từ Điều 34 đến Điều 48 Chương III Bộ luật Lao động . Người có thẩm quyền ký kết hợp đồng lao động phải thỏa thuận với người lao động để chấm dứt hợp đồng lao động hưởng lương ngân sách Nhà nước trong các trường hợp sau:\\na) Ký kết hợp đồng lao động với người không bảo đảm tiêu chuẩn quy định tại Điều 7 Thông tư này hoặc không đúng công việc quy định tại Điều 11 Thông tư này ;\\nb) Ký kết hợp đồng lao động vượt số lượng, không đúng loại hợp đồng theo chỉ tiêu được duyệt hoặc vượt quá định mức sử dụng theo quy định.\\n3. Trong trường hợp phải chấm dứt hợp đồng với người lao động theo quy định tại điểm a và điểm b khoản 2 Điều này, cán bộ tham mưu, đề xuất và lãnh đạo có thẩm quyền ký kết hợp đồng với người lao động sẽ bị xem xét, xử lý kỷ luật theo quy định hiện hành của Bộ Công an về xử lý kỷ luật cán bộ, chiến sĩ Công an nhân dân.\\nĐiều 18. Tạm hoãn thực hiện hợp đồng lao động\\n1. Các trường hợp tạm hoãn thực hiện hợp đồng lao động bao gồm:\\na) Người lao động thực hiện nghĩa vụ quân sự, nghĩa vụ tham gia Công an nhân dân, nghĩa vụ tham gia Dân quân tự vệ;'),\n",
       " Document(metadata={'name': 'Quyết định 641/QĐ-UBND', 'url': 'https://dulieuphapluat.vn/van-ban/lao-dong-van-ban/quyet-dinh-641qd-ubnd-cua-uy-ban-nhan-dan-tinh-vinh-long-ve-viec-cong-bo-danh-muc-thu-tuc-hanh-chinh-duoc-sua-doi-bo-sung-thu-tuc-hanh-chinh-linh-vuc-bao-tro-xa-hoi-thuoc-pham-vi-chuc-nang-quan-ly-nha-nuoc-cua-so-lao-dong-thuong-binh-va-xa-hoi-tinh-vinh-long-1102707.html'}, page_content='8. Người có nghĩa vụ và quyền phụng dưỡng (Nếu có, ghi cụ thể họ tên, tuổi, nghề nghiệp, nơi ở, việc làm, thu nhập): ………………………………………… 9. Quá trình hoạt động của bản thân (Không bắt buộc): ........................................ Tôi xin cam đoan những lời khai trên là đúng sự thực, nếu có điều gì khai không đúng, tôi xin chịu trách nhiệm hoàn toàn. Thông tin người khai thay Giấy CMND hoặc Căn cước công dân số:……………………………………… Ngày cấp: …………………………… Nơi cấp: ………………………………… Mối quan hệ với đối tượng: …………… Địa chỉ: ………………………………… Ngày'),\n",
       " Document(metadata={'name': 'Thông tư 22/2022/TT-BCA', 'url': 'https://dulieuphapluat.vn/van-ban/lao-dong-van-ban/thong-tu-222022tt-bca-cua-bo-cong-an-ve-quy-dinh-ve-lao-dong-hop-dong-trong-cong-an-nhan-dan-1100555.html'}, page_content='Điều 11. Xác định công việc để giao kết hợp đồng lao động\\n1. Đối với lao động hợp đồng hưởng lương ngân sách Nhà nước\\na) Ký kết hợp đồng lao động không xác định thời hạn hoặc hợp đồng lao động xác định thời hạn từ đủ 12 tháng đến 36 tháng với người lao động làm các công việc quy định tại các điểm a, b, c, d, đ, e, g, h và i mục 2 Phụ lục ban hành kèm theo Thông tư này;\\nb) Ký kết hợp đồng lao động xác định thời hạn dưới 12 tháng đối với người lao động làm các công việc quy định tại điểm c mục 2 Phụ lục ban hành kèm theo Thông tư này và các công việc sau:\\nNấu ăn phục vụ hội nghị, các lớp huấn luyện, tập huấn, bồi dưỡng nghiệp vụ, chức danh có thời gian dưới 12 tháng; nấu ăn, phục vụ buồng bàn tại các nhà nghỉ dưỡng trong thời gian đông cán bộ, chiến sĩ đi nghỉ; hướng dẫn viên trên các tàu du lịch trong thời gian dưới 12 tháng; diễn viên, ca sĩ, đạo diễn, quay phim, nhạc công, kỹ thuật viên âm thanh, ánh sáng, biên kịch, hóa trang, dựng phim, quảng cáo thực hiện các chương trình văn hóa, văn nghệ của Công an nhân dân có thời gian dưới 12 tháng.\\n2. Đối với lao động hợp đồng tại các doanh nghiệp, đơn vị sự nghiệp công lập tự chủ về tài chính do Giám đốc doanh nghiệp, Thủ trưởng đơn vị căn cứ thời điểm kết thúc công việc để chủ động xác định.\\nĐiều 12. Thẩm quyền ký kết hợp đồng lao động\\n1. Hợp đồng lao động hưởng lương ngân sách Nhà nước tại Công an đơn vị, địa phương do Thủ trưởng Công an đơn vị, địa phương trực tiếp ký kết với người lao động.\\n2. Hợp đồng lao động tại các doanh nghiệp, đơn vị sự nghiệp công lập tự chủ về tài chính do Giám đốc doanh nghiệp, Thủ trưởng đơn vị sự nghiệp công lập trực tiếp ký kết với người lao động.\\nĐiều 13. Nội dung hợp đồng lao động\\n1. Hợp đồng lao động phải có những nội dung chủ yếu theo quy định tại khoản 1 Điều 21 Bộ luật Lao động .'),\n",
       " Document(metadata={'name': 'Quyết định 641/QĐ-UBND', 'url': 'https://dulieuphapluat.vn/van-ban/lao-dong-van-ban/quyet-dinh-641qd-ubnd-cua-uy-ban-nhan-dan-tinh-vinh-long-ve-viec-cong-bo-danh-muc-thu-tuc-hanh-chinh-duoc-sua-doi-bo-sung-thu-tuc-hanh-chinh-linh-vuc-bao-tro-xa-hoi-thuoc-pham-vi-chuc-nang-quan-ly-nha-nuoc-cua-so-lao-dong-thuong-binh-va-xa-hoi-tinh-vinh-long-1102707.html'}, page_content='hội hàng tháng, hưởng chế độ chăm sóc, nuôi dưỡng trong cơ sở bảo trợ xã hội, nhà xã hội không? (Nếu có ghi cụ thể họ tên, lý do, thời gian hưởng):……………………………………............................ Tôi xin cam đoan những lời khai trên là đúng sự thực, nếu có điều gì khai không đúng tôi xin chịu trách nhiệm hoàn toàn. Thông tin người khai thay Giấy CMND hoặc Căn cước công dân số:…………………………………………….. Ngày cấp: ……………………………………. Nơi cấp: ……………………………..……..… Mối quan hệ với đối tượng: ………………… Địa chỉ: ………………………………………. Ngày .... tháng .... năm ...'),\n",
       " Document(metadata={'name': 'Thông tư 22/2022/TT-BCA', 'url': 'https://dulieuphapluat.vn/van-ban/lao-dong-van-ban/thong-tu-222022tt-bca-cua-bo-cong-an-ve-quy-dinh-ve-lao-dong-hop-dong-trong-cong-an-nhan-dan-1100555.html'}, page_content='a) Người lao động thực hiện nghĩa vụ quân sự, nghĩa vụ tham gia Công an nhân dân, nghĩa vụ tham gia Dân quân tự vệ;\\nb) Người lao động bị tạm giữ, tạm giam theo quy định của pháp luật về tố tụng hình sự;\\nc) Lao động nữ mang thai theo quy định tại Điều 138 Bộ luật Lao động ;\\nd) Trường hợp khác do hai bên thỏa thuận.\\n2. Trong thời gian tạm hoãn thực hiện hợp đồng lao động, người lao động không được hưởng lương và quyền, lợi ích đã giao kết trong hợp đồng lao động, trừ trường hợp hai bên có thỏa thuận hoặc pháp luật có quy định khác.\\nChương III\\nQUYỀN LỢI , NGHĨA VỤ CỦA NGƯỜI LAO ĐỘNG; GIẢI QUYẾT TRANH CHẤP LAO ĐỘNG, XỬ LÝ KỶ LUẬT LAO ĐỘNG\\nĐiều 19. Quyền lợi của lao động hợp đồng hưởng lương ngân sách Nhà nước\\n1. Quyền lợi của người lao động khi ký kết hợp đồng lao động không xác định thời hạn hoặc hợp đồng lao động xác định thời hạn từ đủ 12 tháng đến 36 tháng\\na) Được đảm bảo về thời giờ làm việc, thời giờ nghỉ ngơi, an toàn, vệ sinh lao động theo quy định tại các Điều từ Điều 105 đến Điều 116 Chương VII và các Điều từ Điều 132 đến Điều 134 Chương IX Bộ luật Lao động ;\\nTrường hợp công việc mà người lao động đảm nhận phải làm thường xuyên, liên tục nhưng thời gian thực hiện trong ngày ít hơn 08 giờ thì Công an đơn vị, địa phương thỏa thuận, bố trí người lao động kiêm nhiệm thêm công việc khác theo Phụ lục ban hành kèm theo Thông tư này để bảo đảm đủ 08 giờ làm việc/ngày theo quy định của pháp luật;'),\n",
       " Document(metadata={'name': 'Thông tư 22/2022/TT-BCA', 'url': 'https://dulieuphapluat.vn/van-ban/lao-dong-van-ban/thong-tu-222022tt-bca-cua-bo-cong-an-ve-quy-dinh-ve-lao-dong-hop-dong-trong-cong-an-nhan-dan-1100555.html'}, page_content='Điều 8. Điều kiện ký kết hợp đồng lao động\\n1. Đối với doanh nghiệp, đơn vị sự nghiệp công lập tự chủ về tài chính:\\nTrên cơ sở yêu cầu sản xuất, kinh doanh, tính toán số lượng lao động và yêu cầu về trình độ chuyên môn, tay nghề để ký kết hợp đồng lao động với người lao động, nhưng không được trái với các quy định tại Thông tư này và các quy định của pháp luật về hợp đồng lao động.\\n2. Đối với Công an đơn vị, địa phương, việc ký kết hợp đồng với người lao động phải bảo đảm các điều kiện sau:\\na) Đúng số lượng của từng loại hợp đồng lao động được cấp có thẩm quyền duyệt;\\nb) Người lao động bảo đảm các tiêu chuẩn quy định tại Điều 7 Thông tư này và là người trúng tuyển trong đợt tuyển lao động của Công an đơn vị, địa phương theo quy định tại khoản 2 và khoản 3 Điều 15 Thông tư này .\\nĐiều 9. Hồ sơ đăng ký dự tuyển lao động\\n1. Hồ sơ đăng ký dự tuyển lao động của người lao động tại các doanh nghiệp, đơn vị sự nghiệp công lập tự chủ về tài chính trong Công an nhân dân thực hiện theo quy định của Bộ luật Lao động và các quy định của pháp luật về hợp đồng lao động.\\n2. Hồ sơ đăng ký dự tuyển lao động của người lao động hợp đồng hưởng lương ngân sách Nhà nước ở Công an đơn vị, địa phương gồm:\\na) Phiếu đăng ký dự tuyển lao động (theo mẫu ban hành kèm theo Thông tư này) có xác nhận của Công an cấp xã nơi cư trú hoặc của cơ quan, tổ chức nơi người lao động đang làm việc;\\nb) Giấy chứng nhận có đủ sức khỏe để lao động theo kết luận của cơ sở khám, chữa bệnh cấp huyện trở lên;\\nc) Bản sao các văn bằng, chứng chỉ về trình độ học vấn, trình độ chuyên môn kỹ thuật do cơ quan, tổ chức có thẩm quyền cấp (bản sao từ sổ gốc hoặc bản sao có chứng thực hoặc bản sao xuất trình kèm theo bản chính để đối chiếu) theo yêu cầu của công việc cần tuyển;'),\n",
       " Document(metadata={'name': 'Hướng dẫn 33/HD-VKSTC', 'url': 'https://dulieuphapluat.vn/van-ban/lao-dong-van-ban/huong-dan-33hd-vkstc-cua-vien-kiem-sat-nhan-dan-toi-cao-ve-mot-so-noi-dung-co-ban-trong-cong-tac-kiem-sat-viec-giai-quyet-vu-an-tranh-chap-lao-dong-ca-nhan-1098932.html'}, page_content='+ Trên thực tế còn xảy ra trường hợp hợp đồng lao động xác định thời hạn hết hạn nhưng người lao động vẫn tiếp tục làm việc và trong thời hạn 30 ngày, kể từ ngày hợp đồng lao động hết hạn giữa người lao động và người sử dụng lao động chưa ký kết hợp đồng mới. Sau đó, do không thỏa thuận được các nội dung để ký hợp đồng lao động mới nên người sử dụng lao động ra quyết định đơn phương chấm dứt hợp đồng lao động ban đầu vì lý do hết hạn hợp đồng. Người lao động khởi kiện yêu cầu hủy quyết định đơn phương chấm dứt hợp đồng lao động.\\nĐối với vụ án trên, Kiểm sát viên, công chức xác định người sử dụng lao động đơn phương chấm dứt hợp đồng lao động là trái pháp luật vì khi hợp đồng lao động xác định thời hạn hết hạn mà người lao động vẫn tiếp tục làm việc thì trong thời hạn 30 ngày, kể từ ngày hợp đồng lao động xác định thời hạn hết hạn, các bên phải ký kết hợp đồng mới; trong thời gian chưa ký kết hợp đồng mới thì quyền, nghĩa vụ và lợi ích của hai bên được thực hiện theo hợp đồng đã giao kết. Nếu hai bên không thỏa thuận được thì tiếp tục thực hiện hợp đồng đã giao kết hoặc thỏa thuận chấm dứt hợp đồng lao động.\\n- Trường hợp người sử dụng lao động có hành vi, quyết định đơn phương chấm dứt hợp đồng lao động trái pháp luật thì Kiểm sát viên, công chức xem xét nghĩa vụ của người sử dụng lao động phải thực hiện tương tự như nội dung hướng dẫn đối với vụ án tranh chấp xử lý k ỷ luật lao động theo hình thức sa thải đã nêu tại tiểu mục 1.1, mục 1 Phần II của Hướng dẫn này.\\n2.2. Người lao động đơn phương chấm dứt hợp đồng lao động'),\n",
       " Document(metadata={'name': 'Thông tư 22/2022/TT-BCA', 'url': 'https://dulieuphapluat.vn/van-ban/lao-dong-van-ban/thong-tu-222022tt-bca-cua-bo-cong-an-ve-quy-dinh-ve-lao-dong-hop-dong-trong-cong-an-nhan-dan-1100555.html'}, page_content='d) Bản sao các loại giấy tờ có giá trị pháp lý chứng nhận thuộc đối tượng ưu tiên (nếu có);\\n3. Người lao động ký kết hợp đồng lao động xác định thời hạn dưới 12 tháng hưởng lương ngân sách Nhà nước và người lao động tại các doanh nghiệp, đơn vị sự nghiệp công lập tự chủ về tài chính phải có xác nhận của Công an cấp xã nơi cư trú về bản thân không thuộc một trong các trường hợp quy định tại điểm b khoản 5 Điều 7 Thông tư này .\\n4. Người lao động làm việc theo hợp đồng lao động hưởng lương ngân sách Nhà nước chấm dứt hợp đồng ở Công an đơn vị, địa phương này để dự tuyển lao động ở Công an đơn vị, địa phương khác vẫn hưởng lương ngân sách Nhà nước, trong thời hạn 6 tháng kể từ ngày chấm dứt hợp đồng lao động chỉ cần nộp cho nơi đăng ký dự tuyển Phiếu đăng ký dự tuyển và bản nhận xét, đánh giá của Công an đơn vị, địa phương đã làm việc trước đó. Trong thời gian 30 ngày sau khi ký kết hợp đồng, Công an đơn vị, địa phương sử dụng lao động có trách nhiệm liên hệ và tiếp nhận lại toàn bộ hồ sơ, các loại giấy tờ có liên quan đến người lao động ở Công an đơn vị, địa phương cũ theo quy định.\\nChương II\\nHỢP ĐỒNG LAO ĐỘNG VÀ TUYỂN LAO ĐỘNG HỢP ĐỒNG\\nĐiều 10. Loại hợp đồng lao động\\n1. Hợp đồng lao động không xác định thời hạn: Là hợp đồng mà trong đó hai bên không xác định thời hạn, thời điểm chấm dứt hiệu lực của hợp đồng.\\n2. Hợp đồng lao động xác định thời hạn\\na) Hợp đồng xác định thời hạn từ đủ 12 tháng đến 36 tháng: Là hợp đồng mà trong đó hai bên xác định thời hạn, thời điểm chấm dứt hiệu lực của hợp đồng trong thời gian từ đủ 12 tháng đến đủ 36 tháng kể từ thời điểm có hiệu lực của hợp đồng;'),\n",
       " Document(metadata={'name': 'Thông tư 22/2022/TT-BCA', 'url': 'https://dulieuphapluat.vn/van-ban/lao-dong-van-ban/thong-tu-222022tt-bca-cua-bo-cong-an-ve-quy-dinh-ve-lao-dong-hop-dong-trong-cong-an-nhan-dan-1100555.html'}, page_content='2. Chuyển loại hợp đồng lao động là việc chấm dứt hợp đồng lao động xác định thời hạn để giao kết hợp đồng lao động không xác định thời hạn.\\n3. Đơn vị trực tiếp sử dụng người lao động là đơn vị được giao thẩm quyền quản lý, sử dụng người lao động theo hợp đồng lao động đã giao kết.\\n4. Người lao động cao tuổi là người tiếp tục lao động sau độ tuổi theo quy định tại khoản 2 Điều 169 Bộ luật Lao động .\\nĐiều 3. Nguyên tắc tuyển, sử dụng lao động hợp đồng\\n1. Công khai, dân chủ, minh bạch, tuân thủ đúng quy định của pháp luật về lao động; việc tuyển lao động hợp đồng phải đúng đối tượng, tiêu chuẩn, điều kiện, trình tự, thẩm quyền và loại hợp đồng lao động theo quy định tại Thông tư này.\\n2. Thực hiện đầy đủ các chế độ, chính sách đối với người lao động theo quy định của pháp luật và của Bộ Công an.\\nĐiều 4. Kế hoạch tuyển, sử dụng lao động hợp đồng\\n1. Kế hoạch tuyển, sử dụng lao động hợp đồng hưởng lương ngân sách Nhà nước ở Công an đơn vị, địa phương được thực hiện theo trình tự sau:\\na) Trước ngày 30 tháng 10 hằng năm, đơn vị trực tiếp sử dụng người lao động báo cáo nhu cầu tuyển, sử dụng lao động hợp đồng tại đơn vị mình về cơ quan tổ chức cán bộ của Công an đơn vị, địa phương;\\nb) Cơ quan tổ chức cán bộ thẩm định, xin ý kiến tập thể thường vụ đảng ủy và lãnh đạo Công an đơn vị, địa phương trước khi Thủ trưởng Công an đơn vị, địa phương ký văn bản báo cáo về Bộ Công an (qua Cục Tổ chức cán bộ) trước ngày 31 tháng 12 hằng năm;\\nĐối với hợp đồng lao động xác định thời hạn, Công an đơn vị, địa phương căn cứ kế hoạch sử dụng được tập thể thường vụ đảng ủy, lãnh đạo Công an đơn vị, địa phương thông qua và nguồn ngân sách được cấp để chủ động tuyển lao động theo quy định tại Điều 15 Thông tư này ;'),\n",
       " Document(metadata={'name': 'Thông tư 22/2022/TT-BCA', 'url': 'https://dulieuphapluat.vn/van-ban/lao-dong-van-ban/thong-tu-222022tt-bca-cua-bo-cong-an-ve-quy-dinh-ve-lao-dong-hop-dong-trong-cong-an-nhan-dan-1100555.html'}, page_content='Chương IV\\nTỔ CHỨC THỰC HIỆN\\nĐiều 25. Hiệu lực thi hành\\n1. Thông tư này có hiệu lực thi hành kể từ ngày 01 tháng 7 năm 2022. Thông tư số 68/2019/TT-BCA ngày 04 tháng 12 năm 2019 của Bộ Công an quy định về lao động hợp đồng trong Công an nhân dân hết hiệu lực thi hành kể từ ngày Thông tư này có hiệu lực thi hành.\\n2. Kể từ ngày Thông tư này có hiệu lực thi hành, hợp đồng lao động đã giao kết đúng theo các quy định trước đây của Bộ Công an quy định về lao động hợp đồng trong Công an nhân dân được tiếp tục thực hiện. Trường hợp các bên có thỏa thuận về việc sửa đổi, bổ sung để phù hợp và để áp dụng quy định của Thông tư này thì Công an đơn vị, địa phương tổ chức ký kết lại hợp đồng lao động.\\n3. Trường hợp các văn bản quy phạm pháp luật dẫn chiếu để áp dụng trong Thông tư này được sửa đổi, bổ sung hoặc thay thế thì áp dụng theo các văn bản sửa đổi, bổ sung hoặc thay thế.\\nĐiều 26. Trách nhiệm thi hành\\n1. Thủ trưởng Công an đơn vị, địa phương, Giám đốc doanh nghiệp, Thủ trưởng đơn vị sự nghiệp công lập trong Công an nhân dân chịu trách nhiệm thực hiện Thông tư này.\\n2. Cục trưởng Cục Tổ chức cán bộ hướng dẫn, kiểm tra việc thực hiện Thông tư này và hướng dẫn thống nhất các biểu mẫu hồ sơ, báo cáo thống kê phục vụ công tác quản lý, sử dụng lao động hợp đồng trong Công an nhân dân.\\nTrong quá trình thực hiện, nếu có khó khăn, vướng mắc, đề nghị Công an đơn vị, địa phương báo cáo về Bộ Công an (qua Cục Tổ chức cán bộ) để được hướng dẫn, giải quyết./.\\nBắt đầu bảng: \\nNơi nhận: - Các đồng chí Thứ trưởng; - Công an đơn vị, địa phương (để thực hiện); - Công báo; - Lưu: VT, V03, X01(P2), 150. | BỘ TRƯỞNG Đại tướng Tô Lâm\\n Kết thúc bảng.')]"
      ]
     },
     "execution_count": 25,
     "metadata": {},
     "output_type": "execute_result"
    }
   ],
   "source": [
    "relevants = ensemble_retriever.get_relevant_documents(\"Tôi có thể làm gì với hợp đồng lao động trong công an nhân dân?\")\n",
    "relevants"
   ]
  },
  {
   "cell_type": "code",
   "execution_count": 39,
   "metadata": {},
   "outputs": [],
   "source": [
    "from collections import Counter\n",
    "\n",
    "name = [i.metadata[\"name\"] for i in relevants]\n",
    "name_counts = Counter(name)\n",
    "ranked_names = sorted(name_counts.items(), key=lambda x: x[1], reverse=True)\n",
    "\n",
    "sorted_documents = []\n",
    "for name, count in ranked_names:\n",
    "    for doc in relevants:\n",
    "        if doc.metadata[\"name\"] == name:\n",
    "            sorted_documents.append(doc)\n",
    "\n",
    "top_documents = sorted_documents[:10]\n",
    "# sorted_doc = [doc for doc in relevants for name, _ in ranked_names if doc.metadata[\"name\"] == name]\n",
    "# while len(top_documents) < max_chunks:\n",
    "#     for name, count in ranked_names:\n",
    "#         doc\n",
    "#         top_documents.append([doc for doc in ])"
   ]
  },
  {
   "cell_type": "code",
   "execution_count": 40,
   "metadata": {},
   "outputs": [
    {
     "data": {
      "text/plain": [
       "[Document(metadata={'name': 'Thông tư 22/2022/TT-BCA', 'url': 'https://dulieuphapluat.vn/van-ban/lao-dong-van-ban/thong-tu-222022tt-bca-cua-bo-cong-an-ve-quy-dinh-ve-lao-dong-hop-dong-trong-cong-an-nhan-dan-1100555.html'}, page_content='Điều 13. Nội dung hợp đồng lao động\\n1. Hợp đồng lao động phải có những nội dung chủ yếu theo quy định tại khoản 1 Điều 21 Bộ luật Lao động .\\n2. Người lao động làm việc ở các đơn vị, bộ phận trọng yếu, cơ mật trong Công an nhân dân, trước khi ký kết hợp đồng với người lao động, đơn vị trực tiếp sử dụng phải yêu cầu người lao động cam kết bằng văn bản (theo mẫu ban hành kèm theo Thông tư này) về công tác bảo mật trong thời gian làm việc và sau khi kết thúc hợp đồng lao động; đồng thời triển khai các biện pháp phù hợp, trang bị kiến thức cần thiết cho người lao động về việc bảo vệ bí mật Nhà nước.\\n3. Trong trường hợp cần quy định chi tiết hoặc để sửa đổi, bổ sung một số điều, khoản của hợp đồng lao động, người sử dụng lao động và người lao động có thể lập phụ lục hợp đồng lao động theo quy định tại Điều 22 Bộ luật Lao động , nhưng không được sửa đổi thời hạn của hợp đồng lao động và chức danh, công việc lao động hợp đồng.\\nĐiều 14. Hình thức hợp đồng\\n1. Hợp đồng lao động trong Công an nhân dân phải được giao kết bằng văn bản và được lập thành 02 bản, người lao động giữ 01 bản, đơn vị sử dụng lao động giữ 01 bản, trừ trường hợp quy định tại khoản 2 Điều này.\\n2. Doanh nghiệp, đơn vị sự nghiệp công lập tự chủ về tài chính và người lao động có thể giao kết hợp đồng lao động bằng lời nói đối với hợp đồng lao động có thời hạn dưới 01 tháng nhưng không được trái pháp luật, thỏa ước lao động và đạo đức xã hội.\\nĐiều 15. Trình tự tuyển lao động\\n1. Trình tự tuyển lao động hợp đồng tại các doanh nghiệp, đơn vị sự nghiệp công lập tự chủ về tài chính thực hiện theo quy định của pháp luật hiện hành về lao động hợp đồng.\\n2. Trình tự tuyển lao động hợp đồng không xác định thời hạn và xác định thời hạn từ đủ 12 tháng đến 36 tháng hưởng lương ngân sách Nhà nước ở Công an đơn vị, địa phương thực hiện như sau:\\na) Thông báo nhu cầu'),\n",
       " Document(metadata={'name': 'Thông tư 22/2022/TT-BCA', 'url': 'https://dulieuphapluat.vn/van-ban/lao-dong-van-ban/thong-tu-222022tt-bca-cua-bo-cong-an-ve-quy-dinh-ve-lao-dong-hop-dong-trong-cong-an-nhan-dan-1100555.html'}, page_content='b) Hợp đồng xác định thời hạn dưới 12 tháng: Là hợp đồng mà trong đó hai bên xác định thời hạn, thời điểm chấm dứt hiệu lực của hợp đồng trong thời gian dưới 12 tháng kể từ thời điểm có hiệu lực của hợp đồng, áp dụng với những công việc mang tính chất mùa vụ hoặc công việc nhất định có thời hạn dưới 12 tháng.\\n3. Khi hợp đồng lao động quy định tại khoản 2 Điều này hết hạn mà Công an đơn vị, địa phương tiếp tục có nhu cầu sử dụng người lao động thì trong thời hạn 30 ngày kể từ ngày hợp đồng lao động hết hạn, hai bên phải ký kết hợp đồng lao động mới, cụ thể như sau:\\na) Trường hợp hợp đồng lao động ký tiếp với người lao động là hợp đồng không xác định thời hạn hưởng lương ngân sách Nhà nước thì Công an đơn vị, địa phương phải căn cứ vào chỉ tiêu lao động hợp đồng được Bộ duyệt trong năm để ký kết hợp đồng lao động mới;\\nb) Trường hợp hợp đồng lao động ký tiếp với người lao động là hợp đồng xác định thời hạn hưởng lương ngân sách Nhà nước thì Công an đơn vị, địa phương căn cứ kế hoạch sử dụng lao động hợp đồng được tập thể thường vụ đảng ủy, lãnh đạo Công an đơn vị, địa phương thông qua và nguồn ngân sách được cấp để chủ động ký kết hợp đồng lao động mới với người lao động và chỉ được ký thêm 01 lần, sau đó nếu tiếp tục có nhu cầu sử dụng người lao động thì phải ký hợp đồng lao động không xác định thời hạn theo chỉ tiêu Bộ duyệt;\\nc) Đối với việc ký kết hợp đồng với người lao động tại các doanh nghiệp, đơn vị sự nghiệp công lập tự chủ về tài chính trong Công an nhân dân do Giám đốc, Thủ trưởng đơn vị căn cứ nhu cầu sản xuất, kinh doanh để chủ động quyết định theo quy định tại Điều 20 Bộ luật Lao động .\\n4. Trường hợp giao kết hợp đồng lao động với người lao động cao tuổi, hai bên được ký kết nhiều lần hợp đồng lao động xác định thời hạn dưới 12 tháng.\\nĐiều 11. Xác định công việc để giao kết hợp đồng lao động\\n1. Đối với lao động hợp đồng hưởng lương ngân sách Nhà nước'),\n",
       " Document(metadata={'name': 'Thông tư 22/2022/TT-BCA', 'url': 'https://dulieuphapluat.vn/van-ban/lao-dong-van-ban/thong-tu-222022tt-bca-cua-bo-cong-an-ve-quy-dinh-ve-lao-dong-hop-dong-trong-cong-an-nhan-dan-1100555.html'}, page_content='b) Trong thời gian thử việc, mỗi bên có quyền hủy bỏ hợp đồng thử việc hoặc hợp đồng lao động đã giao kết mà không cần báo trước và không phải bồi thường.\\nĐiều 17. Sửa đổi, bổ sung, chấm dứt hợp đồng lao động\\n1. Việc sửa đổi, bổ sung hợp đồng lao động thực hiện theo quy định tại Điều 33 của Bộ luật Lao động . Trường hợp cần sửa đổi, bổ sung chức danh công việc đối với lao động hợp đồng theo chỉ tiêu Bộ duyệt thì Công an đơn vị, địa phương phải báo cáo Bộ (qua Cục Tổ cổ chức cán bộ); Cục trưởng Cục Tổ chức cán bộ căn cứ định mức sử dụng lao động hợp đồng lao động theo quy định và nhu cầu sử dụng lao động hợp đồng của Công an đơn vị, địa phương để xem xét, quyết định.\\n2. Việc chấm dứt hợp đồng lao động thực hiện theo quy định tại các Điều từ Điều 34 đến Điều 48 Chương III Bộ luật Lao động . Người có thẩm quyền ký kết hợp đồng lao động phải thỏa thuận với người lao động để chấm dứt hợp đồng lao động hưởng lương ngân sách Nhà nước trong các trường hợp sau:\\na) Ký kết hợp đồng lao động với người không bảo đảm tiêu chuẩn quy định tại Điều 7 Thông tư này hoặc không đúng công việc quy định tại Điều 11 Thông tư này ;\\nb) Ký kết hợp đồng lao động vượt số lượng, không đúng loại hợp đồng theo chỉ tiêu được duyệt hoặc vượt quá định mức sử dụng theo quy định.\\n3. Trong trường hợp phải chấm dứt hợp đồng với người lao động theo quy định tại điểm a và điểm b khoản 2 Điều này, cán bộ tham mưu, đề xuất và lãnh đạo có thẩm quyền ký kết hợp đồng với người lao động sẽ bị xem xét, xử lý kỷ luật theo quy định hiện hành của Bộ Công an về xử lý kỷ luật cán bộ, chiến sĩ Công an nhân dân.\\nĐiều 18. Tạm hoãn thực hiện hợp đồng lao động\\n1. Các trường hợp tạm hoãn thực hiện hợp đồng lao động bao gồm:\\na) Người lao động thực hiện nghĩa vụ quân sự, nghĩa vụ tham gia Công an nhân dân, nghĩa vụ tham gia Dân quân tự vệ;'),\n",
       " Document(metadata={'name': 'Thông tư 22/2022/TT-BCA', 'url': 'https://dulieuphapluat.vn/van-ban/lao-dong-van-ban/thong-tu-222022tt-bca-cua-bo-cong-an-ve-quy-dinh-ve-lao-dong-hop-dong-trong-cong-an-nhan-dan-1100555.html'}, page_content='Điều 11. Xác định công việc để giao kết hợp đồng lao động\\n1. Đối với lao động hợp đồng hưởng lương ngân sách Nhà nước\\na) Ký kết hợp đồng lao động không xác định thời hạn hoặc hợp đồng lao động xác định thời hạn từ đủ 12 tháng đến 36 tháng với người lao động làm các công việc quy định tại các điểm a, b, c, d, đ, e, g, h và i mục 2 Phụ lục ban hành kèm theo Thông tư này;\\nb) Ký kết hợp đồng lao động xác định thời hạn dưới 12 tháng đối với người lao động làm các công việc quy định tại điểm c mục 2 Phụ lục ban hành kèm theo Thông tư này và các công việc sau:\\nNấu ăn phục vụ hội nghị, các lớp huấn luyện, tập huấn, bồi dưỡng nghiệp vụ, chức danh có thời gian dưới 12 tháng; nấu ăn, phục vụ buồng bàn tại các nhà nghỉ dưỡng trong thời gian đông cán bộ, chiến sĩ đi nghỉ; hướng dẫn viên trên các tàu du lịch trong thời gian dưới 12 tháng; diễn viên, ca sĩ, đạo diễn, quay phim, nhạc công, kỹ thuật viên âm thanh, ánh sáng, biên kịch, hóa trang, dựng phim, quảng cáo thực hiện các chương trình văn hóa, văn nghệ của Công an nhân dân có thời gian dưới 12 tháng.\\n2. Đối với lao động hợp đồng tại các doanh nghiệp, đơn vị sự nghiệp công lập tự chủ về tài chính do Giám đốc doanh nghiệp, Thủ trưởng đơn vị căn cứ thời điểm kết thúc công việc để chủ động xác định.\\nĐiều 12. Thẩm quyền ký kết hợp đồng lao động\\n1. Hợp đồng lao động hưởng lương ngân sách Nhà nước tại Công an đơn vị, địa phương do Thủ trưởng Công an đơn vị, địa phương trực tiếp ký kết với người lao động.\\n2. Hợp đồng lao động tại các doanh nghiệp, đơn vị sự nghiệp công lập tự chủ về tài chính do Giám đốc doanh nghiệp, Thủ trưởng đơn vị sự nghiệp công lập trực tiếp ký kết với người lao động.\\nĐiều 13. Nội dung hợp đồng lao động\\n1. Hợp đồng lao động phải có những nội dung chủ yếu theo quy định tại khoản 1 Điều 21 Bộ luật Lao động .'),\n",
       " Document(metadata={'name': 'Thông tư 22/2022/TT-BCA', 'url': 'https://dulieuphapluat.vn/van-ban/lao-dong-van-ban/thong-tu-222022tt-bca-cua-bo-cong-an-ve-quy-dinh-ve-lao-dong-hop-dong-trong-cong-an-nhan-dan-1100555.html'}, page_content='a) Người lao động thực hiện nghĩa vụ quân sự, nghĩa vụ tham gia Công an nhân dân, nghĩa vụ tham gia Dân quân tự vệ;\\nb) Người lao động bị tạm giữ, tạm giam theo quy định của pháp luật về tố tụng hình sự;\\nc) Lao động nữ mang thai theo quy định tại Điều 138 Bộ luật Lao động ;\\nd) Trường hợp khác do hai bên thỏa thuận.\\n2. Trong thời gian tạm hoãn thực hiện hợp đồng lao động, người lao động không được hưởng lương và quyền, lợi ích đã giao kết trong hợp đồng lao động, trừ trường hợp hai bên có thỏa thuận hoặc pháp luật có quy định khác.\\nChương III\\nQUYỀN LỢI , NGHĨA VỤ CỦA NGƯỜI LAO ĐỘNG; GIẢI QUYẾT TRANH CHẤP LAO ĐỘNG, XỬ LÝ KỶ LUẬT LAO ĐỘNG\\nĐiều 19. Quyền lợi của lao động hợp đồng hưởng lương ngân sách Nhà nước\\n1. Quyền lợi của người lao động khi ký kết hợp đồng lao động không xác định thời hạn hoặc hợp đồng lao động xác định thời hạn từ đủ 12 tháng đến 36 tháng\\na) Được đảm bảo về thời giờ làm việc, thời giờ nghỉ ngơi, an toàn, vệ sinh lao động theo quy định tại các Điều từ Điều 105 đến Điều 116 Chương VII và các Điều từ Điều 132 đến Điều 134 Chương IX Bộ luật Lao động ;\\nTrường hợp công việc mà người lao động đảm nhận phải làm thường xuyên, liên tục nhưng thời gian thực hiện trong ngày ít hơn 08 giờ thì Công an đơn vị, địa phương thỏa thuận, bố trí người lao động kiêm nhiệm thêm công việc khác theo Phụ lục ban hành kèm theo Thông tư này để bảo đảm đủ 08 giờ làm việc/ngày theo quy định của pháp luật;'),\n",
       " Document(metadata={'name': 'Thông tư 22/2022/TT-BCA', 'url': 'https://dulieuphapluat.vn/van-ban/lao-dong-van-ban/thong-tu-222022tt-bca-cua-bo-cong-an-ve-quy-dinh-ve-lao-dong-hop-dong-trong-cong-an-nhan-dan-1100555.html'}, page_content='Điều 8. Điều kiện ký kết hợp đồng lao động\\n1. Đối với doanh nghiệp, đơn vị sự nghiệp công lập tự chủ về tài chính:\\nTrên cơ sở yêu cầu sản xuất, kinh doanh, tính toán số lượng lao động và yêu cầu về trình độ chuyên môn, tay nghề để ký kết hợp đồng lao động với người lao động, nhưng không được trái với các quy định tại Thông tư này và các quy định của pháp luật về hợp đồng lao động.\\n2. Đối với Công an đơn vị, địa phương, việc ký kết hợp đồng với người lao động phải bảo đảm các điều kiện sau:\\na) Đúng số lượng của từng loại hợp đồng lao động được cấp có thẩm quyền duyệt;\\nb) Người lao động bảo đảm các tiêu chuẩn quy định tại Điều 7 Thông tư này và là người trúng tuyển trong đợt tuyển lao động của Công an đơn vị, địa phương theo quy định tại khoản 2 và khoản 3 Điều 15 Thông tư này .\\nĐiều 9. Hồ sơ đăng ký dự tuyển lao động\\n1. Hồ sơ đăng ký dự tuyển lao động của người lao động tại các doanh nghiệp, đơn vị sự nghiệp công lập tự chủ về tài chính trong Công an nhân dân thực hiện theo quy định của Bộ luật Lao động và các quy định của pháp luật về hợp đồng lao động.\\n2. Hồ sơ đăng ký dự tuyển lao động của người lao động hợp đồng hưởng lương ngân sách Nhà nước ở Công an đơn vị, địa phương gồm:\\na) Phiếu đăng ký dự tuyển lao động (theo mẫu ban hành kèm theo Thông tư này) có xác nhận của Công an cấp xã nơi cư trú hoặc của cơ quan, tổ chức nơi người lao động đang làm việc;\\nb) Giấy chứng nhận có đủ sức khỏe để lao động theo kết luận của cơ sở khám, chữa bệnh cấp huyện trở lên;\\nc) Bản sao các văn bằng, chứng chỉ về trình độ học vấn, trình độ chuyên môn kỹ thuật do cơ quan, tổ chức có thẩm quyền cấp (bản sao từ sổ gốc hoặc bản sao có chứng thực hoặc bản sao xuất trình kèm theo bản chính để đối chiếu) theo yêu cầu của công việc cần tuyển;'),\n",
       " Document(metadata={'name': 'Thông tư 22/2022/TT-BCA', 'url': 'https://dulieuphapluat.vn/van-ban/lao-dong-van-ban/thong-tu-222022tt-bca-cua-bo-cong-an-ve-quy-dinh-ve-lao-dong-hop-dong-trong-cong-an-nhan-dan-1100555.html'}, page_content='d) Bản sao các loại giấy tờ có giá trị pháp lý chứng nhận thuộc đối tượng ưu tiên (nếu có);\\n3. Người lao động ký kết hợp đồng lao động xác định thời hạn dưới 12 tháng hưởng lương ngân sách Nhà nước và người lao động tại các doanh nghiệp, đơn vị sự nghiệp công lập tự chủ về tài chính phải có xác nhận của Công an cấp xã nơi cư trú về bản thân không thuộc một trong các trường hợp quy định tại điểm b khoản 5 Điều 7 Thông tư này .\\n4. Người lao động làm việc theo hợp đồng lao động hưởng lương ngân sách Nhà nước chấm dứt hợp đồng ở Công an đơn vị, địa phương này để dự tuyển lao động ở Công an đơn vị, địa phương khác vẫn hưởng lương ngân sách Nhà nước, trong thời hạn 6 tháng kể từ ngày chấm dứt hợp đồng lao động chỉ cần nộp cho nơi đăng ký dự tuyển Phiếu đăng ký dự tuyển và bản nhận xét, đánh giá của Công an đơn vị, địa phương đã làm việc trước đó. Trong thời gian 30 ngày sau khi ký kết hợp đồng, Công an đơn vị, địa phương sử dụng lao động có trách nhiệm liên hệ và tiếp nhận lại toàn bộ hồ sơ, các loại giấy tờ có liên quan đến người lao động ở Công an đơn vị, địa phương cũ theo quy định.\\nChương II\\nHỢP ĐỒNG LAO ĐỘNG VÀ TUYỂN LAO ĐỘNG HỢP ĐỒNG\\nĐiều 10. Loại hợp đồng lao động\\n1. Hợp đồng lao động không xác định thời hạn: Là hợp đồng mà trong đó hai bên không xác định thời hạn, thời điểm chấm dứt hiệu lực của hợp đồng.\\n2. Hợp đồng lao động xác định thời hạn\\na) Hợp đồng xác định thời hạn từ đủ 12 tháng đến 36 tháng: Là hợp đồng mà trong đó hai bên xác định thời hạn, thời điểm chấm dứt hiệu lực của hợp đồng trong thời gian từ đủ 12 tháng đến đủ 36 tháng kể từ thời điểm có hiệu lực của hợp đồng;'),\n",
       " Document(metadata={'name': 'Thông tư 22/2022/TT-BCA', 'url': 'https://dulieuphapluat.vn/van-ban/lao-dong-van-ban/thong-tu-222022tt-bca-cua-bo-cong-an-ve-quy-dinh-ve-lao-dong-hop-dong-trong-cong-an-nhan-dan-1100555.html'}, page_content='2. Chuyển loại hợp đồng lao động là việc chấm dứt hợp đồng lao động xác định thời hạn để giao kết hợp đồng lao động không xác định thời hạn.\\n3. Đơn vị trực tiếp sử dụng người lao động là đơn vị được giao thẩm quyền quản lý, sử dụng người lao động theo hợp đồng lao động đã giao kết.\\n4. Người lao động cao tuổi là người tiếp tục lao động sau độ tuổi theo quy định tại khoản 2 Điều 169 Bộ luật Lao động .\\nĐiều 3. Nguyên tắc tuyển, sử dụng lao động hợp đồng\\n1. Công khai, dân chủ, minh bạch, tuân thủ đúng quy định của pháp luật về lao động; việc tuyển lao động hợp đồng phải đúng đối tượng, tiêu chuẩn, điều kiện, trình tự, thẩm quyền và loại hợp đồng lao động theo quy định tại Thông tư này.\\n2. Thực hiện đầy đủ các chế độ, chính sách đối với người lao động theo quy định của pháp luật và của Bộ Công an.\\nĐiều 4. Kế hoạch tuyển, sử dụng lao động hợp đồng\\n1. Kế hoạch tuyển, sử dụng lao động hợp đồng hưởng lương ngân sách Nhà nước ở Công an đơn vị, địa phương được thực hiện theo trình tự sau:\\na) Trước ngày 30 tháng 10 hằng năm, đơn vị trực tiếp sử dụng người lao động báo cáo nhu cầu tuyển, sử dụng lao động hợp đồng tại đơn vị mình về cơ quan tổ chức cán bộ của Công an đơn vị, địa phương;\\nb) Cơ quan tổ chức cán bộ thẩm định, xin ý kiến tập thể thường vụ đảng ủy và lãnh đạo Công an đơn vị, địa phương trước khi Thủ trưởng Công an đơn vị, địa phương ký văn bản báo cáo về Bộ Công an (qua Cục Tổ chức cán bộ) trước ngày 31 tháng 12 hằng năm;\\nĐối với hợp đồng lao động xác định thời hạn, Công an đơn vị, địa phương căn cứ kế hoạch sử dụng được tập thể thường vụ đảng ủy, lãnh đạo Công an đơn vị, địa phương thông qua và nguồn ngân sách được cấp để chủ động tuyển lao động theo quy định tại Điều 15 Thông tư này ;'),\n",
       " Document(metadata={'name': 'Thông tư 22/2022/TT-BCA', 'url': 'https://dulieuphapluat.vn/van-ban/lao-dong-van-ban/thong-tu-222022tt-bca-cua-bo-cong-an-ve-quy-dinh-ve-lao-dong-hop-dong-trong-cong-an-nhan-dan-1100555.html'}, page_content='Chương IV\\nTỔ CHỨC THỰC HIỆN\\nĐiều 25. Hiệu lực thi hành\\n1. Thông tư này có hiệu lực thi hành kể từ ngày 01 tháng 7 năm 2022. Thông tư số 68/2019/TT-BCA ngày 04 tháng 12 năm 2019 của Bộ Công an quy định về lao động hợp đồng trong Công an nhân dân hết hiệu lực thi hành kể từ ngày Thông tư này có hiệu lực thi hành.\\n2. Kể từ ngày Thông tư này có hiệu lực thi hành, hợp đồng lao động đã giao kết đúng theo các quy định trước đây của Bộ Công an quy định về lao động hợp đồng trong Công an nhân dân được tiếp tục thực hiện. Trường hợp các bên có thỏa thuận về việc sửa đổi, bổ sung để phù hợp và để áp dụng quy định của Thông tư này thì Công an đơn vị, địa phương tổ chức ký kết lại hợp đồng lao động.\\n3. Trường hợp các văn bản quy phạm pháp luật dẫn chiếu để áp dụng trong Thông tư này được sửa đổi, bổ sung hoặc thay thế thì áp dụng theo các văn bản sửa đổi, bổ sung hoặc thay thế.\\nĐiều 26. Trách nhiệm thi hành\\n1. Thủ trưởng Công an đơn vị, địa phương, Giám đốc doanh nghiệp, Thủ trưởng đơn vị sự nghiệp công lập trong Công an nhân dân chịu trách nhiệm thực hiện Thông tư này.\\n2. Cục trưởng Cục Tổ chức cán bộ hướng dẫn, kiểm tra việc thực hiện Thông tư này và hướng dẫn thống nhất các biểu mẫu hồ sơ, báo cáo thống kê phục vụ công tác quản lý, sử dụng lao động hợp đồng trong Công an nhân dân.\\nTrong quá trình thực hiện, nếu có khó khăn, vướng mắc, đề nghị Công an đơn vị, địa phương báo cáo về Bộ Công an (qua Cục Tổ chức cán bộ) để được hướng dẫn, giải quyết./.\\nBắt đầu bảng: \\nNơi nhận: - Các đồng chí Thứ trưởng; - Công an đơn vị, địa phương (để thực hiện); - Công báo; - Lưu: VT, V03, X01(P2), 150. | BỘ TRƯỞNG Đại tướng Tô Lâm\\n Kết thúc bảng.'),\n",
       " Document(metadata={'name': 'Quyết định 641/QĐ-UBND', 'url': 'https://dulieuphapluat.vn/van-ban/lao-dong-van-ban/quyet-dinh-641qd-ubnd-cua-uy-ban-nhan-dan-tinh-vinh-long-ve-viec-cong-bo-danh-muc-thu-tuc-hanh-chinh-duoc-sua-doi-bo-sung-thu-tuc-hanh-chinh-linh-vuc-bao-tro-xa-hoi-thuoc-pham-vi-chuc-nang-quan-ly-nha-nuoc-cua-so-lao-dong-thuong-binh-va-xa-hoi-tinh-vinh-long-1102707.html'}, page_content='cấp - Dạng tật: ........................................................................................................... - Mức độ khuyết tật: .......................................................................................... 8. Có tham gia làm việc không? □ Không □ Có a) Nếu có thì đang làm gì ……………, thu nhập hàng tháng …………… đồng b) Nếu không thì ghi lý do: ..................................................................................... 9. Tình trạng hôn nhân: .......................................................................................... 10. Khả năng tự phục vụ? ....................................................................................... Tôi xin cam đoan những lời khai trên là đúng sự thực, nếu có điều gì khai không đúng, tôi xin chịu trách nhiệm hoàn toàn. Thông tin người khai thay Giấy CMND hoặc Căn')]"
      ]
     },
     "execution_count": 40,
     "metadata": {},
     "output_type": "execute_result"
    }
   ],
   "source": [
    "top_documents"
   ]
  },
  {
   "cell_type": "code",
   "execution_count": 34,
   "metadata": {},
   "outputs": [
    {
     "name": "stdout",
     "output_type": "stream",
     "text": [
      "Thông tư 22/2022/TT-BCA\n",
      "Quyết định 641/QĐ-UBND\n",
      "Bản án 04/2022/LĐ-PT\n",
      "Hướng dẫn 33/HD-VKSTC\n"
     ]
    }
   ],
   "source": [
    "for name, _ in ranked_names:\n",
    "    print(name)"
   ]
  },
  {
   "cell_type": "code",
   "execution_count": 33,
   "metadata": {},
   "outputs": [
    {
     "data": {
      "text/plain": [
       "[Document(metadata={'name': 'Thông tư 22/2022/TT-BCA', 'url': 'https://dulieuphapluat.vn/van-ban/lao-dong-van-ban/thong-tu-222022tt-bca-cua-bo-cong-an-ve-quy-dinh-ve-lao-dong-hop-dong-trong-cong-an-nhan-dan-1100555.html'}, page_content='Điều 13. Nội dung hợp đồng lao động\\n1. Hợp đồng lao động phải có những nội dung chủ yếu theo quy định tại khoản 1 Điều 21 Bộ luật Lao động .\\n2. Người lao động làm việc ở các đơn vị, bộ phận trọng yếu, cơ mật trong Công an nhân dân, trước khi ký kết hợp đồng với người lao động, đơn vị trực tiếp sử dụng phải yêu cầu người lao động cam kết bằng văn bản (theo mẫu ban hành kèm theo Thông tư này) về công tác bảo mật trong thời gian làm việc và sau khi kết thúc hợp đồng lao động; đồng thời triển khai các biện pháp phù hợp, trang bị kiến thức cần thiết cho người lao động về việc bảo vệ bí mật Nhà nước.\\n3. Trong trường hợp cần quy định chi tiết hoặc để sửa đổi, bổ sung một số điều, khoản của hợp đồng lao động, người sử dụng lao động và người lao động có thể lập phụ lục hợp đồng lao động theo quy định tại Điều 22 Bộ luật Lao động , nhưng không được sửa đổi thời hạn của hợp đồng lao động và chức danh, công việc lao động hợp đồng.\\nĐiều 14. Hình thức hợp đồng\\n1. Hợp đồng lao động trong Công an nhân dân phải được giao kết bằng văn bản và được lập thành 02 bản, người lao động giữ 01 bản, đơn vị sử dụng lao động giữ 01 bản, trừ trường hợp quy định tại khoản 2 Điều này.\\n2. Doanh nghiệp, đơn vị sự nghiệp công lập tự chủ về tài chính và người lao động có thể giao kết hợp đồng lao động bằng lời nói đối với hợp đồng lao động có thời hạn dưới 01 tháng nhưng không được trái pháp luật, thỏa ước lao động và đạo đức xã hội.\\nĐiều 15. Trình tự tuyển lao động\\n1. Trình tự tuyển lao động hợp đồng tại các doanh nghiệp, đơn vị sự nghiệp công lập tự chủ về tài chính thực hiện theo quy định của pháp luật hiện hành về lao động hợp đồng.\\n2. Trình tự tuyển lao động hợp đồng không xác định thời hạn và xác định thời hạn từ đủ 12 tháng đến 36 tháng hưởng lương ngân sách Nhà nước ở Công an đơn vị, địa phương thực hiện như sau:\\na) Thông báo nhu cầu'),\n",
       " Document(metadata={'name': 'Quyết định 641/QĐ-UBND', 'url': 'https://dulieuphapluat.vn/van-ban/lao-dong-van-ban/quyet-dinh-641qd-ubnd-cua-uy-ban-nhan-dan-tinh-vinh-long-ve-viec-cong-bo-danh-muc-thu-tuc-hanh-chinh-duoc-sua-doi-bo-sung-thu-tuc-hanh-chinh-linh-vuc-bao-tro-xa-hoi-thuoc-pham-vi-chuc-nang-quan-ly-nha-nuoc-cua-so-lao-dong-thuong-binh-va-xa-hoi-tinh-vinh-long-1102707.html'}, page_content='cấp - Dạng tật: ........................................................................................................... - Mức độ khuyết tật: .......................................................................................... 8. Có tham gia làm việc không? □ Không □ Có a) Nếu có thì đang làm gì ……………, thu nhập hàng tháng …………… đồng b) Nếu không thì ghi lý do: ..................................................................................... 9. Tình trạng hôn nhân: .......................................................................................... 10. Khả năng tự phục vụ? ....................................................................................... Tôi xin cam đoan những lời khai trên là đúng sự thực, nếu có điều gì khai không đúng, tôi xin chịu trách nhiệm hoàn toàn. Thông tin người khai thay Giấy CMND hoặc Căn'),\n",
       " Document(metadata={'name': 'Thông tư 22/2022/TT-BCA', 'url': 'https://dulieuphapluat.vn/van-ban/lao-dong-van-ban/thong-tu-222022tt-bca-cua-bo-cong-an-ve-quy-dinh-ve-lao-dong-hop-dong-trong-cong-an-nhan-dan-1100555.html'}, page_content='b) Hợp đồng xác định thời hạn dưới 12 tháng: Là hợp đồng mà trong đó hai bên xác định thời hạn, thời điểm chấm dứt hiệu lực của hợp đồng trong thời gian dưới 12 tháng kể từ thời điểm có hiệu lực của hợp đồng, áp dụng với những công việc mang tính chất mùa vụ hoặc công việc nhất định có thời hạn dưới 12 tháng.\\n3. Khi hợp đồng lao động quy định tại khoản 2 Điều này hết hạn mà Công an đơn vị, địa phương tiếp tục có nhu cầu sử dụng người lao động thì trong thời hạn 30 ngày kể từ ngày hợp đồng lao động hết hạn, hai bên phải ký kết hợp đồng lao động mới, cụ thể như sau:\\na) Trường hợp hợp đồng lao động ký tiếp với người lao động là hợp đồng không xác định thời hạn hưởng lương ngân sách Nhà nước thì Công an đơn vị, địa phương phải căn cứ vào chỉ tiêu lao động hợp đồng được Bộ duyệt trong năm để ký kết hợp đồng lao động mới;\\nb) Trường hợp hợp đồng lao động ký tiếp với người lao động là hợp đồng xác định thời hạn hưởng lương ngân sách Nhà nước thì Công an đơn vị, địa phương căn cứ kế hoạch sử dụng lao động hợp đồng được tập thể thường vụ đảng ủy, lãnh đạo Công an đơn vị, địa phương thông qua và nguồn ngân sách được cấp để chủ động ký kết hợp đồng lao động mới với người lao động và chỉ được ký thêm 01 lần, sau đó nếu tiếp tục có nhu cầu sử dụng người lao động thì phải ký hợp đồng lao động không xác định thời hạn theo chỉ tiêu Bộ duyệt;\\nc) Đối với việc ký kết hợp đồng với người lao động tại các doanh nghiệp, đơn vị sự nghiệp công lập tự chủ về tài chính trong Công an nhân dân do Giám đốc, Thủ trưởng đơn vị căn cứ nhu cầu sản xuất, kinh doanh để chủ động quyết định theo quy định tại Điều 20 Bộ luật Lao động .\\n4. Trường hợp giao kết hợp đồng lao động với người lao động cao tuổi, hai bên được ký kết nhiều lần hợp đồng lao động xác định thời hạn dưới 12 tháng.\\nĐiều 11. Xác định công việc để giao kết hợp đồng lao động\\n1. Đối với lao động hợp đồng hưởng lương ngân sách Nhà nước'),\n",
       " Document(metadata={'name': 'Bản án 04/2022/LĐ-PT', 'url': 'https://dulieuphapluat.vn/van-ban/lao-dong-van-ban/ban-an-ve-tranh-chap-thanh-toan-tien-luong-phu-cap-bao-hiem-xa-hoi-bao-hiem-y-te-so-042022ld-pt-toa-an-nhan-dan-da-nang-1065340.html'}, page_content='NỘI DUNG VỤ ÁN\\nTheo án sơ thẩm, nội dung vụ án như sau:\\n* Đại diện hợp pháp của nguyên đơn trình bày:\\nTôi là Dương Thị D vào làm việc tại Công ty TNHH E theo hợp đồng lao động xác định thời hạn 01 năm kể từ ngày 18/10/2019 đến ngày 18/10/2020; chức vụ thư ký buồng phòng, mức lương theo hợp đồng 4.800.000 đồng/tháng; Tôi ký hợp đồng với công ty nhưng công ty không giao bản hợp đồng cho tôi.\\nNgày 12/02/2020, bộ phận hành chính- nhân sự của công ty có thông báo yêu cầu nhân viên trong công ty thực hiện việc nghỉ phép/nghỉ bù và ngừng việc không lương trong tháng 02/2020, đồng thời công ty sẽ không tham gia Bảo hiểm xã hội trong những ngày nghỉ không lương mặc dù chưa có thỏa thuận bất cứ vấn đề gì có liên quan. Ngày 25/4/2020, tôi đã gửi đơn yêu cầu hòa giải đến Phòng lao động thương binh và xã hội quận N, tuy nhiên không được giải quyết theo luật định. Tính đến nay, công ty vẫn chưa thanh toán cho tôi lương và phụ cấp tháng 02/2020 mặc dù đã quá thời hạn chi trả theo hợp đồng lao động mà hai bên đã ký kết. Trong thời gian buộc tôi phải nghỉ việc công ty cũng không đóng các khoản Bảo hiểm xã hội và Bảo hiểm y tế cho tôi, không thực hiện việc chốt sổ bảo hiểm làm ảnh hưởng nghiêm trọng đến quyền và lợi ích hợp pháp của tôi.\\nĐể đảm bảo quyền và lợi ích hợp pháp của tôi yêu cầu Tòa án giải quyết:\\n- Buộc Công ty TNHH E thanh toán lương và phụ cấp tháng 02/2020 là 5.600.000 đồng; lương tối thiểu vùng các tháng 3, 4, 5, 6, 7, 8, 9, 10/2020 là 3.920.000 đồng/tháng x 8 tháng = 31.360.000 đồng. Tổng cộng: 36.960.000 đồng;\\n- Buộc Công ty TNHH E truy đóng Bảo hiểm xã hội kể từ tháng 02/2020 đến tháng 10/2020. Riêng Bảo hiểm y tế tôi không yêu cầu.\\nĐại diện theo ủy quyền của bị đơn Công ty TNHH E, ông Lê S trình bày:'),\n",
       " Document(metadata={'name': 'Thông tư 22/2022/TT-BCA', 'url': 'https://dulieuphapluat.vn/van-ban/lao-dong-van-ban/thong-tu-222022tt-bca-cua-bo-cong-an-ve-quy-dinh-ve-lao-dong-hop-dong-trong-cong-an-nhan-dan-1100555.html'}, page_content='b) Trong thời gian thử việc, mỗi bên có quyền hủy bỏ hợp đồng thử việc hoặc hợp đồng lao động đã giao kết mà không cần báo trước và không phải bồi thường.\\nĐiều 17. Sửa đổi, bổ sung, chấm dứt hợp đồng lao động\\n1. Việc sửa đổi, bổ sung hợp đồng lao động thực hiện theo quy định tại Điều 33 của Bộ luật Lao động . Trường hợp cần sửa đổi, bổ sung chức danh công việc đối với lao động hợp đồng theo chỉ tiêu Bộ duyệt thì Công an đơn vị, địa phương phải báo cáo Bộ (qua Cục Tổ cổ chức cán bộ); Cục trưởng Cục Tổ chức cán bộ căn cứ định mức sử dụng lao động hợp đồng lao động theo quy định và nhu cầu sử dụng lao động hợp đồng của Công an đơn vị, địa phương để xem xét, quyết định.\\n2. Việc chấm dứt hợp đồng lao động thực hiện theo quy định tại các Điều từ Điều 34 đến Điều 48 Chương III Bộ luật Lao động . Người có thẩm quyền ký kết hợp đồng lao động phải thỏa thuận với người lao động để chấm dứt hợp đồng lao động hưởng lương ngân sách Nhà nước trong các trường hợp sau:\\na) Ký kết hợp đồng lao động với người không bảo đảm tiêu chuẩn quy định tại Điều 7 Thông tư này hoặc không đúng công việc quy định tại Điều 11 Thông tư này ;\\nb) Ký kết hợp đồng lao động vượt số lượng, không đúng loại hợp đồng theo chỉ tiêu được duyệt hoặc vượt quá định mức sử dụng theo quy định.\\n3. Trong trường hợp phải chấm dứt hợp đồng với người lao động theo quy định tại điểm a và điểm b khoản 2 Điều này, cán bộ tham mưu, đề xuất và lãnh đạo có thẩm quyền ký kết hợp đồng với người lao động sẽ bị xem xét, xử lý kỷ luật theo quy định hiện hành của Bộ Công an về xử lý kỷ luật cán bộ, chiến sĩ Công an nhân dân.\\nĐiều 18. Tạm hoãn thực hiện hợp đồng lao động\\n1. Các trường hợp tạm hoãn thực hiện hợp đồng lao động bao gồm:\\na) Người lao động thực hiện nghĩa vụ quân sự, nghĩa vụ tham gia Công an nhân dân, nghĩa vụ tham gia Dân quân tự vệ;'),\n",
       " Document(metadata={'name': 'Quyết định 641/QĐ-UBND', 'url': 'https://dulieuphapluat.vn/van-ban/lao-dong-van-ban/quyet-dinh-641qd-ubnd-cua-uy-ban-nhan-dan-tinh-vinh-long-ve-viec-cong-bo-danh-muc-thu-tuc-hanh-chinh-duoc-sua-doi-bo-sung-thu-tuc-hanh-chinh-linh-vuc-bao-tro-xa-hoi-thuoc-pham-vi-chuc-nang-quan-ly-nha-nuoc-cua-so-lao-dong-thuong-binh-va-xa-hoi-tinh-vinh-long-1102707.html'}, page_content='8. Người có nghĩa vụ và quyền phụng dưỡng (Nếu có, ghi cụ thể họ tên, tuổi, nghề nghiệp, nơi ở, việc làm, thu nhập): ………………………………………… 9. Quá trình hoạt động của bản thân (Không bắt buộc): ........................................ Tôi xin cam đoan những lời khai trên là đúng sự thực, nếu có điều gì khai không đúng, tôi xin chịu trách nhiệm hoàn toàn. Thông tin người khai thay Giấy CMND hoặc Căn cước công dân số:……………………………………… Ngày cấp: …………………………… Nơi cấp: ………………………………… Mối quan hệ với đối tượng: …………… Địa chỉ: ………………………………… Ngày'),\n",
       " Document(metadata={'name': 'Thông tư 22/2022/TT-BCA', 'url': 'https://dulieuphapluat.vn/van-ban/lao-dong-van-ban/thong-tu-222022tt-bca-cua-bo-cong-an-ve-quy-dinh-ve-lao-dong-hop-dong-trong-cong-an-nhan-dan-1100555.html'}, page_content='Điều 11. Xác định công việc để giao kết hợp đồng lao động\\n1. Đối với lao động hợp đồng hưởng lương ngân sách Nhà nước\\na) Ký kết hợp đồng lao động không xác định thời hạn hoặc hợp đồng lao động xác định thời hạn từ đủ 12 tháng đến 36 tháng với người lao động làm các công việc quy định tại các điểm a, b, c, d, đ, e, g, h và i mục 2 Phụ lục ban hành kèm theo Thông tư này;\\nb) Ký kết hợp đồng lao động xác định thời hạn dưới 12 tháng đối với người lao động làm các công việc quy định tại điểm c mục 2 Phụ lục ban hành kèm theo Thông tư này và các công việc sau:\\nNấu ăn phục vụ hội nghị, các lớp huấn luyện, tập huấn, bồi dưỡng nghiệp vụ, chức danh có thời gian dưới 12 tháng; nấu ăn, phục vụ buồng bàn tại các nhà nghỉ dưỡng trong thời gian đông cán bộ, chiến sĩ đi nghỉ; hướng dẫn viên trên các tàu du lịch trong thời gian dưới 12 tháng; diễn viên, ca sĩ, đạo diễn, quay phim, nhạc công, kỹ thuật viên âm thanh, ánh sáng, biên kịch, hóa trang, dựng phim, quảng cáo thực hiện các chương trình văn hóa, văn nghệ của Công an nhân dân có thời gian dưới 12 tháng.\\n2. Đối với lao động hợp đồng tại các doanh nghiệp, đơn vị sự nghiệp công lập tự chủ về tài chính do Giám đốc doanh nghiệp, Thủ trưởng đơn vị căn cứ thời điểm kết thúc công việc để chủ động xác định.\\nĐiều 12. Thẩm quyền ký kết hợp đồng lao động\\n1. Hợp đồng lao động hưởng lương ngân sách Nhà nước tại Công an đơn vị, địa phương do Thủ trưởng Công an đơn vị, địa phương trực tiếp ký kết với người lao động.\\n2. Hợp đồng lao động tại các doanh nghiệp, đơn vị sự nghiệp công lập tự chủ về tài chính do Giám đốc doanh nghiệp, Thủ trưởng đơn vị sự nghiệp công lập trực tiếp ký kết với người lao động.\\nĐiều 13. Nội dung hợp đồng lao động\\n1. Hợp đồng lao động phải có những nội dung chủ yếu theo quy định tại khoản 1 Điều 21 Bộ luật Lao động .'),\n",
       " Document(metadata={'name': 'Quyết định 641/QĐ-UBND', 'url': 'https://dulieuphapluat.vn/van-ban/lao-dong-van-ban/quyet-dinh-641qd-ubnd-cua-uy-ban-nhan-dan-tinh-vinh-long-ve-viec-cong-bo-danh-muc-thu-tuc-hanh-chinh-duoc-sua-doi-bo-sung-thu-tuc-hanh-chinh-linh-vuc-bao-tro-xa-hoi-thuoc-pham-vi-chuc-nang-quan-ly-nha-nuoc-cua-so-lao-dong-thuong-binh-va-xa-hoi-tinh-vinh-long-1102707.html'}, page_content='hội hàng tháng, hưởng chế độ chăm sóc, nuôi dưỡng trong cơ sở bảo trợ xã hội, nhà xã hội không? (Nếu có ghi cụ thể họ tên, lý do, thời gian hưởng):……………………………………............................ Tôi xin cam đoan những lời khai trên là đúng sự thực, nếu có điều gì khai không đúng tôi xin chịu trách nhiệm hoàn toàn. Thông tin người khai thay Giấy CMND hoặc Căn cước công dân số:…………………………………………….. Ngày cấp: ……………………………………. Nơi cấp: ……………………………..……..… Mối quan hệ với đối tượng: ………………… Địa chỉ: ………………………………………. Ngày .... tháng .... năm ...'),\n",
       " Document(metadata={'name': 'Thông tư 22/2022/TT-BCA', 'url': 'https://dulieuphapluat.vn/van-ban/lao-dong-van-ban/thong-tu-222022tt-bca-cua-bo-cong-an-ve-quy-dinh-ve-lao-dong-hop-dong-trong-cong-an-nhan-dan-1100555.html'}, page_content='a) Người lao động thực hiện nghĩa vụ quân sự, nghĩa vụ tham gia Công an nhân dân, nghĩa vụ tham gia Dân quân tự vệ;\\nb) Người lao động bị tạm giữ, tạm giam theo quy định của pháp luật về tố tụng hình sự;\\nc) Lao động nữ mang thai theo quy định tại Điều 138 Bộ luật Lao động ;\\nd) Trường hợp khác do hai bên thỏa thuận.\\n2. Trong thời gian tạm hoãn thực hiện hợp đồng lao động, người lao động không được hưởng lương và quyền, lợi ích đã giao kết trong hợp đồng lao động, trừ trường hợp hai bên có thỏa thuận hoặc pháp luật có quy định khác.\\nChương III\\nQUYỀN LỢI , NGHĨA VỤ CỦA NGƯỜI LAO ĐỘNG; GIẢI QUYẾT TRANH CHẤP LAO ĐỘNG, XỬ LÝ KỶ LUẬT LAO ĐỘNG\\nĐiều 19. Quyền lợi của lao động hợp đồng hưởng lương ngân sách Nhà nước\\n1. Quyền lợi của người lao động khi ký kết hợp đồng lao động không xác định thời hạn hoặc hợp đồng lao động xác định thời hạn từ đủ 12 tháng đến 36 tháng\\na) Được đảm bảo về thời giờ làm việc, thời giờ nghỉ ngơi, an toàn, vệ sinh lao động theo quy định tại các Điều từ Điều 105 đến Điều 116 Chương VII và các Điều từ Điều 132 đến Điều 134 Chương IX Bộ luật Lao động ;\\nTrường hợp công việc mà người lao động đảm nhận phải làm thường xuyên, liên tục nhưng thời gian thực hiện trong ngày ít hơn 08 giờ thì Công an đơn vị, địa phương thỏa thuận, bố trí người lao động kiêm nhiệm thêm công việc khác theo Phụ lục ban hành kèm theo Thông tư này để bảo đảm đủ 08 giờ làm việc/ngày theo quy định của pháp luật;'),\n",
       " Document(metadata={'name': 'Thông tư 22/2022/TT-BCA', 'url': 'https://dulieuphapluat.vn/van-ban/lao-dong-van-ban/thong-tu-222022tt-bca-cua-bo-cong-an-ve-quy-dinh-ve-lao-dong-hop-dong-trong-cong-an-nhan-dan-1100555.html'}, page_content='Điều 8. Điều kiện ký kết hợp đồng lao động\\n1. Đối với doanh nghiệp, đơn vị sự nghiệp công lập tự chủ về tài chính:\\nTrên cơ sở yêu cầu sản xuất, kinh doanh, tính toán số lượng lao động và yêu cầu về trình độ chuyên môn, tay nghề để ký kết hợp đồng lao động với người lao động, nhưng không được trái với các quy định tại Thông tư này và các quy định của pháp luật về hợp đồng lao động.\\n2. Đối với Công an đơn vị, địa phương, việc ký kết hợp đồng với người lao động phải bảo đảm các điều kiện sau:\\na) Đúng số lượng của từng loại hợp đồng lao động được cấp có thẩm quyền duyệt;\\nb) Người lao động bảo đảm các tiêu chuẩn quy định tại Điều 7 Thông tư này và là người trúng tuyển trong đợt tuyển lao động của Công an đơn vị, địa phương theo quy định tại khoản 2 và khoản 3 Điều 15 Thông tư này .\\nĐiều 9. Hồ sơ đăng ký dự tuyển lao động\\n1. Hồ sơ đăng ký dự tuyển lao động của người lao động tại các doanh nghiệp, đơn vị sự nghiệp công lập tự chủ về tài chính trong Công an nhân dân thực hiện theo quy định của Bộ luật Lao động và các quy định của pháp luật về hợp đồng lao động.\\n2. Hồ sơ đăng ký dự tuyển lao động của người lao động hợp đồng hưởng lương ngân sách Nhà nước ở Công an đơn vị, địa phương gồm:\\na) Phiếu đăng ký dự tuyển lao động (theo mẫu ban hành kèm theo Thông tư này) có xác nhận của Công an cấp xã nơi cư trú hoặc của cơ quan, tổ chức nơi người lao động đang làm việc;\\nb) Giấy chứng nhận có đủ sức khỏe để lao động theo kết luận của cơ sở khám, chữa bệnh cấp huyện trở lên;\\nc) Bản sao các văn bằng, chứng chỉ về trình độ học vấn, trình độ chuyên môn kỹ thuật do cơ quan, tổ chức có thẩm quyền cấp (bản sao từ sổ gốc hoặc bản sao có chứng thực hoặc bản sao xuất trình kèm theo bản chính để đối chiếu) theo yêu cầu của công việc cần tuyển;'),\n",
       " Document(metadata={'name': 'Hướng dẫn 33/HD-VKSTC', 'url': 'https://dulieuphapluat.vn/van-ban/lao-dong-van-ban/huong-dan-33hd-vkstc-cua-vien-kiem-sat-nhan-dan-toi-cao-ve-mot-so-noi-dung-co-ban-trong-cong-tac-kiem-sat-viec-giai-quyet-vu-an-tranh-chap-lao-dong-ca-nhan-1098932.html'}, page_content='+ Trên thực tế còn xảy ra trường hợp hợp đồng lao động xác định thời hạn hết hạn nhưng người lao động vẫn tiếp tục làm việc và trong thời hạn 30 ngày, kể từ ngày hợp đồng lao động hết hạn giữa người lao động và người sử dụng lao động chưa ký kết hợp đồng mới. Sau đó, do không thỏa thuận được các nội dung để ký hợp đồng lao động mới nên người sử dụng lao động ra quyết định đơn phương chấm dứt hợp đồng lao động ban đầu vì lý do hết hạn hợp đồng. Người lao động khởi kiện yêu cầu hủy quyết định đơn phương chấm dứt hợp đồng lao động.\\nĐối với vụ án trên, Kiểm sát viên, công chức xác định người sử dụng lao động đơn phương chấm dứt hợp đồng lao động là trái pháp luật vì khi hợp đồng lao động xác định thời hạn hết hạn mà người lao động vẫn tiếp tục làm việc thì trong thời hạn 30 ngày, kể từ ngày hợp đồng lao động xác định thời hạn hết hạn, các bên phải ký kết hợp đồng mới; trong thời gian chưa ký kết hợp đồng mới thì quyền, nghĩa vụ và lợi ích của hai bên được thực hiện theo hợp đồng đã giao kết. Nếu hai bên không thỏa thuận được thì tiếp tục thực hiện hợp đồng đã giao kết hoặc thỏa thuận chấm dứt hợp đồng lao động.\\n- Trường hợp người sử dụng lao động có hành vi, quyết định đơn phương chấm dứt hợp đồng lao động trái pháp luật thì Kiểm sát viên, công chức xem xét nghĩa vụ của người sử dụng lao động phải thực hiện tương tự như nội dung hướng dẫn đối với vụ án tranh chấp xử lý k ỷ luật lao động theo hình thức sa thải đã nêu tại tiểu mục 1.1, mục 1 Phần II của Hướng dẫn này.\\n2.2. Người lao động đơn phương chấm dứt hợp đồng lao động'),\n",
       " Document(metadata={'name': 'Thông tư 22/2022/TT-BCA', 'url': 'https://dulieuphapluat.vn/van-ban/lao-dong-van-ban/thong-tu-222022tt-bca-cua-bo-cong-an-ve-quy-dinh-ve-lao-dong-hop-dong-trong-cong-an-nhan-dan-1100555.html'}, page_content='d) Bản sao các loại giấy tờ có giá trị pháp lý chứng nhận thuộc đối tượng ưu tiên (nếu có);\\n3. Người lao động ký kết hợp đồng lao động xác định thời hạn dưới 12 tháng hưởng lương ngân sách Nhà nước và người lao động tại các doanh nghiệp, đơn vị sự nghiệp công lập tự chủ về tài chính phải có xác nhận của Công an cấp xã nơi cư trú về bản thân không thuộc một trong các trường hợp quy định tại điểm b khoản 5 Điều 7 Thông tư này .\\n4. Người lao động làm việc theo hợp đồng lao động hưởng lương ngân sách Nhà nước chấm dứt hợp đồng ở Công an đơn vị, địa phương này để dự tuyển lao động ở Công an đơn vị, địa phương khác vẫn hưởng lương ngân sách Nhà nước, trong thời hạn 6 tháng kể từ ngày chấm dứt hợp đồng lao động chỉ cần nộp cho nơi đăng ký dự tuyển Phiếu đăng ký dự tuyển và bản nhận xét, đánh giá của Công an đơn vị, địa phương đã làm việc trước đó. Trong thời gian 30 ngày sau khi ký kết hợp đồng, Công an đơn vị, địa phương sử dụng lao động có trách nhiệm liên hệ và tiếp nhận lại toàn bộ hồ sơ, các loại giấy tờ có liên quan đến người lao động ở Công an đơn vị, địa phương cũ theo quy định.\\nChương II\\nHỢP ĐỒNG LAO ĐỘNG VÀ TUYỂN LAO ĐỘNG HỢP ĐỒNG\\nĐiều 10. Loại hợp đồng lao động\\n1. Hợp đồng lao động không xác định thời hạn: Là hợp đồng mà trong đó hai bên không xác định thời hạn, thời điểm chấm dứt hiệu lực của hợp đồng.\\n2. Hợp đồng lao động xác định thời hạn\\na) Hợp đồng xác định thời hạn từ đủ 12 tháng đến 36 tháng: Là hợp đồng mà trong đó hai bên xác định thời hạn, thời điểm chấm dứt hiệu lực của hợp đồng trong thời gian từ đủ 12 tháng đến đủ 36 tháng kể từ thời điểm có hiệu lực của hợp đồng;'),\n",
       " Document(metadata={'name': 'Thông tư 22/2022/TT-BCA', 'url': 'https://dulieuphapluat.vn/van-ban/lao-dong-van-ban/thong-tu-222022tt-bca-cua-bo-cong-an-ve-quy-dinh-ve-lao-dong-hop-dong-trong-cong-an-nhan-dan-1100555.html'}, page_content='2. Chuyển loại hợp đồng lao động là việc chấm dứt hợp đồng lao động xác định thời hạn để giao kết hợp đồng lao động không xác định thời hạn.\\n3. Đơn vị trực tiếp sử dụng người lao động là đơn vị được giao thẩm quyền quản lý, sử dụng người lao động theo hợp đồng lao động đã giao kết.\\n4. Người lao động cao tuổi là người tiếp tục lao động sau độ tuổi theo quy định tại khoản 2 Điều 169 Bộ luật Lao động .\\nĐiều 3. Nguyên tắc tuyển, sử dụng lao động hợp đồng\\n1. Công khai, dân chủ, minh bạch, tuân thủ đúng quy định của pháp luật về lao động; việc tuyển lao động hợp đồng phải đúng đối tượng, tiêu chuẩn, điều kiện, trình tự, thẩm quyền và loại hợp đồng lao động theo quy định tại Thông tư này.\\n2. Thực hiện đầy đủ các chế độ, chính sách đối với người lao động theo quy định của pháp luật và của Bộ Công an.\\nĐiều 4. Kế hoạch tuyển, sử dụng lao động hợp đồng\\n1. Kế hoạch tuyển, sử dụng lao động hợp đồng hưởng lương ngân sách Nhà nước ở Công an đơn vị, địa phương được thực hiện theo trình tự sau:\\na) Trước ngày 30 tháng 10 hằng năm, đơn vị trực tiếp sử dụng người lao động báo cáo nhu cầu tuyển, sử dụng lao động hợp đồng tại đơn vị mình về cơ quan tổ chức cán bộ của Công an đơn vị, địa phương;\\nb) Cơ quan tổ chức cán bộ thẩm định, xin ý kiến tập thể thường vụ đảng ủy và lãnh đạo Công an đơn vị, địa phương trước khi Thủ trưởng Công an đơn vị, địa phương ký văn bản báo cáo về Bộ Công an (qua Cục Tổ chức cán bộ) trước ngày 31 tháng 12 hằng năm;\\nĐối với hợp đồng lao động xác định thời hạn, Công an đơn vị, địa phương căn cứ kế hoạch sử dụng được tập thể thường vụ đảng ủy, lãnh đạo Công an đơn vị, địa phương thông qua và nguồn ngân sách được cấp để chủ động tuyển lao động theo quy định tại Điều 15 Thông tư này ;'),\n",
       " Document(metadata={'name': 'Thông tư 22/2022/TT-BCA', 'url': 'https://dulieuphapluat.vn/van-ban/lao-dong-van-ban/thong-tu-222022tt-bca-cua-bo-cong-an-ve-quy-dinh-ve-lao-dong-hop-dong-trong-cong-an-nhan-dan-1100555.html'}, page_content='Chương IV\\nTỔ CHỨC THỰC HIỆN\\nĐiều 25. Hiệu lực thi hành\\n1. Thông tư này có hiệu lực thi hành kể từ ngày 01 tháng 7 năm 2022. Thông tư số 68/2019/TT-BCA ngày 04 tháng 12 năm 2019 của Bộ Công an quy định về lao động hợp đồng trong Công an nhân dân hết hiệu lực thi hành kể từ ngày Thông tư này có hiệu lực thi hành.\\n2. Kể từ ngày Thông tư này có hiệu lực thi hành, hợp đồng lao động đã giao kết đúng theo các quy định trước đây của Bộ Công an quy định về lao động hợp đồng trong Công an nhân dân được tiếp tục thực hiện. Trường hợp các bên có thỏa thuận về việc sửa đổi, bổ sung để phù hợp và để áp dụng quy định của Thông tư này thì Công an đơn vị, địa phương tổ chức ký kết lại hợp đồng lao động.\\n3. Trường hợp các văn bản quy phạm pháp luật dẫn chiếu để áp dụng trong Thông tư này được sửa đổi, bổ sung hoặc thay thế thì áp dụng theo các văn bản sửa đổi, bổ sung hoặc thay thế.\\nĐiều 26. Trách nhiệm thi hành\\n1. Thủ trưởng Công an đơn vị, địa phương, Giám đốc doanh nghiệp, Thủ trưởng đơn vị sự nghiệp công lập trong Công an nhân dân chịu trách nhiệm thực hiện Thông tư này.\\n2. Cục trưởng Cục Tổ chức cán bộ hướng dẫn, kiểm tra việc thực hiện Thông tư này và hướng dẫn thống nhất các biểu mẫu hồ sơ, báo cáo thống kê phục vụ công tác quản lý, sử dụng lao động hợp đồng trong Công an nhân dân.\\nTrong quá trình thực hiện, nếu có khó khăn, vướng mắc, đề nghị Công an đơn vị, địa phương báo cáo về Bộ Công an (qua Cục Tổ chức cán bộ) để được hướng dẫn, giải quyết./.\\nBắt đầu bảng: \\nNơi nhận: - Các đồng chí Thứ trưởng; - Công an đơn vị, địa phương (để thực hiện); - Công báo; - Lưu: VT, V03, X01(P2), 150. | BỘ TRƯỞNG Đại tướng Tô Lâm\\n Kết thúc bảng.')]"
      ]
     },
     "execution_count": 33,
     "metadata": {},
     "output_type": "execute_result"
    }
   ],
   "source": [
    "sorted_doc"
   ]
  },
  {
   "cell_type": "code",
   "execution_count": 31,
   "metadata": {},
   "outputs": [
    {
     "data": {
      "text/plain": [
       "Counter({'Thông tư 22/2022/TT-BCA': 9,\n",
       "         'Quyết định 641/QĐ-UBND': 3,\n",
       "         'Bản án 04/2022/LĐ-PT': 1,\n",
       "         'Hướng dẫn 33/HD-VKSTC': 1})"
      ]
     },
     "execution_count": 31,
     "metadata": {},
     "output_type": "execute_result"
    }
   ],
   "source": [
    "name_counts"
   ]
  },
  {
   "cell_type": "markdown",
   "metadata": {},
   "source": [
    "# Test full text search"
   ]
  },
  {
   "cell_type": "code",
   "execution_count": null,
   "metadata": {},
   "outputs": [
    {
     "name": "stderr",
     "output_type": "stream",
     "text": [
      "C:\\Users\\Admin\\.cache\\chroma\\onnx_models\\all-MiniLM-L6-v2\\onnx.tar.gz: 100%|██████████| 79.3M/79.3M [17:30<00:00, 79.2kiB/s]   \n"
     ]
    },
    {
     "ename": "InvalidDimensionException",
     "evalue": "Embedding dimension 384 does not match collection dimensionality 768",
     "output_type": "error",
     "traceback": [
      "\u001b[1;31m---------------------------------------------------------------------------\u001b[0m",
      "\u001b[1;31mInvalidDimensionException\u001b[0m                 Traceback (most recent call last)",
      "Cell \u001b[1;32mIn[14], line 1\u001b[0m\n\u001b[1;32m----> 1\u001b[0m collection\u001b[38;5;241m.\u001b[39mquery(\n\u001b[0;32m      2\u001b[0m     query_texts \u001b[38;5;241m=\u001b[39m [\u001b[38;5;124m\"\u001b[39m\u001b[38;5;124mTôi có thể làm gì với hợp đồng lao động?\u001b[39m\u001b[38;5;124m\"\u001b[39m],\n\u001b[0;32m      3\u001b[0m     n_results\u001b[38;5;241m=\u001b[39m\u001b[38;5;241m10\u001b[39m,\n\u001b[0;32m      4\u001b[0m     where_document\u001b[38;5;241m=\u001b[39m{\u001b[38;5;124m\"\u001b[39m\u001b[38;5;124m$contains\u001b[39m\u001b[38;5;124m\"\u001b[39m: \u001b[38;5;124m\"\u001b[39m\u001b[38;5;124mTôi có thể làm gì với hợp đồng lao động?\u001b[39m\u001b[38;5;124m\"\u001b[39m},\n\u001b[0;32m      5\u001b[0m )\n",
      "File \u001b[1;32mc:\\Users\\Admin\\miniconda3\\envs\\master\\Lib\\site-packages\\chromadb\\api\\models\\Collection.py:222\u001b[0m, in \u001b[0;36mCollection.query\u001b[1;34m(self, query_embeddings, query_texts, query_images, query_uris, n_results, where, where_document, include)\u001b[0m\n\u001b[0;32m    188\u001b[0m \u001b[38;5;250m\u001b[39m\u001b[38;5;124;03m\"\"\"Get the n_results nearest neighbor embeddings for provided query_embeddings or query_texts.\u001b[39;00m\n\u001b[0;32m    189\u001b[0m \n\u001b[0;32m    190\u001b[0m \u001b[38;5;124;03mArgs:\u001b[39;00m\n\u001b[1;32m   (...)\u001b[0m\n\u001b[0;32m    208\u001b[0m \n\u001b[0;32m    209\u001b[0m \u001b[38;5;124;03m\"\"\"\u001b[39;00m\n\u001b[0;32m    211\u001b[0m query_request \u001b[38;5;241m=\u001b[39m \u001b[38;5;28mself\u001b[39m\u001b[38;5;241m.\u001b[39m_validate_and_prepare_query_request(\n\u001b[0;32m    212\u001b[0m     query_embeddings\u001b[38;5;241m=\u001b[39mquery_embeddings,\n\u001b[0;32m    213\u001b[0m     query_texts\u001b[38;5;241m=\u001b[39mquery_texts,\n\u001b[1;32m   (...)\u001b[0m\n\u001b[0;32m    219\u001b[0m     include\u001b[38;5;241m=\u001b[39minclude,\n\u001b[0;32m    220\u001b[0m )\n\u001b[1;32m--> 222\u001b[0m query_results \u001b[38;5;241m=\u001b[39m \u001b[38;5;28mself\u001b[39m\u001b[38;5;241m.\u001b[39m_client\u001b[38;5;241m.\u001b[39m_query(\n\u001b[0;32m    223\u001b[0m     collection_id\u001b[38;5;241m=\u001b[39m\u001b[38;5;28mself\u001b[39m\u001b[38;5;241m.\u001b[39mid,\n\u001b[0;32m    224\u001b[0m     query_embeddings\u001b[38;5;241m=\u001b[39mquery_request[\u001b[38;5;124m\"\u001b[39m\u001b[38;5;124membeddings\u001b[39m\u001b[38;5;124m\"\u001b[39m],\n\u001b[0;32m    225\u001b[0m     n_results\u001b[38;5;241m=\u001b[39mquery_request[\u001b[38;5;124m\"\u001b[39m\u001b[38;5;124mn_results\u001b[39m\u001b[38;5;124m\"\u001b[39m],\n\u001b[0;32m    226\u001b[0m     where\u001b[38;5;241m=\u001b[39mquery_request[\u001b[38;5;124m\"\u001b[39m\u001b[38;5;124mwhere\u001b[39m\u001b[38;5;124m\"\u001b[39m],\n\u001b[0;32m    227\u001b[0m     where_document\u001b[38;5;241m=\u001b[39mquery_request[\u001b[38;5;124m\"\u001b[39m\u001b[38;5;124mwhere_document\u001b[39m\u001b[38;5;124m\"\u001b[39m],\n\u001b[0;32m    228\u001b[0m     include\u001b[38;5;241m=\u001b[39mquery_request[\u001b[38;5;124m\"\u001b[39m\u001b[38;5;124minclude\u001b[39m\u001b[38;5;124m\"\u001b[39m],\n\u001b[0;32m    229\u001b[0m     tenant\u001b[38;5;241m=\u001b[39m\u001b[38;5;28mself\u001b[39m\u001b[38;5;241m.\u001b[39mtenant,\n\u001b[0;32m    230\u001b[0m     database\u001b[38;5;241m=\u001b[39m\u001b[38;5;28mself\u001b[39m\u001b[38;5;241m.\u001b[39mdatabase,\n\u001b[0;32m    231\u001b[0m )\n\u001b[0;32m    233\u001b[0m \u001b[38;5;28;01mreturn\u001b[39;00m \u001b[38;5;28mself\u001b[39m\u001b[38;5;241m.\u001b[39m_transform_query_response(\n\u001b[0;32m    234\u001b[0m     response\u001b[38;5;241m=\u001b[39mquery_results, include\u001b[38;5;241m=\u001b[39mquery_request[\u001b[38;5;124m\"\u001b[39m\u001b[38;5;124minclude\u001b[39m\u001b[38;5;124m\"\u001b[39m]\n\u001b[0;32m    235\u001b[0m )\n",
      "File \u001b[1;32mc:\\Users\\Admin\\miniconda3\\envs\\master\\Lib\\site-packages\\chromadb\\telemetry\\opentelemetry\\__init__.py:150\u001b[0m, in \u001b[0;36mtrace_method.<locals>.decorator.<locals>.wrapper\u001b[1;34m(*args, **kwargs)\u001b[0m\n\u001b[0;32m    148\u001b[0m \u001b[38;5;28;01mglobal\u001b[39;00m tracer, granularity\n\u001b[0;32m    149\u001b[0m \u001b[38;5;28;01mif\u001b[39;00m trace_granularity \u001b[38;5;241m<\u001b[39m granularity:\n\u001b[1;32m--> 150\u001b[0m     \u001b[38;5;28;01mreturn\u001b[39;00m f(\u001b[38;5;241m*\u001b[39margs, \u001b[38;5;241m*\u001b[39m\u001b[38;5;241m*\u001b[39mkwargs)\n\u001b[0;32m    151\u001b[0m \u001b[38;5;28;01mif\u001b[39;00m \u001b[38;5;129;01mnot\u001b[39;00m tracer:\n\u001b[0;32m    152\u001b[0m     \u001b[38;5;28;01mreturn\u001b[39;00m f(\u001b[38;5;241m*\u001b[39margs, \u001b[38;5;241m*\u001b[39m\u001b[38;5;241m*\u001b[39mkwargs)\n",
      "File \u001b[1;32mc:\\Users\\Admin\\miniconda3\\envs\\master\\Lib\\site-packages\\tenacity\\__init__.py:336\u001b[0m, in \u001b[0;36mBaseRetrying.wraps.<locals>.wrapped_f\u001b[1;34m(*args, **kw)\u001b[0m\n\u001b[0;32m    334\u001b[0m copy \u001b[38;5;241m=\u001b[39m \u001b[38;5;28mself\u001b[39m\u001b[38;5;241m.\u001b[39mcopy()\n\u001b[0;32m    335\u001b[0m wrapped_f\u001b[38;5;241m.\u001b[39mstatistics \u001b[38;5;241m=\u001b[39m copy\u001b[38;5;241m.\u001b[39mstatistics  \u001b[38;5;66;03m# type: ignore[attr-defined]\u001b[39;00m\n\u001b[1;32m--> 336\u001b[0m \u001b[38;5;28;01mreturn\u001b[39;00m copy(f, \u001b[38;5;241m*\u001b[39margs, \u001b[38;5;241m*\u001b[39m\u001b[38;5;241m*\u001b[39mkw)\n",
      "File \u001b[1;32mc:\\Users\\Admin\\miniconda3\\envs\\master\\Lib\\site-packages\\tenacity\\__init__.py:475\u001b[0m, in \u001b[0;36mRetrying.__call__\u001b[1;34m(self, fn, *args, **kwargs)\u001b[0m\n\u001b[0;32m    473\u001b[0m retry_state \u001b[38;5;241m=\u001b[39m RetryCallState(retry_object\u001b[38;5;241m=\u001b[39m\u001b[38;5;28mself\u001b[39m, fn\u001b[38;5;241m=\u001b[39mfn, args\u001b[38;5;241m=\u001b[39margs, kwargs\u001b[38;5;241m=\u001b[39mkwargs)\n\u001b[0;32m    474\u001b[0m \u001b[38;5;28;01mwhile\u001b[39;00m \u001b[38;5;28;01mTrue\u001b[39;00m:\n\u001b[1;32m--> 475\u001b[0m     do \u001b[38;5;241m=\u001b[39m \u001b[38;5;28mself\u001b[39m\u001b[38;5;241m.\u001b[39miter(retry_state\u001b[38;5;241m=\u001b[39mretry_state)\n\u001b[0;32m    476\u001b[0m     \u001b[38;5;28;01mif\u001b[39;00m \u001b[38;5;28misinstance\u001b[39m(do, DoAttempt):\n\u001b[0;32m    477\u001b[0m         \u001b[38;5;28;01mtry\u001b[39;00m:\n",
      "File \u001b[1;32mc:\\Users\\Admin\\miniconda3\\envs\\master\\Lib\\site-packages\\tenacity\\__init__.py:376\u001b[0m, in \u001b[0;36mBaseRetrying.iter\u001b[1;34m(self, retry_state)\u001b[0m\n\u001b[0;32m    374\u001b[0m result \u001b[38;5;241m=\u001b[39m \u001b[38;5;28;01mNone\u001b[39;00m\n\u001b[0;32m    375\u001b[0m \u001b[38;5;28;01mfor\u001b[39;00m action \u001b[38;5;129;01min\u001b[39;00m \u001b[38;5;28mself\u001b[39m\u001b[38;5;241m.\u001b[39miter_state\u001b[38;5;241m.\u001b[39mactions:\n\u001b[1;32m--> 376\u001b[0m     result \u001b[38;5;241m=\u001b[39m action(retry_state)\n\u001b[0;32m    377\u001b[0m \u001b[38;5;28;01mreturn\u001b[39;00m result\n",
      "File \u001b[1;32mc:\\Users\\Admin\\miniconda3\\envs\\master\\Lib\\site-packages\\tenacity\\__init__.py:398\u001b[0m, in \u001b[0;36mBaseRetrying._post_retry_check_actions.<locals>.<lambda>\u001b[1;34m(rs)\u001b[0m\n\u001b[0;32m    396\u001b[0m \u001b[38;5;28;01mdef\u001b[39;00m\u001b[38;5;250m \u001b[39m\u001b[38;5;21m_post_retry_check_actions\u001b[39m(\u001b[38;5;28mself\u001b[39m, retry_state: \u001b[38;5;124m\"\u001b[39m\u001b[38;5;124mRetryCallState\u001b[39m\u001b[38;5;124m\"\u001b[39m) \u001b[38;5;241m-\u001b[39m\u001b[38;5;241m>\u001b[39m \u001b[38;5;28;01mNone\u001b[39;00m:\n\u001b[0;32m    397\u001b[0m     \u001b[38;5;28;01mif\u001b[39;00m \u001b[38;5;129;01mnot\u001b[39;00m (\u001b[38;5;28mself\u001b[39m\u001b[38;5;241m.\u001b[39miter_state\u001b[38;5;241m.\u001b[39mis_explicit_retry \u001b[38;5;129;01mor\u001b[39;00m \u001b[38;5;28mself\u001b[39m\u001b[38;5;241m.\u001b[39miter_state\u001b[38;5;241m.\u001b[39mretry_run_result):\n\u001b[1;32m--> 398\u001b[0m         \u001b[38;5;28mself\u001b[39m\u001b[38;5;241m.\u001b[39m_add_action_func(\u001b[38;5;28;01mlambda\u001b[39;00m rs: rs\u001b[38;5;241m.\u001b[39moutcome\u001b[38;5;241m.\u001b[39mresult())\n\u001b[0;32m    399\u001b[0m         \u001b[38;5;28;01mreturn\u001b[39;00m\n\u001b[0;32m    401\u001b[0m     \u001b[38;5;28;01mif\u001b[39;00m \u001b[38;5;28mself\u001b[39m\u001b[38;5;241m.\u001b[39mafter \u001b[38;5;129;01mis\u001b[39;00m \u001b[38;5;129;01mnot\u001b[39;00m \u001b[38;5;28;01mNone\u001b[39;00m:\n",
      "File \u001b[1;32mc:\\Users\\Admin\\miniconda3\\envs\\master\\Lib\\concurrent\\futures\\_base.py:449\u001b[0m, in \u001b[0;36mFuture.result\u001b[1;34m(self, timeout)\u001b[0m\n\u001b[0;32m    447\u001b[0m     \u001b[38;5;28;01mraise\u001b[39;00m CancelledError()\n\u001b[0;32m    448\u001b[0m \u001b[38;5;28;01melif\u001b[39;00m \u001b[38;5;28mself\u001b[39m\u001b[38;5;241m.\u001b[39m_state \u001b[38;5;241m==\u001b[39m FINISHED:\n\u001b[1;32m--> 449\u001b[0m     \u001b[38;5;28;01mreturn\u001b[39;00m \u001b[38;5;28mself\u001b[39m\u001b[38;5;241m.\u001b[39m__get_result()\n\u001b[0;32m    451\u001b[0m \u001b[38;5;28mself\u001b[39m\u001b[38;5;241m.\u001b[39m_condition\u001b[38;5;241m.\u001b[39mwait(timeout)\n\u001b[0;32m    453\u001b[0m \u001b[38;5;28;01mif\u001b[39;00m \u001b[38;5;28mself\u001b[39m\u001b[38;5;241m.\u001b[39m_state \u001b[38;5;129;01min\u001b[39;00m [CANCELLED, CANCELLED_AND_NOTIFIED]:\n",
      "File \u001b[1;32mc:\\Users\\Admin\\miniconda3\\envs\\master\\Lib\\concurrent\\futures\\_base.py:401\u001b[0m, in \u001b[0;36mFuture.__get_result\u001b[1;34m(self)\u001b[0m\n\u001b[0;32m    399\u001b[0m \u001b[38;5;28;01mif\u001b[39;00m \u001b[38;5;28mself\u001b[39m\u001b[38;5;241m.\u001b[39m_exception:\n\u001b[0;32m    400\u001b[0m     \u001b[38;5;28;01mtry\u001b[39;00m:\n\u001b[1;32m--> 401\u001b[0m         \u001b[38;5;28;01mraise\u001b[39;00m \u001b[38;5;28mself\u001b[39m\u001b[38;5;241m.\u001b[39m_exception\n\u001b[0;32m    402\u001b[0m     \u001b[38;5;28;01mfinally\u001b[39;00m:\n\u001b[0;32m    403\u001b[0m         \u001b[38;5;66;03m# Break a reference cycle with the exception in self._exception\u001b[39;00m\n\u001b[0;32m    404\u001b[0m         \u001b[38;5;28mself\u001b[39m \u001b[38;5;241m=\u001b[39m \u001b[38;5;28;01mNone\u001b[39;00m\n",
      "File \u001b[1;32mc:\\Users\\Admin\\miniconda3\\envs\\master\\Lib\\site-packages\\tenacity\\__init__.py:478\u001b[0m, in \u001b[0;36mRetrying.__call__\u001b[1;34m(self, fn, *args, **kwargs)\u001b[0m\n\u001b[0;32m    476\u001b[0m \u001b[38;5;28;01mif\u001b[39;00m \u001b[38;5;28misinstance\u001b[39m(do, DoAttempt):\n\u001b[0;32m    477\u001b[0m     \u001b[38;5;28;01mtry\u001b[39;00m:\n\u001b[1;32m--> 478\u001b[0m         result \u001b[38;5;241m=\u001b[39m fn(\u001b[38;5;241m*\u001b[39margs, \u001b[38;5;241m*\u001b[39m\u001b[38;5;241m*\u001b[39mkwargs)\n\u001b[0;32m    479\u001b[0m     \u001b[38;5;28;01mexcept\u001b[39;00m \u001b[38;5;167;01mBaseException\u001b[39;00m:  \u001b[38;5;66;03m# noqa: B902\u001b[39;00m\n\u001b[0;32m    480\u001b[0m         retry_state\u001b[38;5;241m.\u001b[39mset_exception(sys\u001b[38;5;241m.\u001b[39mexc_info())  \u001b[38;5;66;03m# type: ignore[arg-type]\u001b[39;00m\n",
      "File \u001b[1;32mc:\\Users\\Admin\\miniconda3\\envs\\master\\Lib\\site-packages\\chromadb\\api\\segment.py:103\u001b[0m, in \u001b[0;36mrate_limit.<locals>.wrapper\u001b[1;34m(*args, **kwargs)\u001b[0m\n\u001b[0;32m    100\u001b[0m \u001b[38;5;129m@wraps\u001b[39m(func)\n\u001b[0;32m    101\u001b[0m \u001b[38;5;28;01mdef\u001b[39;00m\u001b[38;5;250m \u001b[39m\u001b[38;5;21mwrapper\u001b[39m(\u001b[38;5;241m*\u001b[39margs: Any, \u001b[38;5;241m*\u001b[39m\u001b[38;5;241m*\u001b[39mkwargs: Any) \u001b[38;5;241m-\u001b[39m\u001b[38;5;241m>\u001b[39m Any:\n\u001b[0;32m    102\u001b[0m     \u001b[38;5;28mself\u001b[39m \u001b[38;5;241m=\u001b[39m args[\u001b[38;5;241m0\u001b[39m]\n\u001b[1;32m--> 103\u001b[0m     \u001b[38;5;28;01mreturn\u001b[39;00m \u001b[38;5;28mself\u001b[39m\u001b[38;5;241m.\u001b[39m_rate_limit_enforcer\u001b[38;5;241m.\u001b[39mrate_limit(func)(\u001b[38;5;241m*\u001b[39margs, \u001b[38;5;241m*\u001b[39m\u001b[38;5;241m*\u001b[39mkwargs)\n",
      "File \u001b[1;32mc:\\Users\\Admin\\miniconda3\\envs\\master\\Lib\\site-packages\\chromadb\\rate_limit\\simple_rate_limit\\__init__.py:24\u001b[0m, in \u001b[0;36mSimpleRateLimitEnforcer.rate_limit.<locals>.wrapper\u001b[1;34m(*args, **kwargs)\u001b[0m\n\u001b[0;32m     22\u001b[0m \u001b[38;5;129m@wraps\u001b[39m(func)\n\u001b[0;32m     23\u001b[0m \u001b[38;5;28;01mdef\u001b[39;00m\u001b[38;5;250m \u001b[39m\u001b[38;5;21mwrapper\u001b[39m(\u001b[38;5;241m*\u001b[39margs: Any, \u001b[38;5;241m*\u001b[39m\u001b[38;5;241m*\u001b[39mkwargs: Any) \u001b[38;5;241m-\u001b[39m\u001b[38;5;241m>\u001b[39m Any:\n\u001b[1;32m---> 24\u001b[0m     \u001b[38;5;28;01mreturn\u001b[39;00m func(\u001b[38;5;241m*\u001b[39margs, \u001b[38;5;241m*\u001b[39m\u001b[38;5;241m*\u001b[39mkwargs)\n",
      "File \u001b[1;32mc:\\Users\\Admin\\miniconda3\\envs\\master\\Lib\\site-packages\\chromadb\\api\\segment.py:805\u001b[0m, in \u001b[0;36mSegmentAPI._query\u001b[1;34m(self, collection_id, query_embeddings, n_results, where, where_document, include, tenant, database)\u001b[0m\n\u001b[0;32m    803\u001b[0m scan \u001b[38;5;241m=\u001b[39m \u001b[38;5;28mself\u001b[39m\u001b[38;5;241m.\u001b[39m_scan(collection_id)\n\u001b[0;32m    804\u001b[0m \u001b[38;5;28;01mfor\u001b[39;00m embedding \u001b[38;5;129;01min\u001b[39;00m query_embeddings:\n\u001b[1;32m--> 805\u001b[0m     \u001b[38;5;28mself\u001b[39m\u001b[38;5;241m.\u001b[39m_validate_dimension(scan\u001b[38;5;241m.\u001b[39mcollection, \u001b[38;5;28mlen\u001b[39m(embedding), update\u001b[38;5;241m=\u001b[39m\u001b[38;5;28;01mFalse\u001b[39;00m)\n\u001b[0;32m    807\u001b[0m \u001b[38;5;28mself\u001b[39m\u001b[38;5;241m.\u001b[39m_quota_enforcer\u001b[38;5;241m.\u001b[39menforce(\n\u001b[0;32m    808\u001b[0m     action\u001b[38;5;241m=\u001b[39mAction\u001b[38;5;241m.\u001b[39mQUERY,\n\u001b[0;32m    809\u001b[0m     tenant\u001b[38;5;241m=\u001b[39mtenant,\n\u001b[1;32m   (...)\u001b[0m\n\u001b[0;32m    813\u001b[0m     n_results\u001b[38;5;241m=\u001b[39mn_results,\n\u001b[0;32m    814\u001b[0m )\n\u001b[0;32m    816\u001b[0m \u001b[38;5;28;01mreturn\u001b[39;00m \u001b[38;5;28mself\u001b[39m\u001b[38;5;241m.\u001b[39m_executor\u001b[38;5;241m.\u001b[39mknn(\n\u001b[0;32m    817\u001b[0m     KNNPlan(\n\u001b[0;32m    818\u001b[0m         scan,\n\u001b[1;32m   (...)\u001b[0m\n\u001b[0;32m    828\u001b[0m     )\n\u001b[0;32m    829\u001b[0m )\n",
      "File \u001b[1;32mc:\\Users\\Admin\\miniconda3\\envs\\master\\Lib\\site-packages\\chromadb\\api\\segment.py:896\u001b[0m, in \u001b[0;36mSegmentAPI._validate_dimension\u001b[1;34m(self, collection, dim, update)\u001b[0m\n\u001b[0;32m    894\u001b[0m         collection[\u001b[38;5;124m\"\u001b[39m\u001b[38;5;124mdimension\u001b[39m\u001b[38;5;124m\"\u001b[39m] \u001b[38;5;241m=\u001b[39m dim\n\u001b[0;32m    895\u001b[0m \u001b[38;5;28;01melif\u001b[39;00m collection[\u001b[38;5;124m\"\u001b[39m\u001b[38;5;124mdimension\u001b[39m\u001b[38;5;124m\"\u001b[39m] \u001b[38;5;241m!=\u001b[39m dim:\n\u001b[1;32m--> 896\u001b[0m     \u001b[38;5;28;01mraise\u001b[39;00m InvalidDimensionException(\n\u001b[0;32m    897\u001b[0m         \u001b[38;5;124mf\u001b[39m\u001b[38;5;124m\"\u001b[39m\u001b[38;5;124mEmbedding dimension \u001b[39m\u001b[38;5;132;01m{\u001b[39;00mdim\u001b[38;5;132;01m}\u001b[39;00m\u001b[38;5;124m does not match collection dimensionality \u001b[39m\u001b[38;5;132;01m{\u001b[39;00mcollection[\u001b[38;5;124m'\u001b[39m\u001b[38;5;124mdimension\u001b[39m\u001b[38;5;124m'\u001b[39m]\u001b[38;5;132;01m}\u001b[39;00m\u001b[38;5;124m\"\u001b[39m\n\u001b[0;32m    898\u001b[0m     )\n\u001b[0;32m    899\u001b[0m \u001b[38;5;28;01melse\u001b[39;00m:\n\u001b[0;32m    900\u001b[0m     \u001b[38;5;28;01mreturn\u001b[39;00m\n",
      "\u001b[1;31mInvalidDimensionException\u001b[0m: Embedding dimension 384 does not match collection dimensionality 768"
     ]
    }
   ],
   "source": []
  },
  {
   "cell_type": "markdown",
   "metadata": {},
   "source": [
    "# Create ollama client"
   ]
  },
  {
   "cell_type": "code",
   "execution_count": 30,
   "metadata": {},
   "outputs": [],
   "source": [
    "ollama_api_url = \"https://6efb-34-141-226-213.ngrok-free.app\" # Thay đổi mỗi lần host\n",
    "\n",
    "ollama_client = ollama.Client(\n",
    "    host=ollama_api_url,\n",
    "    headers = {'Header': 'application/json'}\n",
    ")"
   ]
  },
  {
   "cell_type": "code",
   "execution_count": 26,
   "metadata": {},
   "outputs": [],
   "source": [
    "system_prompt = \"Xây dựng chương trình RAG với chatbot trung thực.\\n\" \\\n",
    "\"Tôi có bộ dữ liệu gồm các Lĩnh vực pháp luật Việt Nam bao gồm Bảo Hiểm, Lao Động, Nhà Đất và Tài Chính Ngân Hàng. \" \\\n",
    "\"Trong đó bao bồm các văn bản hành chính của Chính phủ.\\n\"\n",
    "\n",
    "agent_judgment1 = 'Bạn là một agent dùng để đánh giá câu trả lời. ' \\\n",
    "'Với câu hỏi \"{question}\", Bạn có thể trả lời câu hỏi bằng cơ sở dữ liệu của tôi được hay không (trả lời 1 nếu có thể, trả lời 0 nếu không thế).' \\\n",
    "'Trả lời:' \\\n",
    "\n",
    "agent_search_plan = 'Bạn là một agent để dự đoán thông tin cần truy vấn.\\n' \\\n",
    "'Theo bạn để trả lời câu hỏi \"{question}\", thì cần những thông tin gì và đến từ Lĩnh vực nào?\\n' \\\n",
    "'Trả lời tối đa 3 dòng và theo cú pháp \"<linh_vuc>: <thong_tin_can>\", linh_vuc chỉ duy nhất một, 3 câu trả lời cho thể trùng Lĩnh vực nhưng khác nhau thông tin cần.\\n' \\\n",
    "'Trả lời: '\n",
    "\n",
    "agent_judgment2 = 'Bạn là một agent reranking' \\\n",
    "\n",
    "answer_prompt_template = \\\n",
    "    \"\"\"\n",
    "    Bạn là một chuyên gia trả lời câu hỏi về luật về các lĩnh vực bao gồm Bảo Hiểm, Lao Động, Nhà Đất và Tài Chính Ngân Hàng và câu trả lời dựa trên thông tin được cung cấp. Hãy trả lời câu hỏi ngắn gọn và dễ hiểu. Nếu không có thông tin để trả lời câu hỏi, hãy gợi ý câu hỏi khác. Đây là thông tin bạn có được cho câu hỏi này: {context} và chủ đề của câu hỏi {plans}. Dựa vào thông tin có được hãy trả lời câu hỏi sau đây: {question} \\n\n",
    "    Trả lời: \n",
    "    \"\"\"\n",
    "\n"
   ]
  },
  {
   "cell_type": "markdown",
   "metadata": {},
   "source": [
    "### Đặt câu hỏi"
   ]
  },
  {
   "cell_type": "code",
   "execution_count": 36,
   "metadata": {},
   "outputs": [],
   "source": [
    "# question = \"Quần đảo Trường Sa thuộc tỉnh nào?\"\n",
    "question = \"Tôi có thể làm gì với hợp đồng lao động?\""
   ]
  },
  {
   "cell_type": "markdown",
   "metadata": {},
   "source": [
    "Đánh giá khả năng trả lời câu hỏi"
   ]
  },
  {
   "cell_type": "code",
   "execution_count": null,
   "metadata": {},
   "outputs": [],
   "source": [
    "# judment1: Trả lời được hay không\n",
    "response = ollama_client.chat(\n",
    "    model=\"gemma3:12b\",\n",
    "    messages=[{\"role\": \"user\", \"content\": system_prompt + agent_judgment1.format(question=question)}],\n",
    "    stream=False,\n",
    ")\n",
    "\n",
    "print(response.message.content)"
   ]
  },
  {
   "cell_type": "markdown",
   "metadata": {},
   "source": [
    "Lựa chọn thông tin"
   ]
  },
  {
   "cell_type": "code",
   "execution_count": 32,
   "metadata": {},
   "outputs": [
    {
     "name": "stdout",
     "output_type": "stream",
     "text": [
      "Có thể trả lời được\n"
     ]
    }
   ],
   "source": [
    "def parse_judgment(response_text: str) -> int:\n",
    "    for char in response_text.strip():\n",
    "        if char in [\"0\", \"1\"]:\n",
    "            return int(char)\n",
    "    return 0\n",
    "\n",
    "\n",
    "if parse_judgment(response.message.content) == 1:\n",
    "    print(\"Có thể trả lời được\")\n",
    "\n",
    "    response = ollama_client.chat(\n",
    "        model=\"gemma3:12b\",\n",
    "        messages=[\n",
    "            {\n",
    "                \"role\": \"user\",\n",
    "                \"content\": system_prompt + agent_search_plan.format(question=question),\n",
    "            }\n",
    "        ],\n",
    "        stream=False,\n",
    "    )\n",
    "    plans = response.message.content.split(\"\\n\")\n",
    "\n",
    "\n",
    "else:\n",
    "    print(\"Không thể trả lời được\")"
   ]
  },
  {
   "cell_type": "code",
   "execution_count": null,
   "metadata": {},
   "outputs": [],
   "source": [
    "# PROMPT = agent_search_plan.format(question=question)\n",
    "\n",
    "def answer(question, plans):\n",
    "    if isinstance(plans, list):\n",
    "        plans = \", \".join(plans)\n",
    "\n",
    "    # embed the query\n",
    "    query_embed = myembed.embed_query( question + \" \" + plans)\n",
    "    try:\n",
    "        context_list = collection.query(\n",
    "            query_embeddings=query_embed[:768], n_results=5\n",
    "        )[\"documents\"][0]\n",
    "        context = \" \".join(context_list)\n",
    "    except:\n",
    "        try:\n",
    "            context_list = collection.query(\n",
    "                query_embeddings=query_embed[0][:768], n_results=5\n",
    "            )[\"documents\"][0]\n",
    "            context = \" \".join(context_list)\n",
    "        except:\n",
    "            context = \"Không tìm thấy thông tin.\"\n",
    "\n",
    "    answer_prompt = system_prompt + answer_prompt_template.format(\n",
    "        question=question, context=context, plans=plans\n",
    "    )\n",
    "\n",
    "    response = ollama_client.chat(\n",
    "        model=\"gemma3:12b\",\n",
    "        messages=[\n",
    "            {\n",
    "                \"role\": \"user\",\n",
    "                \"content\": answer_prompt,\n",
    "            }\n",
    "        ],\n",
    "        stream=False,\n",
    "    )\n",
    "    return response.message.content"
   ]
  },
  {
   "cell_type": "code",
   "execution_count": null,
   "metadata": {},
   "outputs": [],
   "source": [
    "answer(question, plans)"
   ]
  }
 ],
 "metadata": {
  "kernelspec": {
   "display_name": "master",
   "language": "python",
   "name": "python3"
  },
  "language_info": {
   "codemirror_mode": {
    "name": "ipython",
    "version": 3
   },
   "file_extension": ".py",
   "mimetype": "text/x-python",
   "name": "python",
   "nbconvert_exporter": "python",
   "pygments_lexer": "ipython3",
   "version": "3.12.3"
  }
 },
 "nbformat": 4,
 "nbformat_minor": 2
}
