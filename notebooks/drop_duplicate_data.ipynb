{
 "cells": [
  {
   "cell_type": "code",
   "execution_count": 1,
   "metadata": {},
   "outputs": [
    {
     "name": "stdout",
     "output_type": "stream",
     "text": [
      "c:\\Users\\Admin\\Desktop\\DANG NHI\\repos\\master-llm-rag-vnlaw\n"
     ]
    }
   ],
   "source": [
    "import os, glob, sys\n",
    "while os.getcwd().split('\\\\')[-1] != 'master-llm-rag-vnlaw':\n",
    "    os.chdir('..')\n",
    "    print(os.getcwd())\n",
    "\n",
    "import pandas as pd\n",
    "import numpy as np\n",
    "import regex as re\n",
    "import json\n",
    "import random\n",
    "\n",
    "data_path = \"data/\"\n",
    "\n",
    "files = os.listdir(data_path)"
   ]
  },
  {
   "cell_type": "code",
   "execution_count": 14,
   "metadata": {},
   "outputs": [
    {
     "name": "stdout",
     "output_type": "stream",
     "text": [
      "BaoHiem.json\n",
      "(285, 285)\n",
      "BoMayHanhChinh.json\n",
      "(288, 277)\n",
      "CoCauToChuc.json\n",
      "(289, 280)\n",
      "CongNgheThongTin.json\n",
      "(290, 287)\n",
      "CongNghiep.json\n",
      "(287, 265)\n",
      "DanSu.json\n",
      "(287, 286)\n",
      "DichVuPhapLy.json\n",
      "(290, 285)\n",
      "DoanhNghiep.json\n",
      "(289, 286)\n",
      "GiaoDuc.json\n",
      "(289, 287)\n",
      "GiaoThongVanTai.json\n",
      "(290, 284)\n",
      "LaoDong.json\n",
      "(288, 286)\n",
      "NhaDat.json\n",
      "(290, 285)\n",
      "TaiChinhNganHang.json\n",
      "(288, 279)\n"
     ]
    }
   ],
   "source": [
    "for file in files:\n",
    "    print(file)\n",
    "    with open(data_path + file, 'r', encoding='utf-8') as f:\n",
    "        data = json.load(f)\n",
    "    \n",
    "    new_data = []\n",
    "    url_existed = []\n",
    "    for item in data:\n",
    "        if item['url'] in url_existed:\n",
    "            continue\n",
    "        url_existed.append(item['url'])\n",
    "        new_data.append(item)\n",
    "\n",
    "    print((len(data), len(new_data)))\n",
    "\n",
    "    if len(new_data) == len(data):\n",
    "        continue\n",
    "    else:\n",
    "        with open(data_path + file, 'w', encoding='utf-8') as f:\n",
    "            json.dump(new_data, f, ensure_ascii=False, indent=2)"
   ]
  },
  {
   "cell_type": "code",
   "execution_count": 13,
   "metadata": {},
   "outputs": [
    {
     "name": "stdout",
     "output_type": "stream",
     "text": [
      "(289, 285)\n"
     ]
    }
   ],
   "source": [
    "len(data)\n",
    "\n",
    "\n",
    "new_data = []\n",
    "url_existed = []\n",
    "for item in data:\n",
    "    if item['url'] in url_existed:\n",
    "        continue\n",
    "    url_existed.append(item['url'])\n",
    "    new_data.append(item)\n",
    "\n",
    "print((len(data), len(new_data)))\n",
    "with open(data_path + file, 'w', encoding='utf-8') as f:\n",
    "    json.dump(new_data, f, ensure_ascii=False, indent=2)"
   ]
  }
 ],
 "metadata": {
  "kernelspec": {
   "display_name": "master",
   "language": "python",
   "name": "python3"
  },
  "language_info": {
   "codemirror_mode": {
    "name": "ipython",
    "version": 3
   },
   "file_extension": ".py",
   "mimetype": "text/x-python",
   "name": "python",
   "nbconvert_exporter": "python",
   "pygments_lexer": "ipython3",
   "version": "3.12.3"
  }
 },
 "nbformat": 4,
 "nbformat_minor": 2
}
