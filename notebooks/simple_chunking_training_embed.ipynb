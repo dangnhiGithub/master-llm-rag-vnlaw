{
 "cells": [
  {
   "cell_type": "markdown",
   "metadata": {},
   "source": [
    "# Libs"
   ]
  },
  {
   "cell_type": "code",
   "execution_count": 1,
   "metadata": {},
   "outputs": [
    {
     "name": "stdout",
     "output_type": "stream",
     "text": [
      "d:\\DANG NHI\\repos\\master-llm-rag-vnlaw\n"
     ]
    }
   ],
   "source": [
    "import os, glob, sys\n",
    "while os.getcwd().split('\\\\')[-1] != 'master-llm-rag-vnlaw':\n",
    "    os.chdir('..')\n",
    "    print(os.getcwd())\n",
    "\n",
    "import pandas as pd\n",
    "import numpy as np\n",
    "import regex as re\n",
    "import json\n",
    "import random\n"
   ]
  },
  {
   "cell_type": "code",
   "execution_count": 2,
   "metadata": {},
   "outputs": [],
   "source": [
    "MAX_LEN = 512\n",
    "OVERLAP = 50\n",
    "\n",
    "data_path = \"data/\"\n",
    "base_model = \"FacebookAI/xlm-roberta-base\"\n",
    "\n",
    "files = os.listdir(data_path)\n",
    "data_stored = []"
   ]
  },
  {
   "cell_type": "code",
   "execution_count": 3,
   "metadata": {},
   "outputs": [],
   "source": [
    "import torch\n",
    "from transformers import AutoTokenizer\n",
    "tokenizer = AutoTokenizer.from_pretrained(base_model)"
   ]
  },
  {
   "cell_type": "code",
   "execution_count": 4,
   "metadata": {},
   "outputs": [],
   "source": [
    "# khi split chunking không quá quan tâm đến độ dài\n",
    "# mỗi chunk phải là một đoạn hoặc một câu hoàn chỉnh\n",
    "# nếu là bảng thì phải tách riêng\n",
    "\n",
    "def preprocess_phrase1_chunking(text):\n",
    "    s = text\n",
    "    # s = re.sub('CỘNG HÒA XÃ HỘI CHỦ NGHĨA VIỆT NAM', '', s)\n",
    "    # s = re.sub('Độc lập - Tự do - Hạnh phúc', '', s)\n",
    "    s = re.sub('[- ]+', ' ', s)\n",
    "    s = re.sub('[…]+', '…', s)\n",
    "    s = s.strip()\n",
    "    return s\n",
    "\n",
    "def count_tokens(text):\n",
    "    return len(tokenizer.encode(text))\n",
    "\n",
    "def last_words(text, n=10):\n",
    "    lst = text.split(\" \")[-n:]\n",
    "    return \" \".join(lst)"
   ]
  },
  {
   "cell_type": "markdown",
   "metadata": {},
   "source": [
    "# Simple chunking"
   ]
  },
  {
   "cell_type": "code",
   "execution_count": 5,
   "metadata": {},
   "outputs": [],
   "source": [
    "from langchain_text_splitters import RecursiveCharacterTextSplitter"
   ]
  },
  {
   "cell_type": "code",
   "execution_count": 6,
   "metadata": {},
   "outputs": [],
   "source": [
    "text_splitter = RecursiveCharacterTextSplitter(\n",
    "    # Set a really small chunk size, just to show.\n",
    "    chunk_size=MAX_LEN,\n",
    "    chunk_overlap=OVERLAP,\n",
    "    length_function=count_tokens,\n",
    "    is_separator_regex=False,\n",
    "    separators=[\n",
    "        \"\\n\\n\",\n",
    "        \"\\n\",\n",
    "        \" \",\n",
    "        \".\",\n",
    "        \",\",\n",
    "        \"\\u200b\",  # Zero-width space\n",
    "        \"\\uff0c\",  # Fullwidth comma\n",
    "        \"\\u3001\",  # Ideographic comma\n",
    "        \"\\uff0e\",  # Fullwidth full stop\n",
    "        \"\\u3002\",  # Ideographic full stop\n",
    "        \"\",\n",
    "    ]\n",
    ")"
   ]
  },
  {
   "cell_type": "markdown",
   "metadata": {},
   "source": [
    "### crafting"
   ]
  },
  {
   "cell_type": "code",
   "execution_count": 8,
   "metadata": {},
   "outputs": [
    {
     "name": "stdout",
     "output_type": "stream",
     "text": [
      "BaoHiem.json\n",
      "('Nghị quyết 06/2024/NQ-HĐND', 65)\n"
     ]
    }
   ],
   "source": [
    "for file in files:\n",
    "    print(file)\n",
    "    with open(data_path + file, 'r', encoding='utf-8') as f:\n",
    "        data = json.load(f)\n",
    "    for i, item in enumerate(data):\n",
    "        name = item['name']\n",
    "        print((name, len(item['content'])))\n",
    "        content = item['content']\n",
    "        break\n",
    "    break"
   ]
  },
  {
   "cell_type": "code",
   "execution_count": 9,
   "metadata": {},
   "outputs": [],
   "source": [
    "content = \"\\n\".join(content)"
   ]
  },
  {
   "cell_type": "code",
   "execution_count": 10,
   "metadata": {},
   "outputs": [],
   "source": [
    "chunks = text_splitter.split_text(content)"
   ]
  },
  {
   "cell_type": "code",
   "execution_count": 11,
   "metadata": {},
   "outputs": [
    {
     "name": "stdout",
     "output_type": "stream",
     "text": [
      "HỘI ĐỒNG NHÂN DÂN TỈNH KHÁNH HÒA \n",
      " Số: 06/2024/NQ-HĐND \n",
      " Khánh Hòa, ngày 12 tháng 7 năm 2024\n",
      "NGHỊ QUYẾT\n",
      "VỀ VIỆC BAN HÀNH MỨC GIÁ DỊCH VỤ KHÁM BỆNH, CHỮA BỆNH KHÔNG THUỘC PHẠM VI THANH TOÁN CỦA QUỸ BẢO HIỂM Y TẾ MÀ KHÔNG PHẢI LÀ DỊCH VỤ KHÁM BỆNH, CHỮA BỆNH THEO YÊU CẦU TẠI CÁC CƠ SỞ KHÁM BỆNH, CHỮA BỆNH CỦA NHÀ NƯỚC TRÊN ĐỊA BÀN TỈNH KHÁNH HÒA\n",
      "HỘI ĐỒNG NHÂN DÂN TỈNH KHÁNH HÒA KHÓA VII, KỲ HỌP THỨ 14\n",
      "Căn cứ Luật Tổ chức chính quyền địa phương ngày 19 tháng 6 năm 2015;\n",
      "Căn cứ Luật sửa đổi, bổ sung một số điều của Luật Tổ chức Chính phủ và Luật tổ chức chính quyền địa phương ngày 22 tháng 11 năm 2019;\n",
      "Căn cứ Luật Ban hành văn bản quy phạm pháp luật ngày 22 tháng 06 năm 2015 ;\n",
      "Căn cứ Luật sửa đổi, bổ sung một số điều của Luật Ban hành văn bản quy phạm pháp luật ngày 18 tháng 6 năm 2020;\n",
      "Căn cứ Luật Khám bệnh, chữa bệnh ngày 09 tháng 01 năm 2023;\n",
      "Căn cứ Luật Giá ngày 20 tháng 06 năm 2012 ;\n",
      "Căn cứ Nghị định số 177/2013/NĐ-CP ngày 14 tháng 11 năm 2013 của Chính phủ quy định chi tiết và hướng dẫn thi hành một số điều của Luật Giá;\n",
      "Căn cứ Nghị định số 149/2016/NĐ-CP ngày 11 tháng 11 năm 2016 của Chính phủ sửa đổi, bổ sung một số điều của Nghị định số 177/2013/NĐ-CP ngày 14 tháng 11 năm 2013 của Chính phủ quy định chi tiết và hướng dẫn thi hành một số điều của Luật Giá;\n"
     ]
    }
   ],
   "source": [
    "print(chunks[0])"
   ]
  },
  {
   "cell_type": "code",
   "execution_count": 12,
   "metadata": {},
   "outputs": [
    {
     "name": "stdout",
     "output_type": "stream",
     "text": [
      "Căn cứ Thông tư số 21/2023/TT-BYT ngày 17 tháng 11 năm 2023 của Bộ trưởng Bộ Y tế quy định khung giá dịch vụ khám bệnh, chữa bệnh của Nhà nước và hướng dẫn áp dụng giá, thanh toán chi phí khám bệnh, chữa bệnh trong một số trường hợp;\n",
      "Xét Tờ trình số 5582/TTr-UBND ngày 27 tháng 5 năm 2024 của Ủy ban nhân dân tỉnh; Báo cáo thẩm tra số 92/BC-BHXH ngày 04 tháng 7 năm 2024 của Ban Văn hóa - Xã hội Hội đồng nhân dân tỉnh; tiếp thu giải trình của Ủy ban nhân dân tỉnh tại Báo cáo số 216/BC-UBND ngày 08 tháng 7 năm 2024 và ý kiến thảo luận của đại biểu Hội đồng nhân dân tại kỳ họp.\n",
      "QUYẾT NGHỊ:\n",
      "Điều 1. Ban hành kèm theo Nghị quyết này quy định mức giá dịch vụ khám bệnh, chữa bệnh không thuộc phạm vi thanh toán của Quỹ bảo hiểm y tế mà không phải là dịch vụ khám bệnh, chữa bệnh theo yêu cầu tại các cơ sở khám bệnh, chữa bệnh của Nhà nước trên địa bàn tỉnh Khánh Hòa như sau:\n",
      "1. Phạm vi điều chỉnh và đối tượng áp dụng\n",
      "a) Phạm vi điều chỉnh: Nghị quyết này quy định mức giá dịch vụ khám bệnh, chữa bệnh không thuộc phạm vi thanh toán của Quỹ bảo hiểm y tế mà không phải là dịch vụ khám bệnh, chữa bệnh theo yêu cầu tại các cơ sở khám bệnh, chữa bệnh của Nhà nước trên địa bàn tỉnh Khánh Hòa.\n",
      "b) Đối tượng áp dụng:\n",
      "- Các cơ sở khám bệnh, chữa bệnh của Nhà nước trên địa bàn tỉnh Khánh Hòa;\n",
      "- Người bệnh chưa tham gia bảo hiểm y tế; người bệnh có thẻ bảo hiểm y tế nhưng đi khám bệnh, chữa bệnh hoặc sử dụng các dịch vụ khám bệnh, chữa bệnh không thuộc phạm vi thanh toán của Quỹ bảo hiểm y tế; các cơ quan, tổ chức, cá nhân khác có liên quan.\n",
      "2. Mức giá dịch vụ khám bệnh, chữa bệnh, bao gồm:\n",
      "a) Giá dịch vụ khám bệnh, kiểm tra sức khỏe (tại Phụ lục I kèm theo);\n",
      "b) Giá dịch vụ ngày giường điều trị (tại Phụ lục II kèm theo);\n"
     ]
    }
   ],
   "source": [
    "print(chunks[1])"
   ]
  },
  {
   "cell_type": "code",
   "execution_count": 13,
   "metadata": {},
   "outputs": [
    {
     "name": "stdout",
     "output_type": "stream",
     "text": [
      "a) Giá dịch vụ khám bệnh, kiểm tra sức khỏe (tại Phụ lục I kèm theo);\n",
      "b) Giá dịch vụ ngày giường điều trị (tại Phụ lục II kèm theo);\n",
      "c) Giá dịch vụ kỹ thuật, xét nghiệm (tại Phụ lục III kèm theo);\n",
      "Điều 2. Tổ chức thực hiện\n",
      "1. Giao Ủy ban nhân dân tỉnh tổ chức triển khai thực hiện Nghị quyết này theo đúng quy định của pháp luật.\n",
      "2. Giao Thường trực Hội đồng nhân dân tỉnh, các Ban Hội đồng nhân dân tỉnh, các Tổ đại biểu Hội đồng nhân dân tỉnh và các đại biểu Hội đồng nhân dân tỉnh giám sát việc thực hiện Nghị quyết này.\n",
      "3. Nghị quyết này thay thế Nghị quyết số 09/2019/NQ-HĐND ngày 11 tháng 12 năm 2019 của Hội đồng nhân dân tỉnh Khánh Hòa về việc ban hành mức giá dịch vụ khám bệnh, chữa bệnh không thuộc phạm vi thanh toán của Quỹ bảo hiểm y tế trong các cơ sở khám bệnh, chữa bệnh của Nhà nước trên địa bàn tỉnh Khánh Hòa.\n",
      "Nghị quyết này đã được Hội đồng nhân dân tỉnh Khánh Hoà Khoá VII, Kỳ họp thứ 14 thông qua ngày 12 tháng 7 năm 2024 và có hiệu lực từ ngày 22 tháng 7 năm 2024.\n",
      "Điều 3. Quy định chuyển tiếp\n",
      "Đối với người bệnh đang điều trị tại cơ sở khám bệnh, chữa bệnh trước thời điểm Nghị quyết này có hiệu lực và ra viện hoặc kết thúc đợt điều trị ngoại trú sau thời điểm Nghị quyết này có hiệu lực thì tiếp tục được áp dụng mức giá quy định tại Nghị quyết số 09/2019/NQ-HĐND ngày 11/12/2019 của Hội đồng nhân dân tỉnh Khánh Hòa về việc ban hành mức giá dịch vụ khám bệnh, chữa bệnh không thuộc phạm vi thanh toán của Quỹ bảo hiểm y tế trong các cơ sở khám bệnh, chữa bệnh của Nhà nước trên địa bàn tỉnh Khánh Hòa cho đến khi ra viện hoặc kết thúc đợt điều trị ngoại trú./.\n",
      "Bắt đầu bảng:\n"
     ]
    }
   ],
   "source": [
    "print(chunks[2])"
   ]
  },
  {
   "cell_type": "markdown",
   "metadata": {},
   "source": [
    "### final run all"
   ]
  },
  {
   "cell_type": "code",
   "execution_count": 8,
   "metadata": {},
   "outputs": [
    {
     "name": "stdout",
     "output_type": "stream",
     "text": [
      "BaoHiem.json\n",
      "('Nghị quyết 06/2024/NQ-HĐND', 65)\n",
      "('Nghị quyết 05/2024/NQ-HĐND', 22)\n",
      "('Nghị quyết 26/2024/NQ-HĐND', 68)\n"
     ]
    },
    {
     "name": "stderr",
     "output_type": "stream",
     "text": [
      "Token indices sequence length is longer than the specified maximum sequence length for this model (958 > 512). Running this sequence through the model will result in indexing errors\n"
     ]
    },
    {
     "name": "stdout",
     "output_type": "stream",
     "text": [
      "('Văn bản hợp nhất 3305/VBHN-BLĐTBXH', 934)\n",
      "('Công văn 5652/BHXH-KHTC', 11)\n",
      "('Công văn 2646/BHXH-TCKT', 19)\n",
      "('Công văn 2699/BHXH-VP', 12)\n",
      "('2840/QCPH-BHXH-HNCT', 73)\n",
      "('Thông báo 703/TB-BHXH', 7)\n",
      "('Quyết định 1603/QĐ-BHXH', 226)\n",
      "('Nghị quyết 02/2024/NQ-HĐND', 45)\n",
      "BoMayHanhChinh.json\n",
      "('Quyết định 770/QĐ-UBND', 25)\n",
      "('Quyết định 1017/QĐ-UBND', 21)\n",
      "('Kế hoạch 91/KH-UBND', 57)\n",
      "('Quyết định 774/QĐ-UBND', 24)\n",
      "('Quyết định 519/QĐ-UBND', 21)\n",
      "('Quyết định 1016/QĐ-UBND', 21)\n",
      "('Quyết định 533/QĐ-BGTVT', 116)\n",
      "('Quyết định 856/QĐ-BKHCN', 70)\n",
      "('Quyết định 09/2024/QĐ-UBND', 30)\n",
      "('Công văn 947/QLD-ĐK', 10)\n",
      "('Quyết định 527/QĐ-UBND', 27)\n",
      "CoCauToChuc.json\n",
      "('Quyết định 08/2023/QĐ-UBND', 175)\n",
      "('Nghị định 11/2023/NĐ-CP', 113)\n",
      "('Quyết định 20/2023/QĐ-UBND', 152)\n",
      "('Quyết định 06/2023/QĐ-UBND', 158)\n",
      "('Quyết định 09/2023/QĐ-UBND', 16)\n",
      "('Kế hoạch 71/KH-UBND', 47)\n",
      "('Quyết định 1586/QĐ-BNN-TCCB', 112)\n",
      "('Quyết định 1589/QĐ-BNN-TCCB', 108)\n",
      "('Quyết định 1588/QĐ-BNN-TCCB', 138)\n",
      "('Quyết định 16/2023/QĐ-UBND', 95)\n",
      "('Quyết định 07/2023/QĐ-UBND', 146)\n",
      "CongNgheThongTin.json\n",
      "('Quyết định 22/2024/QĐ-UBND', 342)\n",
      "('Quyết định 1109/QĐ-BGTVT', 211)\n",
      "('Quyết định 1176/QĐ-UBND', 34)\n",
      "('Quyết định 1837/QĐ-UBND', 28)\n",
      "('Nghị định 111/2024/NĐ-CP', 145)\n",
      "('Quyết định 1639/QĐ-UBND', 22)\n",
      "('Công văn 6332/VPCP-KSTT', 7)\n",
      "('Quyết định 3609/QĐ-UBND', 25)\n",
      "('Quyết định 37/2024/QĐ-UBND', 164)\n",
      "('Quyết định 38/2024/QĐ-UBND', 233)\n",
      "('Công văn 3821/TCT-KTNB', 10)\n",
      "CongNghiep.json\n",
      "('Quy chuẩn QCVN12-18:2023/BCT', 291)\n",
      "('Quy chuẩn QCVN21:2023/BCT', 422)\n",
      "('Quy chuẩn QCVN12-17:2023/BCT', 279)\n",
      "('Quy chuẩn QCVN12-19:2023/BCT', 180)\n",
      "('Quy chuẩn QCVN12-21:2023/BCT', 180)\n",
      "('Quy chuẩn QCVN12-22:2023/BCT', 181)\n",
      "('Quy chuẩn QCVN12-15:2023/BCT', 138)\n",
      "('Quy chuẩn QCVN12-20:2023/BCT', 179)\n",
      "('Quy chuẩn QCVN12-14:2023/BCT', 205)\n",
      "('Quy chuẩn QCVN12-16:2023/BCT', 171)\n",
      "('Quyết định 142/QĐ-UBQLV', 44)\n",
      "DanSu.json\n",
      "('Bản án 390/2022/DS-PT', 117)\n",
      "('Bản án 144/2022/DS-PT', 59)\n",
      "('Bản án 391/2022/DS-PT', 147)\n",
      "('Bản án 109/2022/DS-PT', 53)\n",
      "('Bản án 116/2022/DS-PT', 88)\n",
      "('Bản án 118/2022/DS-PT', 109)\n",
      "('Bản án 21/2022/DS-PT', 43)\n",
      "('Bản án 122/2022/DS-PT', 76)\n",
      "('Án lệ 56/2022/AL', 49)\n",
      "('Quyết định 17/QĐ-TTg', 150)\n",
      "('Bản án 15/2022/DS-ST', 132)\n",
      "data_stored.json\n"
     ]
    },
    {
     "ename": "TypeError",
     "evalue": "list indices must be integers or slices, not str",
     "output_type": "error",
     "traceback": [
      "\u001b[1;31m---------------------------------------------------------------------------\u001b[0m",
      "\u001b[1;31mTypeError\u001b[0m                                 Traceback (most recent call last)",
      "Cell \u001b[1;32mIn[8], line 11\u001b[0m\n\u001b[0;32m      8\u001b[0m     data \u001b[38;5;241m=\u001b[39m json\u001b[38;5;241m.\u001b[39mload(f)\n\u001b[0;32m     10\u001b[0m \u001b[38;5;28;01mfor\u001b[39;00m i, item \u001b[38;5;129;01min\u001b[39;00m \u001b[38;5;28menumerate\u001b[39m(data):\n\u001b[1;32m---> 11\u001b[0m     name \u001b[38;5;241m=\u001b[39m \u001b[43mitem\u001b[49m\u001b[43m[\u001b[49m\u001b[38;5;124;43m'\u001b[39;49m\u001b[38;5;124;43mname\u001b[39;49m\u001b[38;5;124;43m'\u001b[39;49m\u001b[43m]\u001b[49m\n\u001b[0;32m     12\u001b[0m     \u001b[38;5;28mprint\u001b[39m((name, \u001b[38;5;28mlen\u001b[39m(item[\u001b[38;5;124m'\u001b[39m\u001b[38;5;124mcontent\u001b[39m\u001b[38;5;124m'\u001b[39m])))\n\u001b[0;32m     13\u001b[0m     content \u001b[38;5;241m=\u001b[39m item[\u001b[38;5;124m'\u001b[39m\u001b[38;5;124mcontent\u001b[39m\u001b[38;5;124m'\u001b[39m]\n",
      "\u001b[1;31mTypeError\u001b[0m: list indices must be integers or slices, not str"
     ]
    }
   ],
   "source": [
    "data_stored = []\n",
    "\n",
    "for file in files:\n",
    "    print(file)\n",
    "    field = []\n",
    "\n",
    "    with open(data_path + file, 'r', encoding='utf-8') as f:\n",
    "        data = json.load(f)\n",
    "\n",
    "    for i, item in enumerate(data):\n",
    "        name = item['name']\n",
    "        print((name, len(item['content'])))\n",
    "        content = item['content']\n",
    "        content = \"\\n\".join(content)\n",
    "        chunks = text_splitter.split_text(content)\n",
    "        field.append(chunks)\n",
    "        if i == 10:\n",
    "            break\n",
    "        \n",
    "    data_stored.append(field)"
   ]
  },
  {
   "cell_type": "markdown",
   "metadata": {},
   "source": [
    "# Pairing"
   ]
  },
  {
   "cell_type": "code",
   "execution_count": null,
   "metadata": {},
   "outputs": [],
   "source": [
    "def get_very_positive_pairs_chunks(data_stored, max_pairs= 500000):\n",
    "    pairs = []\n",
    "    for i in range(len(data_stored)):\n",
    "        for j in range(len(data_stored[i])):\n",
    "            chunks = data_stored[i][j]\n",
    "            for k in range(len(chunks)):\n",
    "                for l in range(k+1, len(chunks)):\n",
    "                    pairs.append(((i,j,k), (i,j,l), 0.98))\n",
    "    return random.sample(pairs, k=min(max_pairs, len(pairs)))\n",
    "\n",
    "def get_low_positive_pairs_chunks(data_stored):\n",
    "    pairs = []\n",
    "    for i in range(len(data_stored)):\n",
    "        l = len(data_stored[i])\n",
    "        for j in range(l):\n",
    "            for k in range(j+1, l):\n",
    "                a = random.randrange(len(data_stored[i][j]))\n",
    "                b = random.randrange(len(data_stored[i][k]))\n",
    "                pairs.append(((i, j, a) , (i,k,b), 0.6))\n",
    "    return pairs\n",
    "\n",
    "def get_negative_pairs(data_stored, mean_per_field_pair=6746):\n",
    "    pairs = []\n",
    "    l = len(data_stored)\n",
    "    for i in range(l):\n",
    "        for j in range(i+1, l):\n",
    "            indices1 = [(i, a, b) for a in range(len(data_stored[i])) for b in range(len(data_stored[i][a]))]\n",
    "            indices2 = [(j, a, b) for a in range(len(data_stored[j])) for b in range(len(data_stored[j][a]))]\n",
    "\n",
    "            a = np.random.choice(len(indices1), mean_per_field_pair)\n",
    "            b = np.random.choice(len(indices2), mean_per_field_pair)\n",
    "\n",
    "            for x, y in zip(a, b):\n",
    "                pairs.append((indices1[x], indices2[y], 0))\n",
    "    return pairs"
   ]
  },
  {
   "cell_type": "code",
   "execution_count": 12,
   "metadata": {},
   "outputs": [
    {
     "data": {
      "text/plain": [
       "330"
      ]
     },
     "execution_count": 12,
     "metadata": {},
     "output_type": "execute_result"
    }
   ],
   "source": [
    "pairs_doc = 0\n",
    "for i in range(len(data_stored)):\n",
    "    l = len(data_stored[i])\n",
    "    pairs_doc += (l*(l-1))//2\n",
    "pairs_doc"
   ]
  },
  {
   "cell_type": "code",
   "execution_count": 13,
   "metadata": {},
   "outputs": [
    {
     "data": {
      "text/plain": [
       "157547"
      ]
     },
     "execution_count": 13,
     "metadata": {},
     "output_type": "execute_result"
    }
   ],
   "source": [
    "very_positive_pairs = get_very_positive_pairs_chunks(data_stored)\n",
    "len(very_positive_pairs)"
   ]
  },
  {
   "cell_type": "code",
   "execution_count": 14,
   "metadata": {},
   "outputs": [
    {
     "data": {
      "text/plain": [
       "330"
      ]
     },
     "execution_count": 14,
     "metadata": {},
     "output_type": "execute_result"
    }
   ],
   "source": [
    "low_positive_pairs = get_low_positive_pairs_chunks(data_stored)\n",
    "len(low_positive_pairs)"
   ]
  },
  {
   "cell_type": "code",
   "execution_count": 15,
   "metadata": {},
   "outputs": [
    {
     "data": {
      "text/plain": [
       "22"
      ]
     },
     "execution_count": 15,
     "metadata": {},
     "output_type": "execute_result"
    }
   ],
   "source": [
    "l = len(data_stored)\n",
    "pairs_field = (l*(l-1))//2\n",
    "\n",
    "mean_per_field_pair = len(low_positive_pairs) // pairs_field\n",
    "mean_per_field_pair"
   ]
  },
  {
   "cell_type": "code",
   "execution_count": 17,
   "metadata": {},
   "outputs": [
    {
     "data": {
      "text/plain": [
       "330"
      ]
     },
     "execution_count": 17,
     "metadata": {},
     "output_type": "execute_result"
    }
   ],
   "source": [
    "negative_pairs = get_negative_pairs(data_stored, mean_per_field_pair)\n",
    "len(negative_pairs)"
   ]
  },
  {
   "cell_type": "markdown",
   "metadata": {},
   "source": [
    "# Training"
   ]
  },
  {
   "cell_type": "code",
   "execution_count": 18,
   "metadata": {},
   "outputs": [
    {
     "name": "stderr",
     "output_type": "stream",
     "text": [
      "Some weights of the model checkpoint at FacebookAI/xlm-roberta-base were not used when initializing XLMRobertaModel: ['lm_head.dense.bias', 'lm_head.layer_norm.weight', 'lm_head.decoder.weight', 'lm_head.dense.weight', 'lm_head.layer_norm.bias', 'lm_head.bias']\n",
      "- This IS expected if you are initializing XLMRobertaModel from the checkpoint of a model trained on another task or with another architecture (e.g. initializing a BertForSequenceClassification model from a BertForPreTraining model).\n",
      "- This IS NOT expected if you are initializing XLMRobertaModel from the checkpoint of a model that you expect to be exactly identical (initializing a BertForSequenceClassification model from a BertForSequenceClassification model).\n"
     ]
    }
   ],
   "source": [
    "from tqdm.auto import tqdm\n",
    "from transformers import get_scheduler\n",
    "from transformers import AutoModel\n",
    "model = AutoModel.from_pretrained(base_model)"
   ]
  },
  {
   "cell_type": "code",
   "execution_count": 23,
   "metadata": {},
   "outputs": [],
   "source": [
    "from torch.utils.data import DataLoader, Dataset\n",
    "\n",
    "class CustomDataset(Dataset):\n",
    "    def __init__(self, pairs):\n",
    "        self.pairs = pairs\n",
    "    def __len__(self):\n",
    "        return len(self.pairs)\n",
    "    def __getitem__(self, idx):\n",
    "        pair = self.pairs[idx]\n",
    "        (i,j,k), (x,y,z), score = self.pairs[idx]\n",
    "        sentence1 = data_stored[i][j][k]\n",
    "        sentence2 = data_stored[x][y][z]\n",
    "\n",
    "        token1 = tokenizer(sentence1, truncation=True, padding='max_length', max_length=MAX_LEN, return_tensors='pt')\n",
    "        token2 = tokenizer(sentence2, truncation=True, padding='max_length', max_length=MAX_LEN, return_tensors='pt')\n",
    "\n",
    "        return token1, token2, score"
   ]
  },
  {
   "cell_type": "code",
   "execution_count": null,
   "metadata": {},
   "outputs": [],
   "source": [
    "dataset = CustomDataset(very_positive_pairs + low_positive_pairs + negative_pairs)\n",
    "dataloader = DataLoader(dataset, batch_size=10, shuffle=True)"
   ]
  },
  {
   "cell_type": "code",
   "execution_count": 30,
   "metadata": {},
   "outputs": [],
   "source": [
    "for batch in dataloader:\n",
    "    token1, token2, score = batch\n",
    "    break"
   ]
  },
  {
   "cell_type": "code",
   "execution_count": 33,
   "metadata": {},
   "outputs": [
    {
     "data": {
      "text/plain": [
       "torch.Size([100, 1, 512])"
      ]
     },
     "execution_count": 33,
     "metadata": {},
     "output_type": "execute_result"
    }
   ],
   "source": [
    "token1['attention_mask'].shape"
   ]
  },
  {
   "cell_type": "code",
   "execution_count": null,
   "metadata": {},
   "outputs": [],
   "source": [
    "import torch\n",
    "device = torch.device(\"cuda\") if torch.cuda.is_available() else torch.device(\"cpu\")\n",
    "model.to(device)\n",
    "\n",
    "optimizer = torch.optim.AdamW(model.parameters(), lr=1e-5)\n",
    "# loss_function = torch.nn.CosineEmbeddingLoss()\n",
    "loss_function = torch.nn.MSELoss()"
   ]
  },
  {
   "cell_type": "code",
   "execution_count": null,
   "metadata": {},
   "outputs": [],
   "source": [
    "for batch in dataloader:\n",
    "    token1, token2, score = batch\n",
    "    # outputs1 = model(token1['input_ids'].squeeze(1).to(device), token1['attention_mask'].squeeze(1).to(device))\n",
    "    # outputs2 = model(token2['input_ids'].squeeze(1).to(device), token2['attention_mask'].squeeze(1).to(device))\n",
    "    outputs1 = model(token1['input_ids'].squeeze(1).to(device))\n",
    "    outputs2 = model(token2['input_ids'].squeeze(1).to(device))\n",
    "    similarity = torch.cosine_similarity(outputs1.pooler_output, outputs2.pooler_output)\n",
    "    loss = loss_function(similarity, score.float().to(device))\n",
    "\n",
    "    print(loss.item(), score.numpy())\n",
    "    loss.backward()\n",
    "    optimizer.step()\n"
   ]
  },
  {
   "cell_type": "code",
   "execution_count": null,
   "metadata": {},
   "outputs": [],
   "source": []
  }
 ],
 "metadata": {
  "kernelspec": {
   "display_name": "master",
   "language": "python",
   "name": "python3"
  },
  "language_info": {
   "codemirror_mode": {
    "name": "ipython",
    "version": 3
   },
   "file_extension": ".py",
   "mimetype": "text/x-python",
   "name": "python",
   "nbconvert_exporter": "python",
   "pygments_lexer": "ipython3",
   "version": "3.12.3"
  }
 },
 "nbformat": 4,
 "nbformat_minor": 2
}
