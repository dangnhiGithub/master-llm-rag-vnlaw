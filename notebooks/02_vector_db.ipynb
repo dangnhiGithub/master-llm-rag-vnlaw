{
 "cells": [
  {
   "cell_type": "code",
   "execution_count": 59,
   "metadata": {},
   "outputs": [],
   "source": [
    "import os\n",
    "import glob\n",
    "import ollama\n",
    "import chromadb as CM\n",
    "from chromadb import Settings, EmbeddingFunction, Embeddings"
   ]
  },
  {
   "cell_type": "markdown",
   "metadata": {},
   "source": [
    "## Create embeddings"
   ]
  },
  {
   "cell_type": "code",
   "execution_count": 60,
   "metadata": {},
   "outputs": [],
   "source": [
    "ollama_client = ollama.Client(\n",
    "    host=\"https://b068-34-73-226-109.ngrok-free.app/\",\n",
    "    headers={\"Header\": \"application/json\"},\n",
    ")\n",
    "import numpy as np\n",
    "\n",
    "\n",
    "class MyEmbeddingFunction(EmbeddingFunction):\n",
    "    def __call__(self, input: str) -> Embeddings:\n",
    "        embeddings = ollama_client.embed(\n",
    "            model=\"mxbai-embed-large\",\n",
    "            input=input,\n",
    "        )\n",
    "        return np.array(embeddings.embeddings)"
   ]
  },
  {
   "cell_type": "markdown",
   "metadata": {},
   "source": [
    "## Create vector db\n"
   ]
  },
  {
   "cell_type": "code",
   "execution_count": 61,
   "metadata": {},
   "outputs": [],
   "source": [
    "client = CM.PersistentClient(\n",
    "    path=\"../data/vector\",\n",
    "    settings=Settings(\n",
    "        allow_reset=True,\n",
    "    ),\n",
    ")\n",
    "client.reset()\n",
    "\n",
    "\n",
    "collection = client.create_collection(\n",
    "    \"VNLaws\", embedding_function=MyEmbeddingFunction()\n",
    ")"
   ]
  },
  {
   "cell_type": "code",
   "execution_count": null,
   "metadata": {},
   "outputs": [],
   "source": [
    "chunk_folder = \"../data/chunk/TaiChinh\"\n",
    "\n",
    "\n",
    "# Read chunks and push embeddings into vector DB\n",
    "for chunk_file in glob.glob(os.path.join(chunk_folder, \"**.txt\")):\n",
    "    with open(chunk_file, \"r\", encoding=\"utf-8\") as f:\n",
    "        chunk_text = f.read()\n",
    "        print(chunk_file)\n",
    "\n",
    "        # push to vector DB\n",
    "        collection.add(\n",
    "            documents=[chunk_text],\n",
    "            ids=[str(hash(chunk_text))],\n",
    "        )"
   ]
  },
  {
   "cell_type": "markdown",
   "metadata": {},
   "source": [
    "## Query\n"
   ]
  },
  {
   "cell_type": "code",
   "execution_count": null,
   "metadata": {},
   "outputs": [],
   "source": [
    "collection.query(\n",
    "    query_texts=[\"Cổng thông tin điện tử\"],\n",
    "    n_results=1,\n",
    ")\n",
    "# https://docs.trychroma.com/docs/querying-collections/query-and-get"
   ]
  }
 ],
 "metadata": {
  "kernelspec": {
   "display_name": "venv",
   "language": "python",
   "name": "python3"
  },
  "language_info": {
   "codemirror_mode": {
    "name": "ipython",
    "version": 3
   },
   "file_extension": ".py",
   "mimetype": "text/x-python",
   "name": "python",
   "nbconvert_exporter": "python",
   "pygments_lexer": "ipython3",
   "version": "3.10.11"
  }
 },
 "nbformat": 4,
 "nbformat_minor": 2
}
