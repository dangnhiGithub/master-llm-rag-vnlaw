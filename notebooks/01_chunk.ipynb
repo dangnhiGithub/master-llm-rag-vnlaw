{
 "cells": [
  {
   "cell_type": "code",
   "execution_count": 1,
   "metadata": {},
   "outputs": [],
   "source": [
    "from langchain_text_splitters import RecursiveCharacterTextSplitter\n",
    "from tiktoken import get_encoding\n",
    "import glob, os\n"
   ]
  },
  {
   "cell_type": "code",
   "execution_count": 33,
   "metadata": {},
   "outputs": [],
   "source": [
    "def count_token(text:str) -> int:\n",
    "    \"count token of text\"\n",
    "    encoder = get_encoding('cl100k_base')\n",
    "    tokens = encoder.encode(text)\n",
    "    return len(tokens)\n",
    "\n",
    "def save_chunks(chunks:list, chunk_folder:str, file_name:str):\n",
    "    for idx, c in enumerate(chunks):\n",
    "        chunk_path = os.path.join(chunk_folder, f\"{file_name}_{idx}.txt\")\n",
    "        with open(chunk_path, 'w', encoding= 'utf-8') as f:\n",
    "            f.write(c)\n",
    "    print(f\"Saved {len(chunks)} chunks\")"
   ]
  },
  {
   "cell_type": "code",
   "execution_count": 34,
   "metadata": {},
   "outputs": [],
   "source": [
    "text_splitter = RecursiveCharacterTextSplitter(\n",
    "    # Set a really small chunk size, just to show.\n",
    "    chunk_size=512,\n",
    "    chunk_overlap=20,\n",
    "    length_function=count_token,\n",
    "    is_separator_regex=False,\n",
    "    separators=[\n",
    "        \"\\n\\n\",\n",
    "        \"\\n\",\n",
    "        \" \",\n",
    "        \".\",\n",
    "        \",\",\n",
    "        \"\\u200b\",  # Zero-width space\n",
    "        \"\\uff0c\",  # Fullwidth comma\n",
    "        \"\\u3001\",  # Ideographic comma\n",
    "        \"\\uff0e\",  # Fullwidth full stop\n",
    "        \"\\u3002\",  # Ideographic full stop\n",
    "        \"\",\n",
    "    ],\n",
    ")"
   ]
  },
  {
   "cell_type": "markdown",
   "metadata": {},
   "source": [
    "## Chunk Luật tài chính\n"
   ]
  },
  {
   "cell_type": "code",
   "execution_count": null,
   "metadata": {},
   "outputs": [],
   "source": [
    "text_folder = '../data/raw/'\n",
    "chunk_folder = '../data/chunk/TaiChinh'\n",
    "\n",
    "os.makedirs(chunk_folder, exist_ok=True)\n",
    "\n",
    "text_files = glob.glob(os.path.join(text_folder,\"*/**.txt\"))\n",
    "\n",
    "for file in text_files[:2]:\n",
    "    file_name = os.path.splitext(os.path.basename(file))[0]\n",
    "    \n",
    "    \n",
    "    # Read txt files\n",
    "    with open(file, 'r', encoding='utf-8') as f:\n",
    "        text = f.read()\n",
    "\n",
    "    # Chunk txt and save \n",
    "    chunks = text_splitter.split_text(text)\n",
    "    save_chunks(chunks,chunk_folder, file_name)\n"
   ]
  }
 ],
 "metadata": {
  "kernelspec": {
   "display_name": "venv",
   "language": "python",
   "name": "python3"
  },
  "language_info": {
   "codemirror_mode": {
    "name": "ipython",
    "version": 3
   },
   "file_extension": ".py",
   "mimetype": "text/x-python",
   "name": "python",
   "nbconvert_exporter": "python",
   "pygments_lexer": "ipython3",
   "version": "3.10.11"
  }
 },
 "nbformat": 4,
 "nbformat_minor": 2
}
